{
 "cells": [
  {
   "cell_type": "code",
   "execution_count": 1,
   "metadata": {},
   "outputs": [
    {
     "name": "stderr",
     "output_type": "stream",
     "text": [
      "/Users/vladimiragishev/Desktop/Code/Python/RecSys/universalrecsys-hack/venv/lib/python3.10/site-packages/lightfm/_lightfm_fast.py:9: UserWarning: LightFM was compiled without OpenMP support. Only a single thread will be used.\n",
      "  warnings.warn(\n"
     ]
    }
   ],
   "source": [
    "import pandas as pd\n",
    "\n",
    "from utils import *\n",
    "from sklearn.metrics import accuracy_score, confusion_matrix, f1_score, roc_auc_score\n",
    "from lightfm import LightFM\n",
    "from catboost import CatBoostClassifier\n",
    "from sklearn.metrics import roc_auc_score\n",
    "from tqdm import tqdm\n",
    "from recbole.utils import init_logger, get_model, init_seed\n",
    "import pickle\n",
    "from logging import getLogger\n",
    "import torch\n",
    "from recbole.data import create_dataset, data_preparation\n",
    "from models import *\n",
    "from implicit.nearest_neighbours import CosineRecommender, BM25Recommender, TFIDFRecommender\n",
    "import scipy.sparse as sp"
   ]
  },
  {
   "cell_type": "code",
   "execution_count": 2,
   "metadata": {},
   "outputs": [],
   "source": [
    "class COSIN:\n",
    "\n",
    "    def __init__(self, data, top_N=10, mdl_params={}, filter_already_liked_items=True):\n",
    "        self.data=data\n",
    "        self.model = CosineRecommender(**mdl_params)\n",
    "        self.filter_already_liked_items = filter_already_liked_items\n",
    "        self.top_N = top_N\n",
    "        self.users_inv_mapping = dict(enumerate(data['user_id'].unique()))\n",
    "        self.users_mapping = {v: k for k, v in self.users_inv_mapping.items()}\n",
    "        self.items_inv_mapping = dict(enumerate(data['item_id'].unique()))\n",
    "        self.items_mapping = {v: k for k, v in self.items_inv_mapping.items()}\n",
    "\n",
    "    def get_coo_matrix(self, df,\n",
    "                       user_col='user_id',\n",
    "                       item_col='item_id',\n",
    "                       weight_col=None):\n",
    "        if weight_col is None:\n",
    "            weights = np.ones(len(df), dtype=np.float32)\n",
    "        else:\n",
    "            weights = df[weight_col].astype(np.float32)\n",
    "        interaction_matrix = sp.coo_matrix((\n",
    "            weights,\n",
    "            (\n",
    "                df[user_col].map(self.users_mapping),\n",
    "                df[item_col].map(self.items_mapping)\n",
    "            )\n",
    "        ))\n",
    "        return interaction_matrix\n",
    "\n",
    "    def train(self):\n",
    "        # preprocess matrix\n",
    "        self.train_mat = self.get_coo_matrix(df = self.data).tocsr()\n",
    "        self.model.fit(self.train_mat)\n",
    "        return\n",
    "\n",
    " \n",
    "\n",
    "    def predict(self, users):\n",
    "        userids = [self.users_mapping[u] for u in users]\n",
    "        recs, scores = self.model.recommend(userids, self.train_mat[userids], self.top_N,\n",
    "                               filter_already_liked_items=self.filter_already_liked_items)\n",
    "\n",
    "        a = pd.DataFrame({'users':users, 'item_id':(r for r in recs)})\n",
    "        a = a.explode('item_id').reset_index(drop=True)\n",
    "        a['rnk'] = a.groupby('users').cumcount()+1\n",
    "        a['items'] = a['item_id'].map(self.items_inv_mapping)\n",
    "        return a"
   ]
  },
  {
   "cell_type": "code",
   "execution_count": 3,
   "metadata": {},
   "outputs": [],
   "source": [
    "def add_embeddings(df):\n",
    "    def embeddings_giver(row):\n",
    "        if str(row) in mapper['item_id']:\n",
    "            internal_index = mapper['item_id'][str(row)]\n",
    "            emb = embeddings[:][internal_index]\n",
    "        else:\n",
    "            emb = np.ones(64)\n",
    "        return emb\n",
    "    column_names = []\n",
    "    df['embedding'] = df['item_id'].apply(embeddings_giver)\n",
    "    for i in range(64):\n",
    "        column_names.append(f\"column_{i + 1}\")\n",
    "\n",
    "    # Now you can assign values to these new columns based on your needs, for example:\n",
    "    # Let's say you want to fill the new columns with values from the 'embedding' column\n",
    "    df[column_names] = pd.DataFrame(df.embedding.tolist(), index= df.index)\n",
    "    df.drop('embedding', axis=1, inplace=True)\n",
    "    return df, column_names"
   ]
  },
  {
   "cell_type": "code",
   "execution_count": 6,
   "metadata": {},
   "outputs": [],
   "source": [
    "interactions = pd.read_table('leaderboard/gardening_train.tsv')\n",
    "interactions_val = pd.read_table('leaderboard/gardening_test.tsv')"
   ]
  },
  {
   "cell_type": "code",
   "execution_count": 177,
   "metadata": {},
   "outputs": [],
   "source": [
    "all_data = pd.read_csv('leaderboard_new_feats.csv', index_col='Unnamed: 0')"
   ]
  },
  {
   "cell_type": "code",
   "execution_count": 180,
   "metadata": {},
   "outputs": [],
   "source": [
    "interactions.rename(columns={'receipt_id':'user_id'}, inplace=True)"
   ]
  },
  {
   "cell_type": "code",
   "execution_count": 181,
   "metadata": {},
   "outputs": [],
   "source": [
    "devices_dict = {}\n",
    "devices = interactions.device_id.unique()\n",
    "for i in range(0, len(devices)):\n",
    "    devices_dict[devices[i]] = i"
   ]
  },
  {
   "cell_type": "code",
   "execution_count": 182,
   "metadata": {},
   "outputs": [],
   "source": [
    "def add_devices(df, father_df):\n",
    "    def device_mapper(user_id):\n",
    "        device = father_df.loc[father_df['user_id'] == user_id, 'device_id'].values[0]\n",
    "        if device in devices_dict:\n",
    "            return devices_dict[device]\n",
    "        else:\n",
    "            return -1\n",
    "    df['device_number'] = df['user_id'].apply(device_mapper)\n",
    "    return df\n"
   ]
  },
  {
   "cell_type": "code",
   "execution_count": 183,
   "metadata": {},
   "outputs": [],
   "source": [
    "cosin_model = COSIN(interactions, top_N=50)"
   ]
  },
  {
   "cell_type": "code",
   "execution_count": 184,
   "metadata": {},
   "outputs": [
    {
     "name": "stderr",
     "output_type": "stream",
     "text": [
      "/Users/vladimiragishev/Desktop/Code/Python/RecSys/universalrecsys-hack/venv/lib/python3.10/site-packages/implicit/utils.py:138: ParameterWarning: Method expects CSR input, and was passed coo_matrix instead. Converting to CSR took 0.0006136894226074219 seconds\n",
      "  warnings.warn(\n"
     ]
    },
    {
     "data": {
      "application/vnd.jupyter.widget-view+json": {
       "model_id": "ac0f4ca5d778430f8cd9c8928a4a207a",
       "version_major": 2,
       "version_minor": 0
      },
      "text/plain": [
       "  0%|          | 0/12767 [00:00<?, ?it/s]"
      ]
     },
     "metadata": {},
     "output_type": "display_data"
    }
   ],
   "source": [
    "cosin_model.train()"
   ]
  },
  {
   "cell_type": "code",
   "execution_count": 185,
   "metadata": {},
   "outputs": [],
   "source": [
    "cos_candidates = cosin_model.predict(interactions['user_id'].unique())"
   ]
  },
  {
   "cell_type": "code",
   "execution_count": 186,
   "metadata": {},
   "outputs": [],
   "source": [
    "cos_candidates = cos_candidates[['users', 'rnk', 'items']]"
   ]
  },
  {
   "cell_type": "code",
   "execution_count": 187,
   "metadata": {},
   "outputs": [],
   "source": [
    "cos_candidates.columns = ['user_id', 'rank_cos', 'item_id']"
   ]
  },
  {
   "cell_type": "code",
   "execution_count": 188,
   "metadata": {},
   "outputs": [],
   "source": [
    "cos_candidates['item_id'] = cos_candidates['item_id']"
   ]
  },
  {
   "cell_type": "code",
   "execution_count": 189,
   "metadata": {},
   "outputs": [
    {
     "data": {
      "text/plain": [
       "0         308788\n",
       "1         300482\n",
       "2         312268\n",
       "3         308264\n",
       "4         309245\n",
       "           ...  \n",
       "458545    305594\n",
       "458546    313827\n",
       "458547    309583\n",
       "458548    305474\n",
       "458549    308826\n",
       "Name: item_id, Length: 458550, dtype: object"
      ]
     },
     "execution_count": 189,
     "metadata": {},
     "output_type": "execute_result"
    }
   ],
   "source": [
    "cos_candidates['item_id']"
   ]
  },
  {
   "cell_type": "code",
   "execution_count": 190,
   "metadata": {},
   "outputs": [
    {
     "name": "stderr",
     "output_type": "stream",
     "text": [
      "100%|██████████| 15/15 [00:00<00:00, 76.40it/s]\n"
     ]
    }
   ],
   "source": [
    "popular_model = train_popular_model(interactions)\n",
    "popular_candidates = popularmakePreds(popular_model, interactions, 50)\n",
    "\n",
    "cooc_models = {}\n",
    "cooc_reccomender = train_cooc_model(train)\n",
    "for device_id in train['device_id'].unique():\n",
    "    cooc_models[device_id] = CoocurenceRecommender(cooc_reccomender[device_id])"
   ]
  },
  {
   "cell_type": "code",
   "execution_count": 48,
   "metadata": {},
   "outputs": [
    {
     "data": {
      "text/plain": [
       "(3669, 183450)"
      ]
     },
     "execution_count": 48,
     "metadata": {},
     "output_type": "execute_result"
    }
   ],
   "source": [
    "X_test['user_id'].nunique(), X_test['user_id'].nunique() * 50"
   ]
  },
  {
   "cell_type": "code",
   "execution_count": 191,
   "metadata": {},
   "outputs": [],
   "source": [
    "coon_candidates = coocmakePreds(cooc_models, interactions, 50)"
   ]
  },
  {
   "cell_type": "code",
   "execution_count": 53,
   "metadata": {},
   "outputs": [
    {
     "data": {
      "text/plain": [
       "user_id         object\n",
       "item_id         object\n",
       "rank_popular     int64\n",
       "dtype: object"
      ]
     },
     "execution_count": 53,
     "metadata": {},
     "output_type": "execute_result"
    }
   ],
   "source": [
    "popular_candidates.dtypes"
   ]
  },
  {
   "cell_type": "code",
   "execution_count": 192,
   "metadata": {},
   "outputs": [],
   "source": [
    "coon_candidates['item_id'] = coon_candidates['item_id'].astype(str)"
   ]
  },
  {
   "cell_type": "code",
   "execution_count": 193,
   "metadata": {},
   "outputs": [],
   "source": [
    "candidates = pd.merge(coon_candidates, popular_candidates, on=['user_id', 'item_id'], how='outer')\n",
    "candidates = pd.merge(candidates, cos_candidates, on=['user_id', 'item_id'], how='outer')"
   ]
  },
  {
   "cell_type": "code",
   "execution_count": 194,
   "metadata": {},
   "outputs": [
    {
     "data": {
      "text/html": [
       "<div>\n",
       "<style scoped>\n",
       "    .dataframe tbody tr th:only-of-type {\n",
       "        vertical-align: middle;\n",
       "    }\n",
       "\n",
       "    .dataframe tbody tr th {\n",
       "        vertical-align: top;\n",
       "    }\n",
       "\n",
       "    .dataframe thead th {\n",
       "        text-align: right;\n",
       "    }\n",
       "</style>\n",
       "<table border=\"1\" class=\"dataframe\">\n",
       "  <thead>\n",
       "    <tr style=\"text-align: right;\">\n",
       "      <th></th>\n",
       "      <th>user_id</th>\n",
       "      <th>item_id</th>\n",
       "      <th>rank_cooc</th>\n",
       "      <th>rank_popular</th>\n",
       "      <th>rank_cos</th>\n",
       "    </tr>\n",
       "  </thead>\n",
       "  <tbody>\n",
       "    <tr>\n",
       "      <th>0</th>\n",
       "      <td>10429502812</td>\n",
       "      <td>302930</td>\n",
       "      <td>1.0</td>\n",
       "      <td>NaN</td>\n",
       "      <td>NaN</td>\n",
       "    </tr>\n",
       "    <tr>\n",
       "      <th>1</th>\n",
       "      <td>10827475736</td>\n",
       "      <td>302710</td>\n",
       "      <td>1.0</td>\n",
       "      <td>NaN</td>\n",
       "      <td>NaN</td>\n",
       "    </tr>\n",
       "    <tr>\n",
       "      <th>2</th>\n",
       "      <td>10827475736</td>\n",
       "      <td>303178</td>\n",
       "      <td>2.0</td>\n",
       "      <td>NaN</td>\n",
       "      <td>NaN</td>\n",
       "    </tr>\n",
       "    <tr>\n",
       "      <th>3</th>\n",
       "      <td>10827475736</td>\n",
       "      <td>302357</td>\n",
       "      <td>3.0</td>\n",
       "      <td>NaN</td>\n",
       "      <td>NaN</td>\n",
       "    </tr>\n",
       "    <tr>\n",
       "      <th>4</th>\n",
       "      <td>10827475736</td>\n",
       "      <td>303870</td>\n",
       "      <td>4.0</td>\n",
       "      <td>12.0</td>\n",
       "      <td>NaN</td>\n",
       "    </tr>\n",
       "    <tr>\n",
       "      <th>...</th>\n",
       "      <td>...</td>\n",
       "      <td>...</td>\n",
       "      <td>...</td>\n",
       "      <td>...</td>\n",
       "      <td>...</td>\n",
       "    </tr>\n",
       "    <tr>\n",
       "      <th>915367</th>\n",
       "      <td>16206741706</td>\n",
       "      <td>305594</td>\n",
       "      <td>NaN</td>\n",
       "      <td>NaN</td>\n",
       "      <td>46.0</td>\n",
       "    </tr>\n",
       "    <tr>\n",
       "      <th>915368</th>\n",
       "      <td>16206741706</td>\n",
       "      <td>313827</td>\n",
       "      <td>NaN</td>\n",
       "      <td>NaN</td>\n",
       "      <td>47.0</td>\n",
       "    </tr>\n",
       "    <tr>\n",
       "      <th>915369</th>\n",
       "      <td>16206741706</td>\n",
       "      <td>309583</td>\n",
       "      <td>NaN</td>\n",
       "      <td>NaN</td>\n",
       "      <td>48.0</td>\n",
       "    </tr>\n",
       "    <tr>\n",
       "      <th>915370</th>\n",
       "      <td>16206741706</td>\n",
       "      <td>305474</td>\n",
       "      <td>NaN</td>\n",
       "      <td>NaN</td>\n",
       "      <td>49.0</td>\n",
       "    </tr>\n",
       "    <tr>\n",
       "      <th>915371</th>\n",
       "      <td>16206741706</td>\n",
       "      <td>308826</td>\n",
       "      <td>NaN</td>\n",
       "      <td>NaN</td>\n",
       "      <td>50.0</td>\n",
       "    </tr>\n",
       "  </tbody>\n",
       "</table>\n",
       "<p>915372 rows × 5 columns</p>\n",
       "</div>"
      ],
      "text/plain": [
       "            user_id item_id  rank_cooc  rank_popular  rank_cos\n",
       "0       10429502812  302930        1.0           NaN       NaN\n",
       "1       10827475736  302710        1.0           NaN       NaN\n",
       "2       10827475736  303178        2.0           NaN       NaN\n",
       "3       10827475736  302357        3.0           NaN       NaN\n",
       "4       10827475736  303870        4.0          12.0       NaN\n",
       "...             ...     ...        ...           ...       ...\n",
       "915367  16206741706  305594        NaN           NaN      46.0\n",
       "915368  16206741706  313827        NaN           NaN      47.0\n",
       "915369  16206741706  309583        NaN           NaN      48.0\n",
       "915370  16206741706  305474        NaN           NaN      49.0\n",
       "915371  16206741706  308826        NaN           NaN      50.0\n",
       "\n",
       "[915372 rows x 5 columns]"
      ]
     },
     "execution_count": 194,
     "metadata": {},
     "output_type": "execute_result"
    }
   ],
   "source": [
    "candidates"
   ]
  },
  {
   "cell_type": "code",
   "execution_count": 195,
   "metadata": {},
   "outputs": [],
   "source": [
    "all_data.drop('local_date', axis=1, inplace=True)"
   ]
  },
  {
   "cell_type": "code",
   "execution_count": 196,
   "metadata": {},
   "outputs": [],
   "source": [
    "all_data = all_data.rename(columns={'local_dt':'local_date', 'receipt_id':'user_id'})"
   ]
  },
  {
   "cell_type": "code",
   "execution_count": 197,
   "metadata": {},
   "outputs": [],
   "source": [
    "y_test['target'] = 1"
   ]
  },
  {
   "cell_type": "code",
   "execution_count": 198,
   "metadata": {},
   "outputs": [],
   "source": [
    "items_df = pd.DataFrame({'item_id': interactions['item_id'].unique()})"
   ]
  },
  {
   "cell_type": "code",
   "execution_count": 199,
   "metadata": {},
   "outputs": [],
   "source": [
    "items_nan = items_df[~items_df['item_id'].isin(candidates['item_id'])]"
   ]
  },
  {
   "cell_type": "code",
   "execution_count": 200,
   "metadata": {},
   "outputs": [],
   "source": [
    "user_fake = {}\n",
    "for user in X_test['user_id'].unique():\n",
    "    user_fake[user] = list(items_nan.sample(15)['item_id'].values)"
   ]
  },
  {
   "cell_type": "code",
   "execution_count": 201,
   "metadata": {},
   "outputs": [],
   "source": [
    "user_fake_df = pd.DataFrame(list(user_fake.items()))"
   ]
  },
  {
   "cell_type": "code",
   "execution_count": 202,
   "metadata": {},
   "outputs": [],
   "source": [
    "user_fake_df.columns = ['user_id', 'item_id']\n",
    "user_fake_df = user_fake_df.explode('item_id')"
   ]
  },
  {
   "cell_type": "code",
   "execution_count": 203,
   "metadata": {},
   "outputs": [],
   "source": [
    "user_fake_df['rank_cooc'] = np.nan\n",
    "user_fake_df['rank_popular'] = np.nan\n",
    "user_fake_df['rank_cos'] = np.nan"
   ]
  },
  {
   "cell_type": "code",
   "execution_count": 204,
   "metadata": {},
   "outputs": [
    {
     "data": {
      "text/html": [
       "<div>\n",
       "<style scoped>\n",
       "    .dataframe tbody tr th:only-of-type {\n",
       "        vertical-align: middle;\n",
       "    }\n",
       "\n",
       "    .dataframe tbody tr th {\n",
       "        vertical-align: top;\n",
       "    }\n",
       "\n",
       "    .dataframe thead th {\n",
       "        text-align: right;\n",
       "    }\n",
       "</style>\n",
       "<table border=\"1\" class=\"dataframe\">\n",
       "  <thead>\n",
       "    <tr style=\"text-align: right;\">\n",
       "      <th></th>\n",
       "      <th>user_id</th>\n",
       "      <th>item_id</th>\n",
       "      <th>rank_cooc</th>\n",
       "      <th>rank_popular</th>\n",
       "      <th>rank_cos</th>\n",
       "    </tr>\n",
       "  </thead>\n",
       "  <tbody>\n",
       "    <tr>\n",
       "      <th>0</th>\n",
       "      <td>10007227728</td>\n",
       "      <td>308734</td>\n",
       "      <td>NaN</td>\n",
       "      <td>NaN</td>\n",
       "      <td>NaN</td>\n",
       "    </tr>\n",
       "    <tr>\n",
       "      <th>0</th>\n",
       "      <td>10007227728</td>\n",
       "      <td>303737</td>\n",
       "      <td>NaN</td>\n",
       "      <td>NaN</td>\n",
       "      <td>NaN</td>\n",
       "    </tr>\n",
       "    <tr>\n",
       "      <th>0</th>\n",
       "      <td>10007227728</td>\n",
       "      <td>309368</td>\n",
       "      <td>NaN</td>\n",
       "      <td>NaN</td>\n",
       "      <td>NaN</td>\n",
       "    </tr>\n",
       "    <tr>\n",
       "      <th>0</th>\n",
       "      <td>10007227728</td>\n",
       "      <td>301741</td>\n",
       "      <td>NaN</td>\n",
       "      <td>NaN</td>\n",
       "      <td>NaN</td>\n",
       "    </tr>\n",
       "    <tr>\n",
       "      <th>0</th>\n",
       "      <td>10007227728</td>\n",
       "      <td>309862</td>\n",
       "      <td>NaN</td>\n",
       "      <td>NaN</td>\n",
       "      <td>NaN</td>\n",
       "    </tr>\n",
       "    <tr>\n",
       "      <th>...</th>\n",
       "      <td>...</td>\n",
       "      <td>...</td>\n",
       "      <td>...</td>\n",
       "      <td>...</td>\n",
       "      <td>...</td>\n",
       "    </tr>\n",
       "    <tr>\n",
       "      <th>3668</th>\n",
       "      <td>9995440514</td>\n",
       "      <td>310808</td>\n",
       "      <td>NaN</td>\n",
       "      <td>NaN</td>\n",
       "      <td>NaN</td>\n",
       "    </tr>\n",
       "    <tr>\n",
       "      <th>3668</th>\n",
       "      <td>9995440514</td>\n",
       "      <td>309645</td>\n",
       "      <td>NaN</td>\n",
       "      <td>NaN</td>\n",
       "      <td>NaN</td>\n",
       "    </tr>\n",
       "    <tr>\n",
       "      <th>3668</th>\n",
       "      <td>9995440514</td>\n",
       "      <td>310313</td>\n",
       "      <td>NaN</td>\n",
       "      <td>NaN</td>\n",
       "      <td>NaN</td>\n",
       "    </tr>\n",
       "    <tr>\n",
       "      <th>3668</th>\n",
       "      <td>9995440514</td>\n",
       "      <td>310689</td>\n",
       "      <td>NaN</td>\n",
       "      <td>NaN</td>\n",
       "      <td>NaN</td>\n",
       "    </tr>\n",
       "    <tr>\n",
       "      <th>3668</th>\n",
       "      <td>9995440514</td>\n",
       "      <td>308235</td>\n",
       "      <td>NaN</td>\n",
       "      <td>NaN</td>\n",
       "      <td>NaN</td>\n",
       "    </tr>\n",
       "  </tbody>\n",
       "</table>\n",
       "<p>55035 rows × 5 columns</p>\n",
       "</div>"
      ],
      "text/plain": [
       "          user_id item_id  rank_cooc  rank_popular  rank_cos\n",
       "0     10007227728  308734        NaN           NaN       NaN\n",
       "0     10007227728  303737        NaN           NaN       NaN\n",
       "0     10007227728  309368        NaN           NaN       NaN\n",
       "0     10007227728  301741        NaN           NaN       NaN\n",
       "0     10007227728  309862        NaN           NaN       NaN\n",
       "...           ...     ...        ...           ...       ...\n",
       "3668   9995440514  310808        NaN           NaN       NaN\n",
       "3668   9995440514  309645        NaN           NaN       NaN\n",
       "3668   9995440514  310313        NaN           NaN       NaN\n",
       "3668   9995440514  310689        NaN           NaN       NaN\n",
       "3668   9995440514  308235        NaN           NaN       NaN\n",
       "\n",
       "[55035 rows x 5 columns]"
      ]
     },
     "execution_count": 204,
     "metadata": {},
     "output_type": "execute_result"
    }
   ],
   "source": [
    "user_fake_df"
   ]
  },
  {
   "cell_type": "code",
   "execution_count": 205,
   "metadata": {},
   "outputs": [],
   "source": [
    "candidates = pd.concat([candidates, user_fake_df])"
   ]
  },
  {
   "cell_type": "code",
   "execution_count": 206,
   "metadata": {},
   "outputs": [
    {
     "data": {
      "text/html": [
       "<div>\n",
       "<style scoped>\n",
       "    .dataframe tbody tr th:only-of-type {\n",
       "        vertical-align: middle;\n",
       "    }\n",
       "\n",
       "    .dataframe tbody tr th {\n",
       "        vertical-align: top;\n",
       "    }\n",
       "\n",
       "    .dataframe thead th {\n",
       "        text-align: right;\n",
       "    }\n",
       "</style>\n",
       "<table border=\"1\" class=\"dataframe\">\n",
       "  <thead>\n",
       "    <tr style=\"text-align: right;\">\n",
       "      <th></th>\n",
       "      <th>user_id</th>\n",
       "      <th>item_id</th>\n",
       "      <th>rank_cooc</th>\n",
       "      <th>rank_popular</th>\n",
       "      <th>rank_cos</th>\n",
       "      <th>target</th>\n",
       "    </tr>\n",
       "  </thead>\n",
       "  <tbody>\n",
       "    <tr>\n",
       "      <th>0</th>\n",
       "      <td>10429502812</td>\n",
       "      <td>302930</td>\n",
       "      <td>1.0</td>\n",
       "      <td>NaN</td>\n",
       "      <td>NaN</td>\n",
       "      <td>NaN</td>\n",
       "    </tr>\n",
       "    <tr>\n",
       "      <th>1</th>\n",
       "      <td>10827475736</td>\n",
       "      <td>302710</td>\n",
       "      <td>1.0</td>\n",
       "      <td>NaN</td>\n",
       "      <td>NaN</td>\n",
       "      <td>NaN</td>\n",
       "    </tr>\n",
       "    <tr>\n",
       "      <th>2</th>\n",
       "      <td>10827475736</td>\n",
       "      <td>303178</td>\n",
       "      <td>2.0</td>\n",
       "      <td>NaN</td>\n",
       "      <td>NaN</td>\n",
       "      <td>NaN</td>\n",
       "    </tr>\n",
       "    <tr>\n",
       "      <th>3</th>\n",
       "      <td>10827475736</td>\n",
       "      <td>302357</td>\n",
       "      <td>3.0</td>\n",
       "      <td>NaN</td>\n",
       "      <td>NaN</td>\n",
       "      <td>NaN</td>\n",
       "    </tr>\n",
       "    <tr>\n",
       "      <th>4</th>\n",
       "      <td>10827475736</td>\n",
       "      <td>303870</td>\n",
       "      <td>4.0</td>\n",
       "      <td>12.0</td>\n",
       "      <td>NaN</td>\n",
       "      <td>NaN</td>\n",
       "    </tr>\n",
       "    <tr>\n",
       "      <th>...</th>\n",
       "      <td>...</td>\n",
       "      <td>...</td>\n",
       "      <td>...</td>\n",
       "      <td>...</td>\n",
       "      <td>...</td>\n",
       "      <td>...</td>\n",
       "    </tr>\n",
       "    <tr>\n",
       "      <th>973096</th>\n",
       "      <td>9642569548</td>\n",
       "      <td>307814</td>\n",
       "      <td>NaN</td>\n",
       "      <td>NaN</td>\n",
       "      <td>NaN</td>\n",
       "      <td>1.0</td>\n",
       "    </tr>\n",
       "    <tr>\n",
       "      <th>973097</th>\n",
       "      <td>9691433735</td>\n",
       "      <td>305139</td>\n",
       "      <td>NaN</td>\n",
       "      <td>NaN</td>\n",
       "      <td>NaN</td>\n",
       "      <td>1.0</td>\n",
       "    </tr>\n",
       "    <tr>\n",
       "      <th>973098</th>\n",
       "      <td>9824154515</td>\n",
       "      <td>308414</td>\n",
       "      <td>NaN</td>\n",
       "      <td>NaN</td>\n",
       "      <td>NaN</td>\n",
       "      <td>1.0</td>\n",
       "    </tr>\n",
       "    <tr>\n",
       "      <th>973099</th>\n",
       "      <td>9849397170</td>\n",
       "      <td>301961</td>\n",
       "      <td>NaN</td>\n",
       "      <td>NaN</td>\n",
       "      <td>NaN</td>\n",
       "      <td>1.0</td>\n",
       "    </tr>\n",
       "    <tr>\n",
       "      <th>973100</th>\n",
       "      <td>9959940857</td>\n",
       "      <td>312164</td>\n",
       "      <td>NaN</td>\n",
       "      <td>NaN</td>\n",
       "      <td>NaN</td>\n",
       "      <td>1.0</td>\n",
       "    </tr>\n",
       "  </tbody>\n",
       "</table>\n",
       "<p>973101 rows × 6 columns</p>\n",
       "</div>"
      ],
      "text/plain": [
       "            user_id item_id  rank_cooc  rank_popular  rank_cos  target\n",
       "0       10429502812  302930        1.0           NaN       NaN     NaN\n",
       "1       10827475736  302710        1.0           NaN       NaN     NaN\n",
       "2       10827475736  303178        2.0           NaN       NaN     NaN\n",
       "3       10827475736  302357        3.0           NaN       NaN     NaN\n",
       "4       10827475736  303870        4.0          12.0       NaN     NaN\n",
       "...             ...     ...        ...           ...       ...     ...\n",
       "973096   9642569548  307814        NaN           NaN       NaN     1.0\n",
       "973097   9691433735  305139        NaN           NaN       NaN     1.0\n",
       "973098   9824154515  308414        NaN           NaN       NaN     1.0\n",
       "973099   9849397170  301961        NaN           NaN       NaN     1.0\n",
       "973100   9959940857  312164        NaN           NaN       NaN     1.0\n",
       "\n",
       "[973101 rows x 6 columns]"
      ]
     },
     "execution_count": 206,
     "metadata": {},
     "output_type": "execute_result"
    }
   ],
   "source": [
    "candidates = pd.merge(candidates, y_test, on=['user_id', 'item_id'], how='outer')\n",
    "candidates"
   ]
  },
  {
   "cell_type": "code",
   "execution_count": 207,
   "metadata": {},
   "outputs": [],
   "source": [
    "# Remove any remaining non-Russian characters (if needed)\n",
    "import re\n",
    "def keep_only_russian(text):\n",
    "    russian_pattern = re.compile('[А-Яа-я]+')\n",
    "    try:\n",
    "        answer = ' '.join(russian_pattern.findall(text))\n",
    "    except:\n",
    "        return 'Не опознан'\n",
    "    return answer\n",
    "\n"
   ]
  },
  {
   "cell_type": "code",
   "execution_count": 208,
   "metadata": {},
   "outputs": [
    {
     "data": {
      "text/html": [
       "<div>\n",
       "<style scoped>\n",
       "    .dataframe tbody tr th:only-of-type {\n",
       "        vertical-align: middle;\n",
       "    }\n",
       "\n",
       "    .dataframe tbody tr th {\n",
       "        vertical-align: top;\n",
       "    }\n",
       "\n",
       "    .dataframe thead th {\n",
       "        text-align: right;\n",
       "    }\n",
       "</style>\n",
       "<table border=\"1\" class=\"dataframe\">\n",
       "  <thead>\n",
       "    <tr style=\"text-align: right;\">\n",
       "      <th></th>\n",
       "      <th>user_id</th>\n",
       "      <th>item_id</th>\n",
       "      <th>rank_cooc</th>\n",
       "      <th>rank_popular</th>\n",
       "      <th>rank_cos</th>\n",
       "      <th>target</th>\n",
       "    </tr>\n",
       "  </thead>\n",
       "  <tbody>\n",
       "    <tr>\n",
       "      <th>0</th>\n",
       "      <td>10429502812</td>\n",
       "      <td>302930</td>\n",
       "      <td>1.0</td>\n",
       "      <td>NaN</td>\n",
       "      <td>NaN</td>\n",
       "      <td>NaN</td>\n",
       "    </tr>\n",
       "    <tr>\n",
       "      <th>1</th>\n",
       "      <td>10827475736</td>\n",
       "      <td>302710</td>\n",
       "      <td>1.0</td>\n",
       "      <td>NaN</td>\n",
       "      <td>NaN</td>\n",
       "      <td>NaN</td>\n",
       "    </tr>\n",
       "    <tr>\n",
       "      <th>2</th>\n",
       "      <td>10827475736</td>\n",
       "      <td>303178</td>\n",
       "      <td>2.0</td>\n",
       "      <td>NaN</td>\n",
       "      <td>NaN</td>\n",
       "      <td>NaN</td>\n",
       "    </tr>\n",
       "    <tr>\n",
       "      <th>3</th>\n",
       "      <td>10827475736</td>\n",
       "      <td>302357</td>\n",
       "      <td>3.0</td>\n",
       "      <td>NaN</td>\n",
       "      <td>NaN</td>\n",
       "      <td>NaN</td>\n",
       "    </tr>\n",
       "    <tr>\n",
       "      <th>4</th>\n",
       "      <td>10827475736</td>\n",
       "      <td>303870</td>\n",
       "      <td>4.0</td>\n",
       "      <td>12.0</td>\n",
       "      <td>NaN</td>\n",
       "      <td>NaN</td>\n",
       "    </tr>\n",
       "    <tr>\n",
       "      <th>...</th>\n",
       "      <td>...</td>\n",
       "      <td>...</td>\n",
       "      <td>...</td>\n",
       "      <td>...</td>\n",
       "      <td>...</td>\n",
       "      <td>...</td>\n",
       "    </tr>\n",
       "    <tr>\n",
       "      <th>973096</th>\n",
       "      <td>9642569548</td>\n",
       "      <td>307814</td>\n",
       "      <td>NaN</td>\n",
       "      <td>NaN</td>\n",
       "      <td>NaN</td>\n",
       "      <td>1.0</td>\n",
       "    </tr>\n",
       "    <tr>\n",
       "      <th>973097</th>\n",
       "      <td>9691433735</td>\n",
       "      <td>305139</td>\n",
       "      <td>NaN</td>\n",
       "      <td>NaN</td>\n",
       "      <td>NaN</td>\n",
       "      <td>1.0</td>\n",
       "    </tr>\n",
       "    <tr>\n",
       "      <th>973098</th>\n",
       "      <td>9824154515</td>\n",
       "      <td>308414</td>\n",
       "      <td>NaN</td>\n",
       "      <td>NaN</td>\n",
       "      <td>NaN</td>\n",
       "      <td>1.0</td>\n",
       "    </tr>\n",
       "    <tr>\n",
       "      <th>973099</th>\n",
       "      <td>9849397170</td>\n",
       "      <td>301961</td>\n",
       "      <td>NaN</td>\n",
       "      <td>NaN</td>\n",
       "      <td>NaN</td>\n",
       "      <td>1.0</td>\n",
       "    </tr>\n",
       "    <tr>\n",
       "      <th>973100</th>\n",
       "      <td>9959940857</td>\n",
       "      <td>312164</td>\n",
       "      <td>NaN</td>\n",
       "      <td>NaN</td>\n",
       "      <td>NaN</td>\n",
       "      <td>1.0</td>\n",
       "    </tr>\n",
       "  </tbody>\n",
       "</table>\n",
       "<p>973101 rows × 6 columns</p>\n",
       "</div>"
      ],
      "text/plain": [
       "            user_id item_id  rank_cooc  rank_popular  rank_cos  target\n",
       "0       10429502812  302930        1.0           NaN       NaN     NaN\n",
       "1       10827475736  302710        1.0           NaN       NaN     NaN\n",
       "2       10827475736  303178        2.0           NaN       NaN     NaN\n",
       "3       10827475736  302357        3.0           NaN       NaN     NaN\n",
       "4       10827475736  303870        4.0          12.0       NaN     NaN\n",
       "...             ...     ...        ...           ...       ...     ...\n",
       "973096   9642569548  307814        NaN           NaN       NaN     1.0\n",
       "973097   9691433735  305139        NaN           NaN       NaN     1.0\n",
       "973098   9824154515  308414        NaN           NaN       NaN     1.0\n",
       "973099   9849397170  301961        NaN           NaN       NaN     1.0\n",
       "973100   9959940857  312164        NaN           NaN       NaN     1.0\n",
       "\n",
       "[973101 rows x 6 columns]"
      ]
     },
     "execution_count": 208,
     "metadata": {},
     "output_type": "execute_result"
    }
   ],
   "source": [
    "candidates"
   ]
  },
  {
   "cell_type": "code",
   "execution_count": 209,
   "metadata": {},
   "outputs": [],
   "source": [
    "candidates['target'].fillna(0, inplace=True)"
   ]
  },
  {
   "cell_type": "code",
   "execution_count": 210,
   "metadata": {},
   "outputs": [
    {
     "data": {
      "text/plain": [
       "target\n",
       "0.0    969432\n",
       "1.0      3669\n",
       "Name: count, dtype: int64"
      ]
     },
     "execution_count": 210,
     "metadata": {},
     "output_type": "execute_result"
    }
   ],
   "source": [
    "candidates.target.value_counts()"
   ]
  },
  {
   "cell_type": "code",
   "execution_count": 211,
   "metadata": {},
   "outputs": [
    {
     "data": {
      "text/html": [
       "<div>\n",
       "<style scoped>\n",
       "    .dataframe tbody tr th:only-of-type {\n",
       "        vertical-align: middle;\n",
       "    }\n",
       "\n",
       "    .dataframe tbody tr th {\n",
       "        vertical-align: top;\n",
       "    }\n",
       "\n",
       "    .dataframe thead th {\n",
       "        text-align: right;\n",
       "    }\n",
       "</style>\n",
       "<table border=\"1\" class=\"dataframe\">\n",
       "  <thead>\n",
       "    <tr style=\"text-align: right;\">\n",
       "      <th></th>\n",
       "      <th>user_id</th>\n",
       "      <th>item_id</th>\n",
       "      <th>rank_cooc</th>\n",
       "      <th>rank_popular</th>\n",
       "      <th>rank_cos</th>\n",
       "      <th>target</th>\n",
       "    </tr>\n",
       "  </thead>\n",
       "  <tbody>\n",
       "    <tr>\n",
       "      <th>467800</th>\n",
       "      <td>11188696314</td>\n",
       "      <td>311914</td>\n",
       "      <td>NaN</td>\n",
       "      <td>NaN</td>\n",
       "      <td>2.0</td>\n",
       "      <td>1.0</td>\n",
       "    </tr>\n",
       "    <tr>\n",
       "      <th>467932</th>\n",
       "      <td>11199755052</td>\n",
       "      <td>303207</td>\n",
       "      <td>NaN</td>\n",
       "      <td>NaN</td>\n",
       "      <td>35.0</td>\n",
       "      <td>1.0</td>\n",
       "    </tr>\n",
       "    <tr>\n",
       "      <th>469167</th>\n",
       "      <td>11853229509</td>\n",
       "      <td>311235</td>\n",
       "      <td>NaN</td>\n",
       "      <td>NaN</td>\n",
       "      <td>38.0</td>\n",
       "      <td>1.0</td>\n",
       "    </tr>\n",
       "    <tr>\n",
       "      <th>469858</th>\n",
       "      <td>11984346378</td>\n",
       "      <td>304603</td>\n",
       "      <td>NaN</td>\n",
       "      <td>NaN</td>\n",
       "      <td>37.0</td>\n",
       "      <td>1.0</td>\n",
       "    </tr>\n",
       "    <tr>\n",
       "      <th>470182</th>\n",
       "      <td>13003621397</td>\n",
       "      <td>305808</td>\n",
       "      <td>NaN</td>\n",
       "      <td>NaN</td>\n",
       "      <td>20.0</td>\n",
       "      <td>1.0</td>\n",
       "    </tr>\n",
       "    <tr>\n",
       "      <th>...</th>\n",
       "      <td>...</td>\n",
       "      <td>...</td>\n",
       "      <td>...</td>\n",
       "      <td>...</td>\n",
       "      <td>...</td>\n",
       "      <td>...</td>\n",
       "    </tr>\n",
       "    <tr>\n",
       "      <th>973096</th>\n",
       "      <td>9642569548</td>\n",
       "      <td>307814</td>\n",
       "      <td>NaN</td>\n",
       "      <td>NaN</td>\n",
       "      <td>NaN</td>\n",
       "      <td>1.0</td>\n",
       "    </tr>\n",
       "    <tr>\n",
       "      <th>973097</th>\n",
       "      <td>9691433735</td>\n",
       "      <td>305139</td>\n",
       "      <td>NaN</td>\n",
       "      <td>NaN</td>\n",
       "      <td>NaN</td>\n",
       "      <td>1.0</td>\n",
       "    </tr>\n",
       "    <tr>\n",
       "      <th>973098</th>\n",
       "      <td>9824154515</td>\n",
       "      <td>308414</td>\n",
       "      <td>NaN</td>\n",
       "      <td>NaN</td>\n",
       "      <td>NaN</td>\n",
       "      <td>1.0</td>\n",
       "    </tr>\n",
       "    <tr>\n",
       "      <th>973099</th>\n",
       "      <td>9849397170</td>\n",
       "      <td>301961</td>\n",
       "      <td>NaN</td>\n",
       "      <td>NaN</td>\n",
       "      <td>NaN</td>\n",
       "      <td>1.0</td>\n",
       "    </tr>\n",
       "    <tr>\n",
       "      <th>973100</th>\n",
       "      <td>9959940857</td>\n",
       "      <td>312164</td>\n",
       "      <td>NaN</td>\n",
       "      <td>NaN</td>\n",
       "      <td>NaN</td>\n",
       "      <td>1.0</td>\n",
       "    </tr>\n",
       "  </tbody>\n",
       "</table>\n",
       "<p>3669 rows × 6 columns</p>\n",
       "</div>"
      ],
      "text/plain": [
       "            user_id item_id  rank_cooc  rank_popular  rank_cos  target\n",
       "467800  11188696314  311914        NaN           NaN       2.0     1.0\n",
       "467932  11199755052  303207        NaN           NaN      35.0     1.0\n",
       "469167  11853229509  311235        NaN           NaN      38.0     1.0\n",
       "469858  11984346378  304603        NaN           NaN      37.0     1.0\n",
       "470182  13003621397  305808        NaN           NaN      20.0     1.0\n",
       "...             ...     ...        ...           ...       ...     ...\n",
       "973096   9642569548  307814        NaN           NaN       NaN     1.0\n",
       "973097   9691433735  305139        NaN           NaN       NaN     1.0\n",
       "973098   9824154515  308414        NaN           NaN       NaN     1.0\n",
       "973099   9849397170  301961        NaN           NaN       NaN     1.0\n",
       "973100   9959940857  312164        NaN           NaN       NaN     1.0\n",
       "\n",
       "[3669 rows x 6 columns]"
      ]
     },
     "execution_count": 211,
     "metadata": {},
     "output_type": "execute_result"
    }
   ],
   "source": [
    "pos = candidates[candidates['target']==1]\n",
    "pos"
   ]
  },
  {
   "cell_type": "code",
   "execution_count": 212,
   "metadata": {},
   "outputs": [
    {
     "data": {
      "text/html": [
       "<div>\n",
       "<style scoped>\n",
       "    .dataframe tbody tr th:only-of-type {\n",
       "        vertical-align: middle;\n",
       "    }\n",
       "\n",
       "    .dataframe tbody tr th {\n",
       "        vertical-align: top;\n",
       "    }\n",
       "\n",
       "    .dataframe thead th {\n",
       "        text-align: right;\n",
       "    }\n",
       "</style>\n",
       "<table border=\"1\" class=\"dataframe\">\n",
       "  <thead>\n",
       "    <tr style=\"text-align: right;\">\n",
       "      <th></th>\n",
       "      <th>user_id</th>\n",
       "      <th>item_id</th>\n",
       "      <th>rank_cooc</th>\n",
       "      <th>rank_popular</th>\n",
       "      <th>rank_cos</th>\n",
       "      <th>target</th>\n",
       "    </tr>\n",
       "  </thead>\n",
       "  <tbody>\n",
       "    <tr>\n",
       "      <th>431303</th>\n",
       "      <td>15949514733</td>\n",
       "      <td>305832</td>\n",
       "      <td>NaN</td>\n",
       "      <td>37.0</td>\n",
       "      <td>NaN</td>\n",
       "      <td>0.0</td>\n",
       "    </tr>\n",
       "    <tr>\n",
       "      <th>403433</th>\n",
       "      <td>14646963180</td>\n",
       "      <td>307136</td>\n",
       "      <td>NaN</td>\n",
       "      <td>40.0</td>\n",
       "      <td>NaN</td>\n",
       "      <td>0.0</td>\n",
       "    </tr>\n",
       "    <tr>\n",
       "      <th>207680</th>\n",
       "      <td>11790262328</td>\n",
       "      <td>301058</td>\n",
       "      <td>NaN</td>\n",
       "      <td>13.0</td>\n",
       "      <td>NaN</td>\n",
       "      <td>0.0</td>\n",
       "    </tr>\n",
       "    <tr>\n",
       "      <th>865032</th>\n",
       "      <td>12863257021</td>\n",
       "      <td>305492</td>\n",
       "      <td>NaN</td>\n",
       "      <td>NaN</td>\n",
       "      <td>41.0</td>\n",
       "      <td>0.0</td>\n",
       "    </tr>\n",
       "    <tr>\n",
       "      <th>317475</th>\n",
       "      <td>11715537128</td>\n",
       "      <td>300590</td>\n",
       "      <td>NaN</td>\n",
       "      <td>11.0</td>\n",
       "      <td>NaN</td>\n",
       "      <td>0.0</td>\n",
       "    </tr>\n",
       "    <tr>\n",
       "      <th>...</th>\n",
       "      <td>...</td>\n",
       "      <td>...</td>\n",
       "      <td>...</td>\n",
       "      <td>...</td>\n",
       "      <td>...</td>\n",
       "      <td>...</td>\n",
       "    </tr>\n",
       "    <tr>\n",
       "      <th>333844</th>\n",
       "      <td>14877351842</td>\n",
       "      <td>312333</td>\n",
       "      <td>NaN</td>\n",
       "      <td>14.0</td>\n",
       "      <td>NaN</td>\n",
       "      <td>0.0</td>\n",
       "    </tr>\n",
       "    <tr>\n",
       "      <th>382064</th>\n",
       "      <td>14963050789</td>\n",
       "      <td>305803</td>\n",
       "      <td>NaN</td>\n",
       "      <td>47.0</td>\n",
       "      <td>NaN</td>\n",
       "      <td>0.0</td>\n",
       "    </tr>\n",
       "    <tr>\n",
       "      <th>719104</th>\n",
       "      <td>14617516774</td>\n",
       "      <td>301018</td>\n",
       "      <td>NaN</td>\n",
       "      <td>NaN</td>\n",
       "      <td>28.0</td>\n",
       "      <td>0.0</td>\n",
       "    </tr>\n",
       "    <tr>\n",
       "      <th>660287</th>\n",
       "      <td>11612286005</td>\n",
       "      <td>NaN</td>\n",
       "      <td>NaN</td>\n",
       "      <td>NaN</td>\n",
       "      <td>19.0</td>\n",
       "      <td>0.0</td>\n",
       "    </tr>\n",
       "    <tr>\n",
       "      <th>33129</th>\n",
       "      <td>10333798203</td>\n",
       "      <td>303922</td>\n",
       "      <td>NaN</td>\n",
       "      <td>8.0</td>\n",
       "      <td>NaN</td>\n",
       "      <td>0.0</td>\n",
       "    </tr>\n",
       "  </tbody>\n",
       "</table>\n",
       "<p>50000 rows × 6 columns</p>\n",
       "</div>"
      ],
      "text/plain": [
       "            user_id item_id  rank_cooc  rank_popular  rank_cos  target\n",
       "431303  15949514733  305832        NaN          37.0       NaN     0.0\n",
       "403433  14646963180  307136        NaN          40.0       NaN     0.0\n",
       "207680  11790262328  301058        NaN          13.0       NaN     0.0\n",
       "865032  12863257021  305492        NaN           NaN      41.0     0.0\n",
       "317475  11715537128  300590        NaN          11.0       NaN     0.0\n",
       "...             ...     ...        ...           ...       ...     ...\n",
       "333844  14877351842  312333        NaN          14.0       NaN     0.0\n",
       "382064  14963050789  305803        NaN          47.0       NaN     0.0\n",
       "719104  14617516774  301018        NaN           NaN      28.0     0.0\n",
       "660287  11612286005     NaN        NaN           NaN      19.0     0.0\n",
       "33129   10333798203  303922        NaN           8.0       NaN     0.0\n",
       "\n",
       "[50000 rows x 6 columns]"
      ]
     },
     "execution_count": 212,
     "metadata": {},
     "output_type": "execute_result"
    }
   ],
   "source": [
    "neg = candidates[candidates['target']==0].sample(int(50_000))\n",
    "# neg = pd.merge(neg, items_df, on='item_id', how=\"left\")\n",
    "# neg['name'] = neg['name'].apply(keep_only_russian)\n",
    "neg"
   ]
  },
  {
   "cell_type": "code",
   "execution_count": 213,
   "metadata": {},
   "outputs": [],
   "source": [
    "import warnings\n",
    "from pandas.errors import SettingWithCopyWarning\n",
    "warnings.simplefilter(action=\"ignore\", category=SettingWithCopyWarning)"
   ]
  },
  {
   "cell_type": "code",
   "execution_count": 82,
   "metadata": {},
   "outputs": [],
   "source": [
    "neg, embedding_columns = add_embeddings(neg)"
   ]
  },
  {
   "cell_type": "code",
   "execution_count": 85,
   "metadata": {},
   "outputs": [],
   "source": [
    "pos, _ = add_embeddings(pos)"
   ]
  },
  {
   "cell_type": "code",
   "execution_count": 217,
   "metadata": {},
   "outputs": [],
   "source": [
    "neg = add_devices(neg, interactions)"
   ]
  },
  {
   "cell_type": "code",
   "execution_count": null,
   "metadata": {},
   "outputs": [
    {
     "ename": "IndexError",
     "evalue": "index 0 is out of bounds for axis 0 with size 0",
     "output_type": "error",
     "traceback": [
      "\u001b[0;31m---------------------------------------------------------------------------\u001b[0m",
      "\u001b[0;31mIndexError\u001b[0m                                Traceback (most recent call last)",
      "\u001b[1;32m/Users/vladimiragishev/Desktop/Code/Python/RecSys/universalrecsys-hack/classic_model/noterbook_leaderboard.ipynb Cell 45\u001b[0m line \u001b[0;36m1\n\u001b[0;32m----> <a href='vscode-notebook-cell:/Users/vladimiragishev/Desktop/Code/Python/RecSys/universalrecsys-hack/classic_model/noterbook_leaderboard.ipynb#X61sZmlsZQ%3D%3D?line=0'>1</a>\u001b[0m pos \u001b[39m=\u001b[39m add_devices(pos, test)\n",
      "\u001b[1;32m/Users/vladimiragishev/Desktop/Code/Python/RecSys/universalrecsys-hack/classic_model/noterbook_leaderboard.ipynb Cell 45\u001b[0m line \u001b[0;36m8\n\u001b[1;32m      <a href='vscode-notebook-cell:/Users/vladimiragishev/Desktop/Code/Python/RecSys/universalrecsys-hack/classic_model/noterbook_leaderboard.ipynb#X61sZmlsZQ%3D%3D?line=5'>6</a>\u001b[0m     \u001b[39melse\u001b[39;00m:\n\u001b[1;32m      <a href='vscode-notebook-cell:/Users/vladimiragishev/Desktop/Code/Python/RecSys/universalrecsys-hack/classic_model/noterbook_leaderboard.ipynb#X61sZmlsZQ%3D%3D?line=6'>7</a>\u001b[0m         \u001b[39mreturn\u001b[39;00m \u001b[39m-\u001b[39m\u001b[39m1\u001b[39m\n\u001b[0;32m----> <a href='vscode-notebook-cell:/Users/vladimiragishev/Desktop/Code/Python/RecSys/universalrecsys-hack/classic_model/noterbook_leaderboard.ipynb#X61sZmlsZQ%3D%3D?line=7'>8</a>\u001b[0m df[\u001b[39m'\u001b[39m\u001b[39mdevice_number\u001b[39m\u001b[39m'\u001b[39m] \u001b[39m=\u001b[39m df[\u001b[39m'\u001b[39;49m\u001b[39muser_id\u001b[39;49m\u001b[39m'\u001b[39;49m]\u001b[39m.\u001b[39;49mapply(device_mapper)\n\u001b[1;32m      <a href='vscode-notebook-cell:/Users/vladimiragishev/Desktop/Code/Python/RecSys/universalrecsys-hack/classic_model/noterbook_leaderboard.ipynb#X61sZmlsZQ%3D%3D?line=8'>9</a>\u001b[0m \u001b[39mreturn\u001b[39;00m df\n",
      "File \u001b[0;32m~/Desktop/Code/Python/RecSys/universalrecsys-hack/venv/lib/python3.10/site-packages/pandas/core/series.py:4765\u001b[0m, in \u001b[0;36mSeries.apply\u001b[0;34m(self, func, convert_dtype, args, by_row, **kwargs)\u001b[0m\n\u001b[1;32m   4625\u001b[0m \u001b[39mdef\u001b[39;00m \u001b[39mapply\u001b[39m(\n\u001b[1;32m   4626\u001b[0m     \u001b[39mself\u001b[39m,\n\u001b[1;32m   4627\u001b[0m     func: AggFuncType,\n\u001b[0;32m   (...)\u001b[0m\n\u001b[1;32m   4632\u001b[0m     \u001b[39m*\u001b[39m\u001b[39m*\u001b[39mkwargs,\n\u001b[1;32m   4633\u001b[0m ) \u001b[39m-\u001b[39m\u001b[39m>\u001b[39m DataFrame \u001b[39m|\u001b[39m Series:\n\u001b[1;32m   4634\u001b[0m \u001b[39m    \u001b[39m\u001b[39m\"\"\"\u001b[39;00m\n\u001b[1;32m   4635\u001b[0m \u001b[39m    Invoke function on values of Series.\u001b[39;00m\n\u001b[1;32m   4636\u001b[0m \n\u001b[0;32m   (...)\u001b[0m\n\u001b[1;32m   4756\u001b[0m \u001b[39m    dtype: float64\u001b[39;00m\n\u001b[1;32m   4757\u001b[0m \u001b[39m    \"\"\"\u001b[39;00m\n\u001b[1;32m   4758\u001b[0m     \u001b[39mreturn\u001b[39;00m SeriesApply(\n\u001b[1;32m   4759\u001b[0m         \u001b[39mself\u001b[39;49m,\n\u001b[1;32m   4760\u001b[0m         func,\n\u001b[1;32m   4761\u001b[0m         convert_dtype\u001b[39m=\u001b[39;49mconvert_dtype,\n\u001b[1;32m   4762\u001b[0m         by_row\u001b[39m=\u001b[39;49mby_row,\n\u001b[1;32m   4763\u001b[0m         args\u001b[39m=\u001b[39;49margs,\n\u001b[1;32m   4764\u001b[0m         kwargs\u001b[39m=\u001b[39;49mkwargs,\n\u001b[0;32m-> 4765\u001b[0m     )\u001b[39m.\u001b[39;49mapply()\n",
      "File \u001b[0;32m~/Desktop/Code/Python/RecSys/universalrecsys-hack/venv/lib/python3.10/site-packages/pandas/core/apply.py:1201\u001b[0m, in \u001b[0;36mSeriesApply.apply\u001b[0;34m(self)\u001b[0m\n\u001b[1;32m   1198\u001b[0m     \u001b[39mreturn\u001b[39;00m \u001b[39mself\u001b[39m\u001b[39m.\u001b[39mapply_compat()\n\u001b[1;32m   1200\u001b[0m \u001b[39m# self.func is Callable\u001b[39;00m\n\u001b[0;32m-> 1201\u001b[0m \u001b[39mreturn\u001b[39;00m \u001b[39mself\u001b[39;49m\u001b[39m.\u001b[39;49mapply_standard()\n",
      "File \u001b[0;32m~/Desktop/Code/Python/RecSys/universalrecsys-hack/venv/lib/python3.10/site-packages/pandas/core/apply.py:1281\u001b[0m, in \u001b[0;36mSeriesApply.apply_standard\u001b[0;34m(self)\u001b[0m\n\u001b[1;32m   1275\u001b[0m \u001b[39m# row-wise access\u001b[39;00m\n\u001b[1;32m   1276\u001b[0m \u001b[39m# apply doesn't have a `na_action` keyword and for backward compat reasons\u001b[39;00m\n\u001b[1;32m   1277\u001b[0m \u001b[39m# we need to give `na_action=\"ignore\"` for categorical data.\u001b[39;00m\n\u001b[1;32m   1278\u001b[0m \u001b[39m# TODO: remove the `na_action=\"ignore\"` when that default has been changed in\u001b[39;00m\n\u001b[1;32m   1279\u001b[0m \u001b[39m#  Categorical (GH51645).\u001b[39;00m\n\u001b[1;32m   1280\u001b[0m action \u001b[39m=\u001b[39m \u001b[39m\"\u001b[39m\u001b[39mignore\u001b[39m\u001b[39m\"\u001b[39m \u001b[39mif\u001b[39;00m \u001b[39misinstance\u001b[39m(obj\u001b[39m.\u001b[39mdtype, CategoricalDtype) \u001b[39melse\u001b[39;00m \u001b[39mNone\u001b[39;00m\n\u001b[0;32m-> 1281\u001b[0m mapped \u001b[39m=\u001b[39m obj\u001b[39m.\u001b[39;49m_map_values(\n\u001b[1;32m   1282\u001b[0m     mapper\u001b[39m=\u001b[39;49mcurried, na_action\u001b[39m=\u001b[39;49maction, convert\u001b[39m=\u001b[39;49m\u001b[39mself\u001b[39;49m\u001b[39m.\u001b[39;49mconvert_dtype\n\u001b[1;32m   1283\u001b[0m )\n\u001b[1;32m   1285\u001b[0m \u001b[39mif\u001b[39;00m \u001b[39mlen\u001b[39m(mapped) \u001b[39mand\u001b[39;00m \u001b[39misinstance\u001b[39m(mapped[\u001b[39m0\u001b[39m], ABCSeries):\n\u001b[1;32m   1286\u001b[0m     warnings\u001b[39m.\u001b[39mwarn(\n\u001b[1;32m   1287\u001b[0m         \u001b[39m\"\u001b[39m\u001b[39mReturning a DataFrame from Series.apply when the supplied function \u001b[39m\u001b[39m\"\u001b[39m\n\u001b[1;32m   1288\u001b[0m         \u001b[39m\"\u001b[39m\u001b[39mreturns a Series is deprecated and will be removed in a future \u001b[39m\u001b[39m\"\u001b[39m\n\u001b[0;32m   (...)\u001b[0m\n\u001b[1;32m   1291\u001b[0m         stacklevel\u001b[39m=\u001b[39mfind_stack_level(),\n\u001b[1;32m   1292\u001b[0m     )  \u001b[39m# GH52116\u001b[39;00m\n",
      "File \u001b[0;32m~/Desktop/Code/Python/RecSys/universalrecsys-hack/venv/lib/python3.10/site-packages/pandas/core/base.py:921\u001b[0m, in \u001b[0;36mIndexOpsMixin._map_values\u001b[0;34m(self, mapper, na_action, convert)\u001b[0m\n\u001b[1;32m    918\u001b[0m \u001b[39mif\u001b[39;00m \u001b[39misinstance\u001b[39m(arr, ExtensionArray):\n\u001b[1;32m    919\u001b[0m     \u001b[39mreturn\u001b[39;00m arr\u001b[39m.\u001b[39mmap(mapper, na_action\u001b[39m=\u001b[39mna_action)\n\u001b[0;32m--> 921\u001b[0m \u001b[39mreturn\u001b[39;00m algorithms\u001b[39m.\u001b[39;49mmap_array(arr, mapper, na_action\u001b[39m=\u001b[39;49mna_action, convert\u001b[39m=\u001b[39;49mconvert)\n",
      "File \u001b[0;32m~/Desktop/Code/Python/RecSys/universalrecsys-hack/venv/lib/python3.10/site-packages/pandas/core/algorithms.py:1812\u001b[0m, in \u001b[0;36mmap_array\u001b[0;34m(arr, mapper, na_action, convert)\u001b[0m\n\u001b[1;32m   1810\u001b[0m values \u001b[39m=\u001b[39m arr\u001b[39m.\u001b[39mastype(\u001b[39mobject\u001b[39m, copy\u001b[39m=\u001b[39m\u001b[39mFalse\u001b[39;00m)\n\u001b[1;32m   1811\u001b[0m \u001b[39mif\u001b[39;00m na_action \u001b[39mis\u001b[39;00m \u001b[39mNone\u001b[39;00m:\n\u001b[0;32m-> 1812\u001b[0m     \u001b[39mreturn\u001b[39;00m lib\u001b[39m.\u001b[39;49mmap_infer(values, mapper, convert\u001b[39m=\u001b[39;49mconvert)\n\u001b[1;32m   1813\u001b[0m \u001b[39melse\u001b[39;00m:\n\u001b[1;32m   1814\u001b[0m     \u001b[39mreturn\u001b[39;00m lib\u001b[39m.\u001b[39mmap_infer_mask(\n\u001b[1;32m   1815\u001b[0m         values, mapper, mask\u001b[39m=\u001b[39misna(values)\u001b[39m.\u001b[39mview(np\u001b[39m.\u001b[39muint8), convert\u001b[39m=\u001b[39mconvert\n\u001b[1;32m   1816\u001b[0m     )\n",
      "File \u001b[0;32mlib.pyx:2917\u001b[0m, in \u001b[0;36mpandas._libs.lib.map_infer\u001b[0;34m()\u001b[0m\n",
      "\u001b[1;32m/Users/vladimiragishev/Desktop/Code/Python/RecSys/universalrecsys-hack/classic_model/noterbook_leaderboard.ipynb Cell 45\u001b[0m line \u001b[0;36m3\n\u001b[1;32m      <a href='vscode-notebook-cell:/Users/vladimiragishev/Desktop/Code/Python/RecSys/universalrecsys-hack/classic_model/noterbook_leaderboard.ipynb#X61sZmlsZQ%3D%3D?line=1'>2</a>\u001b[0m \u001b[39mdef\u001b[39;00m \u001b[39mdevice_mapper\u001b[39m(user_id):\n\u001b[0;32m----> <a href='vscode-notebook-cell:/Users/vladimiragishev/Desktop/Code/Python/RecSys/universalrecsys-hack/classic_model/noterbook_leaderboard.ipynb#X61sZmlsZQ%3D%3D?line=2'>3</a>\u001b[0m     device \u001b[39m=\u001b[39m father_df\u001b[39m.\u001b[39;49mloc[father_df[\u001b[39m'\u001b[39;49m\u001b[39muser_id\u001b[39;49m\u001b[39m'\u001b[39;49m] \u001b[39m==\u001b[39;49m user_id, \u001b[39m'\u001b[39;49m\u001b[39mdevice_id\u001b[39;49m\u001b[39m'\u001b[39;49m]\u001b[39m.\u001b[39;49mvalues[\u001b[39m0\u001b[39;49m]\n\u001b[1;32m      <a href='vscode-notebook-cell:/Users/vladimiragishev/Desktop/Code/Python/RecSys/universalrecsys-hack/classic_model/noterbook_leaderboard.ipynb#X61sZmlsZQ%3D%3D?line=3'>4</a>\u001b[0m     \u001b[39mif\u001b[39;00m device \u001b[39min\u001b[39;00m devices_dict:\n\u001b[1;32m      <a href='vscode-notebook-cell:/Users/vladimiragishev/Desktop/Code/Python/RecSys/universalrecsys-hack/classic_model/noterbook_leaderboard.ipynb#X61sZmlsZQ%3D%3D?line=4'>5</a>\u001b[0m         \u001b[39mreturn\u001b[39;00m devices_dict[device]\n",
      "\u001b[0;31mIndexError\u001b[0m: index 0 is out of bounds for axis 0 with size 0"
     ]
    }
   ],
   "source": [
    "pos = add_devices(pos, interactions)"
   ]
  },
  {
   "cell_type": "code",
   "execution_count": 85,
   "metadata": {},
   "outputs": [],
   "source": [
    "all_data.drop(columns=['device_id', 'user_id'], inplace=True)"
   ]
  },
  {
   "cell_type": "code",
   "execution_count": 86,
   "metadata": {},
   "outputs": [],
   "source": [
    "pos = pos.merge(interactions[['user_id', 'local_date']], on='user_id', how=\"inner\").drop_duplicates()"
   ]
  },
  {
   "cell_type": "code",
   "execution_count": 87,
   "metadata": {},
   "outputs": [],
   "source": [
    "all_data['item_id'] = all_data['item_id'].astype(np.int64)\n",
    "pos['item_id'] = pos['item_id'].astype(np.int64)"
   ]
  },
  {
   "cell_type": "code",
   "execution_count": 90,
   "metadata": {},
   "outputs": [],
   "source": [
    "pos['local_date'] = pd.to_datetime(pos['local_date'], format='%Y-%m-%d', errors='ignore')\n",
    "all_data['local_date'] = pd.to_datetime(all_data['local_date'], format='%Y-%m-%d', errors='ignore')\n",
    "pos = pos.sort_values(by=['local_date'])\n",
    "all_data = all_data.sort_values(by=['local_date'])"
   ]
  },
  {
   "cell_type": "code",
   "execution_count": 103,
   "metadata": {},
   "outputs": [
    {
     "data": {
      "text/plain": [
       "31645    2021-09-01\n",
       "4095     2021-09-03\n",
       "31652    2021-09-07\n",
       "31662    2021-09-08\n",
       "31666    2021-09-10\n",
       "            ...    \n",
       "31601    2023-08-31\n",
       "31603    2023-08-31\n",
       "31608    2023-08-31\n",
       "31614    2023-08-31\n",
       "31622    2023-08-31\n",
       "Name: local_date, Length: 3669, dtype: object"
      ]
     },
     "execution_count": 103,
     "metadata": {},
     "output_type": "execute_result"
    }
   ],
   "source": [
    "pos['local_date'].str[:10]"
   ]
  },
  {
   "cell_type": "code",
   "execution_count": 104,
   "metadata": {},
   "outputs": [],
   "source": [
    "pos['local_date'] = pd.to_datetime(pos['local_date'].str[:10], format='%Y-%m-%d')"
   ]
  },
  {
   "cell_type": "code",
   "execution_count": 105,
   "metadata": {},
   "outputs": [],
   "source": [
    "pos = pos.merge(all_data, on=['local_date', 'item_id'], how='inner').drop_duplicates(subset=['user_id', 'local_date', 'item_id'])"
   ]
  },
  {
   "cell_type": "code",
   "execution_count": 122,
   "metadata": {},
   "outputs": [],
   "source": [
    "columns = ['name_firstword', 'name_fstsecword',\n",
    "       'price', 'quantity', 'count_grp_x_x', 'quantity_sum_grp_x_x',\n",
    "       'price_mean_x_x', 'count_grp_7dago_x_x', 'quantity_sum_7dago_x_x',\n",
    "       'price_mean_7dago_x_x', 'count_grp_1week_x_x', 'quantity_sum_1week_x_x',\n",
    "       'price_mean_1week_x_x', 'count_grp_2week_x_x', 'quantity_sum_2week_x_x',\n",
    "       'price_mean_2week_x_x', 'count_grp_31days_x_x',\n",
    "       'quantity_sum_31days_x_x', 'price_mean_31days_x_x', 'item_trend_q7d',\n",
    "       'item_trend_c7d', 'item_trend_qg7d', 'item_trend_c1w2w',\n",
    "       'item_trend_c2w31d', 'item_trend_p7d', 'item_trend_p1w',\n",
    "       'item_trend_p2w', 'item_trend_p31d', 'item_trend_p1w31d','count_grp_x_y', 'quantity_sum_grp_x_y',\n",
    "       'price_mean_x_y', 'count_grp_7dago_x_y', 'quantity_sum_7dago_x_y',\n",
    "       'price_mean_7dago_x_y', 'count_grp_1week_x_y', 'quantity_sum_1week_x_y',\n",
    "       'price_mean_1week_x_y', 'count_grp_2week_x_y', 'quantity_sum_2week_x_y',\n",
    "       'price_mean_2week_x_y', 'count_grp_31days_x_y',\n",
    "       'quantity_sum_31days_x_y', 'price_mean_31days_x_y', 'ctgr_trend_c1w',\n",
    "       'ctgr_trend_c2w', 'ctgr_trend_c31d', 'ctgr_trend_q1w', 'ctgr_trend_q2w',\n",
    "       'ctgr_trend_q31d', 'ctgr_share_c', 'ctgr_share_q', 'ctgr_share_c7d',\n",
    "       'ctgr_share_q7d', 'ctgr_share_c1w', 'ctgr_share_q1w', 'ctgr_share_c2w',\n",
    "       'ctgr_share_q2w', 'ctgr_share_c31d', 'ctgr_share_q31d', 'count_grp_x',\n",
    "       'quantity_sum_grp_x', 'price_mean_x', 'count_grp_7dago_x',\n",
    "       'quantity_sum_7dago_x', 'price_mean_7dago_x', 'count_grp_1week_x',\n",
    "       'quantity_sum_1week_x', 'price_mean_1week_x', 'count_grp_2week_x',\n",
    "       'quantity_sum_2week_x', 'price_mean_2week_x', 'count_grp_31days_x',\n",
    "       'quantity_sum_31days_x', 'price_mean_31days_x', 'ctgr2_trend_c1w',\n",
    "       'ctgr2_trend_c2w', 'ctgr2_trend_c31d', 'ctgr2_trend_q1w',\n",
    "       'ctgr2_trend_q2w', 'ctgr2_trend_q31d', 'ctgr2_share_c', 'ctgr2_share_q',\n",
    "       'ctgr2_share_c7d', 'ctgr2_share_q7d', 'ctgr2_share_c1w',\n",
    "       'ctgr2_share_q1w', 'ctgr2_share_c2w', 'ctgr2_share_q2w',\n",
    "       'ctgr2_share_c31d', 'ctgr2_share_q31d']"
   ]
  },
  {
   "cell_type": "code",
   "execution_count": 107,
   "metadata": {},
   "outputs": [],
   "source": [
    "neg = neg.merge(interactions[['user_id', 'local_date']], on='user_id', how=\"inner\").drop_duplicates()"
   ]
  },
  {
   "cell_type": "code",
   "execution_count": 115,
   "metadata": {},
   "outputs": [],
   "source": [
    "neg = neg[neg['item_id'].notnull()]"
   ]
  },
  {
   "cell_type": "code",
   "execution_count": 116,
   "metadata": {},
   "outputs": [],
   "source": [
    "neg['item_id'] = neg['item_id'].astype(np.int64)"
   ]
  },
  {
   "cell_type": "code",
   "execution_count": 117,
   "metadata": {},
   "outputs": [],
   "source": [
    "neg['local_date'] = pd.to_datetime(neg['local_date'], format='%Y-%m-%d', errors='ignore')"
   ]
  },
  {
   "cell_type": "code",
   "execution_count": 118,
   "metadata": {},
   "outputs": [],
   "source": [
    "neg = neg.sort_values(by=['local_date'])"
   ]
  },
  {
   "cell_type": "code",
   "execution_count": 119,
   "metadata": {},
   "outputs": [],
   "source": [
    "neg = pd.merge_asof(neg, all_data, on=\"local_date\", by='item_id', direction='backward')"
   ]
  },
  {
   "cell_type": "code",
   "execution_count": 120,
   "metadata": {},
   "outputs": [],
   "source": [
    "ctb_train_users, ctb_test_users = train_test_split(candidates,\n",
    "                                                       random_state=1,\n",
    "                                                       test_size=0.2)\n",
    "\n",
    "ctb_train_users, ctb_eval_users = train_test_split(ctb_train_users,\n",
    "                                                       random_state=1,\n",
    "                                                       test_size=0.1)"
   ]
  },
  {
   "cell_type": "code",
   "execution_count": 123,
   "metadata": {},
   "outputs": [],
   "source": [
    "select_col = ['user_id', 'item_id', 'rank_popular', 'rank_cos', 'device_number', 'rank_cooc', 'name', \\\n",
    "'target'] + columns\n",
    "\n",
    "    # Catboost train\n",
    "ctb_train = shuffle(\n",
    "        pd.concat([\n",
    "            pos[pos['user_id'].isin(ctb_train_users['user_id'])],\n",
    "            neg[neg['user_id'].isin(ctb_train_users['user_id'])]\n",
    "        ])[select_col]\n",
    "    )\n",
    "\n",
    "    # Catboost test\n",
    "ctb_test = shuffle(\n",
    "        pd.concat([\n",
    "            pos[pos['user_id'].isin(ctb_test_users['user_id'])],\n",
    "            neg[neg['user_id'].isin(ctb_test_users['user_id'])]\n",
    "        ])[select_col]\n",
    "    )\n",
    "\n",
    "    # for early stopping\n",
    "ctb_eval = shuffle(\n",
    "        pd.concat([\n",
    "            pos[pos['user_id'].isin(ctb_eval_users['user_id'])],\n",
    "            neg[neg['user_id'].isin(ctb_eval_users['user_id'])]\n",
    "        ])[select_col]\n",
    "    )\n"
   ]
  },
  {
   "cell_type": "code",
   "execution_count": 124,
   "metadata": {},
   "outputs": [],
   "source": [
    "drop_cols = ['target', 'item_id', 'user_id']\n",
    "X_train_catboost, y_train_catboost = ctb_train.drop(drop_cols, axis=1), ctb_train['target']\n",
    "X_eval_catboost, y_eval_catboost = ctb_eval.drop(drop_cols, axis=1), ctb_eval['target']\n",
    "X_test_catboost, y_test_catboost = ctb_test.drop(drop_cols, axis=1), ctb_test['target']\n",
    "\n",
    "est_params = {\n",
    "        'subsample': 0.9,\n",
    "        'max_depth': 5,\n",
    "        'n_estimators': 2000,\n",
    "        'learning_rate': 0.1,\n",
    "        'thread_count': 20,\n",
    "        'random_state': 42,\n",
    "        'verbose': 200,\n",
    "    }"
   ]
  },
  {
   "cell_type": "code",
   "execution_count": 126,
   "metadata": {},
   "outputs": [],
   "source": [
    "X_train_catboost[['name', 'name_firstword', 'name_fstsecword']] = X_train_catboost[['name', 'name_firstword', 'name_fstsecword']].astype(str)"
   ]
  },
  {
   "cell_type": "code",
   "execution_count": 129,
   "metadata": {},
   "outputs": [],
   "source": [
    "X_eval_catboost[['name', 'name_firstword', 'name_fstsecword']] = X_eval_catboost[['name', 'name_firstword', 'name_fstsecword']].fillna(' ')"
   ]
  },
  {
   "cell_type": "code",
   "execution_count": 131,
   "metadata": {},
   "outputs": [],
   "source": [
    "X_train_catboost.drop(columns=['name_firstword', 'name_fstsecword'], inplace=True)\n",
    "X_eval_catboost.drop(columns=['name_firstword', 'name_fstsecword'], inplace=True)"
   ]
  },
  {
   "cell_type": "code",
   "execution_count": 132,
   "metadata": {},
   "outputs": [
    {
     "name": "stdout",
     "output_type": "stream",
     "text": [
      "0:\tlearn: 0.5922627\ttest: 0.5922599\tbest: 0.5922599 (0)\ttotal: 137ms\tremaining: 4m 34s\n",
      "200:\tlearn: 0.1181761\ttest: 0.1181897\tbest: 0.1181897 (200)\ttotal: 18.3s\tremaining: 2m 44s\n",
      "400:\tlearn: 0.1067482\ttest: 0.1068078\tbest: 0.1068078 (400)\ttotal: 35.5s\tremaining: 2m 21s\n",
      "600:\tlearn: 0.0997039\ttest: 0.0999478\tbest: 0.0999478 (600)\ttotal: 51.6s\tremaining: 2m\n",
      "800:\tlearn: 0.0939722\ttest: 0.0944418\tbest: 0.0944418 (800)\ttotal: 1m 8s\tremaining: 1m 43s\n",
      "1000:\tlearn: 0.0886496\ttest: 0.0893961\tbest: 0.0893961 (1000)\ttotal: 1m 26s\tremaining: 1m 26s\n",
      "1200:\tlearn: 0.0842112\ttest: 0.0851809\tbest: 0.0851809 (1200)\ttotal: 1m 44s\tremaining: 1m 9s\n",
      "1400:\tlearn: 0.0801171\ttest: 0.0812550\tbest: 0.0812550 (1400)\ttotal: 2m 3s\tremaining: 52.7s\n",
      "1600:\tlearn: 0.0762976\ttest: 0.0776817\tbest: 0.0776817 (1600)\ttotal: 2m 25s\tremaining: 36.3s\n",
      "1800:\tlearn: 0.0730303\ttest: 0.0746218\tbest: 0.0746005 (1799)\ttotal: 2m 43s\tremaining: 18.1s\n",
      "1999:\tlearn: 0.0700371\ttest: 0.0717961\tbest: 0.0717961 (1999)\ttotal: 3m\tremaining: 0us\n",
      "\n",
      "bestTest = 0.07179610064\n",
      "bestIteration = 1999\n",
      "\n"
     ]
    },
    {
     "ename": "CatBoostError",
     "evalue": "Invalid type for text_feature[non-default value idx=1,feature_idx=4]=nan : text_features must have string type",
     "output_type": "error",
     "traceback": [
      "\u001b[0;31m---------------------------------------------------------------------------\u001b[0m",
      "\u001b[0;31mCatBoostError\u001b[0m                             Traceback (most recent call last)",
      "\u001b[1;32m/Users/vladimiragishev/Desktop/Code/Python/RecSys/universalrecsys-hack/classic_model/noterbook_leaderboard.ipynb Cell 67\u001b[0m line \u001b[0;36m1\n\u001b[1;32m      <a href='vscode-notebook-cell:/Users/vladimiragishev/Desktop/Code/Python/RecSys/universalrecsys-hack/classic_model/noterbook_leaderboard.ipynb#Y121sZmlsZQ%3D%3D?line=1'>2</a>\u001b[0m cat_col \u001b[39m=\u001b[39m [\u001b[39m'\u001b[39m\u001b[39mdevice_number\u001b[39m\u001b[39m'\u001b[39m]\n\u001b[1;32m      <a href='vscode-notebook-cell:/Users/vladimiragishev/Desktop/Code/Python/RecSys/universalrecsys-hack/classic_model/noterbook_leaderboard.ipynb#Y121sZmlsZQ%3D%3D?line=2'>3</a>\u001b[0m ctb_model\u001b[39m.\u001b[39mfit(X_train_catboost,\n\u001b[1;32m      <a href='vscode-notebook-cell:/Users/vladimiragishev/Desktop/Code/Python/RecSys/universalrecsys-hack/classic_model/noterbook_leaderboard.ipynb#Y121sZmlsZQ%3D%3D?line=3'>4</a>\u001b[0m                 y_train_catboost,\n\u001b[1;32m      <a href='vscode-notebook-cell:/Users/vladimiragishev/Desktop/Code/Python/RecSys/universalrecsys-hack/classic_model/noterbook_leaderboard.ipynb#Y121sZmlsZQ%3D%3D?line=4'>5</a>\u001b[0m                 eval_set\u001b[39m=\u001b[39m(X_eval_catboost, y_eval_catboost),\n\u001b[0;32m   (...)\u001b[0m\n\u001b[1;32m      <a href='vscode-notebook-cell:/Users/vladimiragishev/Desktop/Code/Python/RecSys/universalrecsys-hack/classic_model/noterbook_leaderboard.ipynb#Y121sZmlsZQ%3D%3D?line=7'>8</a>\u001b[0m                 text_features\u001b[39m=\u001b[39m[\u001b[39m'\u001b[39m\u001b[39mname\u001b[39m\u001b[39m'\u001b[39m],\n\u001b[1;32m      <a href='vscode-notebook-cell:/Users/vladimiragishev/Desktop/Code/Python/RecSys/universalrecsys-hack/classic_model/noterbook_leaderboard.ipynb#Y121sZmlsZQ%3D%3D?line=8'>9</a>\u001b[0m                 plot\u001b[39m=\u001b[39m\u001b[39mFalse\u001b[39;00m)\n\u001b[0;32m---> <a href='vscode-notebook-cell:/Users/vladimiragishev/Desktop/Code/Python/RecSys/universalrecsys-hack/classic_model/noterbook_leaderboard.ipynb#Y121sZmlsZQ%3D%3D?line=10'>11</a>\u001b[0m preds \u001b[39m=\u001b[39m ctb_model\u001b[39m.\u001b[39;49mpredict(X_test_catboost)\n\u001b[1;32m     <a href='vscode-notebook-cell:/Users/vladimiragishev/Desktop/Code/Python/RecSys/universalrecsys-hack/classic_model/noterbook_leaderboard.ipynb#Y121sZmlsZQ%3D%3D?line=11'>12</a>\u001b[0m \u001b[39mprint\u001b[39m(accuracy_score(y_test_catboost, preds))\n",
      "File \u001b[0;32m~/Desktop/Code/Python/RecSys/universalrecsys-hack/venv/lib/python3.10/site-packages/catboost/core.py:5156\u001b[0m, in \u001b[0;36mCatBoostClassifier.predict\u001b[0;34m(self, data, prediction_type, ntree_start, ntree_end, thread_count, verbose, task_type)\u001b[0m\n\u001b[1;32m   5105\u001b[0m \u001b[39mdef\u001b[39;00m \u001b[39mpredict\u001b[39m(\u001b[39mself\u001b[39m, data, prediction_type\u001b[39m=\u001b[39m\u001b[39m'\u001b[39m\u001b[39mClass\u001b[39m\u001b[39m'\u001b[39m, ntree_start\u001b[39m=\u001b[39m\u001b[39m0\u001b[39m, ntree_end\u001b[39m=\u001b[39m\u001b[39m0\u001b[39m, thread_count\u001b[39m=\u001b[39m\u001b[39m-\u001b[39m\u001b[39m1\u001b[39m, verbose\u001b[39m=\u001b[39m\u001b[39mNone\u001b[39;00m, task_type\u001b[39m=\u001b[39m\u001b[39m\"\u001b[39m\u001b[39mCPU\u001b[39m\u001b[39m\"\u001b[39m):\n\u001b[1;32m   5106\u001b[0m \u001b[39m    \u001b[39m\u001b[39m\"\"\"\u001b[39;00m\n\u001b[1;32m   5107\u001b[0m \u001b[39m    Predict with data.\u001b[39;00m\n\u001b[1;32m   5108\u001b[0m \n\u001b[0;32m   (...)\u001b[0m\n\u001b[1;32m   5154\u001b[0m \u001b[39m              with log probability for every class for each object.\u001b[39;00m\n\u001b[1;32m   5155\u001b[0m \u001b[39m    \"\"\"\u001b[39;00m\n\u001b[0;32m-> 5156\u001b[0m     \u001b[39mreturn\u001b[39;00m \u001b[39mself\u001b[39;49m\u001b[39m.\u001b[39;49m_predict(data, prediction_type, ntree_start, ntree_end, thread_count, verbose, \u001b[39m'\u001b[39;49m\u001b[39mpredict\u001b[39;49m\u001b[39m'\u001b[39;49m, task_type)\n",
      "File \u001b[0;32m~/Desktop/Code/Python/RecSys/universalrecsys-hack/venv/lib/python3.10/site-packages/catboost/core.py:2505\u001b[0m, in \u001b[0;36mCatBoost._predict\u001b[0;34m(self, data, prediction_type, ntree_start, ntree_end, thread_count, verbose, parent_method_name, task_type)\u001b[0m\n\u001b[1;32m   2503\u001b[0m \u001b[39mif\u001b[39;00m verbose \u001b[39mis\u001b[39;00m \u001b[39mNone\u001b[39;00m:\n\u001b[1;32m   2504\u001b[0m     verbose \u001b[39m=\u001b[39m \u001b[39mFalse\u001b[39;00m\n\u001b[0;32m-> 2505\u001b[0m data, data_is_single_object \u001b[39m=\u001b[39m \u001b[39mself\u001b[39;49m\u001b[39m.\u001b[39;49m_process_predict_input_data(data, parent_method_name, thread_count)\n\u001b[1;32m   2506\u001b[0m \u001b[39mself\u001b[39m\u001b[39m.\u001b[39m_validate_prediction_type(prediction_type)\n\u001b[1;32m   2508\u001b[0m predictions \u001b[39m=\u001b[39m \u001b[39mself\u001b[39m\u001b[39m.\u001b[39m_base_predict(data, prediction_type, ntree_start, ntree_end, thread_count, verbose, task_type)\n",
      "File \u001b[0;32m~/Desktop/Code/Python/RecSys/universalrecsys-hack/venv/lib/python3.10/site-packages/catboost/core.py:2485\u001b[0m, in \u001b[0;36mCatBoost._process_predict_input_data\u001b[0;34m(self, data, parent_method_name, thread_count, label)\u001b[0m\n\u001b[1;32m   2483\u001b[0m is_single_object \u001b[39m=\u001b[39m _is_data_single_object(data)\n\u001b[1;32m   2484\u001b[0m \u001b[39mif\u001b[39;00m \u001b[39mnot\u001b[39;00m \u001b[39misinstance\u001b[39m(data, Pool):\n\u001b[0;32m-> 2485\u001b[0m     data \u001b[39m=\u001b[39m Pool(\n\u001b[1;32m   2486\u001b[0m         data\u001b[39m=\u001b[39;49m[data] \u001b[39mif\u001b[39;49;00m is_single_object \u001b[39melse\u001b[39;49;00m data,\n\u001b[1;32m   2487\u001b[0m         label\u001b[39m=\u001b[39;49mlabel,\n\u001b[1;32m   2488\u001b[0m         cat_features\u001b[39m=\u001b[39;49m\u001b[39mself\u001b[39;49m\u001b[39m.\u001b[39;49m_get_cat_feature_indices() \u001b[39mif\u001b[39;49;00m \u001b[39mnot\u001b[39;49;00m \u001b[39misinstance\u001b[39;49m(data, FeaturesData) \u001b[39melse\u001b[39;49;00m \u001b[39mNone\u001b[39;49;00m,\n\u001b[1;32m   2489\u001b[0m         text_features\u001b[39m=\u001b[39;49m\u001b[39mself\u001b[39;49m\u001b[39m.\u001b[39;49m_get_text_feature_indices() \u001b[39mif\u001b[39;49;00m \u001b[39mnot\u001b[39;49;00m \u001b[39misinstance\u001b[39;49m(data, FeaturesData) \u001b[39melse\u001b[39;49;00m \u001b[39mNone\u001b[39;49;00m,\n\u001b[1;32m   2490\u001b[0m         embedding_features\u001b[39m=\u001b[39;49m\u001b[39mself\u001b[39;49m\u001b[39m.\u001b[39;49m_get_embedding_feature_indices() \u001b[39mif\u001b[39;49;00m \u001b[39mnot\u001b[39;49;00m \u001b[39misinstance\u001b[39;49m(data, FeaturesData) \u001b[39melse\u001b[39;49;00m \u001b[39mNone\u001b[39;49;00m,\n\u001b[1;32m   2491\u001b[0m         thread_count\u001b[39m=\u001b[39;49mthread_count\n\u001b[1;32m   2492\u001b[0m     )\n\u001b[1;32m   2493\u001b[0m \u001b[39mreturn\u001b[39;00m data, is_single_object\n",
      "File \u001b[0;32m~/Desktop/Code/Python/RecSys/universalrecsys-hack/venv/lib/python3.10/site-packages/catboost/core.py:793\u001b[0m, in \u001b[0;36mPool.__init__\u001b[0;34m(self, data, label, cat_features, text_features, embedding_features, embedding_features_data, column_description, pairs, delimiter, has_header, ignore_csv_quoting, weight, group_id, group_weight, subgroup_id, pairs_weight, baseline, timestamp, feature_names, feature_tags, thread_count, log_cout, log_cerr)\u001b[0m\n\u001b[1;32m    787\u001b[0m         \u001b[39mif\u001b[39;00m \u001b[39misinstance\u001b[39m(feature_names, PATH_TYPES):\n\u001b[1;32m    788\u001b[0m             \u001b[39mraise\u001b[39;00m CatBoostError(\n\u001b[1;32m    789\u001b[0m                 \u001b[39m\"\u001b[39m\u001b[39mfeature_names must be None or have non-string type when the pool is created from \u001b[39m\u001b[39m\"\u001b[39m\n\u001b[1;32m    790\u001b[0m                 \u001b[39m\"\u001b[39m\u001b[39mpython objects.\u001b[39m\u001b[39m\"\u001b[39m\n\u001b[1;32m    791\u001b[0m             )\n\u001b[0;32m--> 793\u001b[0m         \u001b[39mself\u001b[39;49m\u001b[39m.\u001b[39;49m_init(data, label, cat_features, text_features, embedding_features, embedding_features_data, pairs, weight,\n\u001b[1;32m    794\u001b[0m                    group_id, group_weight, subgroup_id, pairs_weight, baseline, timestamp, feature_names, feature_tags, thread_count)\n\u001b[1;32m    795\u001b[0m \u001b[39msuper\u001b[39m(Pool, \u001b[39mself\u001b[39m)\u001b[39m.\u001b[39m\u001b[39m__init__\u001b[39m()\n",
      "File \u001b[0;32m~/Desktop/Code/Python/RecSys/universalrecsys-hack/venv/lib/python3.10/site-packages/catboost/core.py:1425\u001b[0m, in \u001b[0;36mPool._init\u001b[0;34m(self, data, label, cat_features, text_features, embedding_features, embedding_features_data, pairs, weight, group_id, group_weight, subgroup_id, pairs_weight, baseline, timestamp, feature_names, feature_tags, thread_count)\u001b[0m\n\u001b[1;32m   1423\u001b[0m \u001b[39mif\u001b[39;00m feature_tags \u001b[39mis\u001b[39;00m \u001b[39mnot\u001b[39;00m \u001b[39mNone\u001b[39;00m:\n\u001b[1;32m   1424\u001b[0m     feature_tags \u001b[39m=\u001b[39m \u001b[39mself\u001b[39m\u001b[39m.\u001b[39m_check_transform_tags(feature_tags, feature_names)\n\u001b[0;32m-> 1425\u001b[0m \u001b[39mself\u001b[39;49m\u001b[39m.\u001b[39;49m_init_pool(data, label, cat_features, text_features, embedding_features, embedding_features_data, pairs, weight,\n\u001b[1;32m   1426\u001b[0m                 group_id, group_weight, subgroup_id, pairs_weight, baseline, timestamp, feature_names, feature_tags, thread_count)\n",
      "File \u001b[0;32m_catboost.pyx:3956\u001b[0m, in \u001b[0;36m_catboost._PoolBase._init_pool\u001b[0;34m()\u001b[0m\n",
      "File \u001b[0;32m_catboost.pyx:4006\u001b[0m, in \u001b[0;36m_catboost._PoolBase._init_pool\u001b[0;34m()\u001b[0m\n",
      "File \u001b[0;32m_catboost.pyx:3822\u001b[0m, in \u001b[0;36m_catboost._PoolBase._init_features_order_layout_pool\u001b[0;34m()\u001b[0m\n",
      "File \u001b[0;32m_catboost.pyx:2772\u001b[0m, in \u001b[0;36m_catboost._set_features_order_data_pd_data_frame\u001b[0;34m()\u001b[0m\n",
      "File \u001b[0;32m_catboost.pyx:2379\u001b[0m, in \u001b[0;36m_catboost.get_text_factor_bytes_representation\u001b[0;34m()\u001b[0m\n",
      "\u001b[0;31mCatBoostError\u001b[0m: Invalid type for text_feature[non-default value idx=1,feature_idx=4]=nan : text_features must have string type"
     ]
    }
   ],
   "source": [
    "ctb_model = CatBoostClassifier(**est_params)\n",
    "cat_col = ['device_number']\n",
    "ctb_model.fit(X_train_catboost,\n",
    "                y_train_catboost,\n",
    "                eval_set=(X_eval_catboost, y_eval_catboost),\n",
    "                early_stopping_rounds=100,\n",
    "                cat_features=cat_col,\n",
    "                text_features=['name'],\n",
    "                plot=False)\n",
    "\n",
    "preds = ctb_model.predict(X_test_catboost)\n",
    "print(accuracy_score(y_test_catboost, preds))"
   ]
  },
  {
   "cell_type": "code",
   "execution_count": 150,
   "metadata": {},
   "outputs": [
    {
     "ename": "CatBoostError",
     "evalue": "There is no trained model to use predict_proba(). Use fit() to train model. Then use this method.",
     "output_type": "error",
     "traceback": [
      "\u001b[0;31m---------------------------------------------------------------------------\u001b[0m",
      "\u001b[0;31mCatBoostError\u001b[0m                             Traceback (most recent call last)",
      "\u001b[1;32m/Users/vladimiragishev/Desktop/Code/Python/RecSys/universalrecsys-hack/classic_model/notebook_debugger.ipynb Cell 61\u001b[0m line \u001b[0;36m1\n\u001b[0;32m----> <a href='vscode-notebook-cell:/Users/vladimiragishev/Desktop/Code/Python/RecSys/universalrecsys-hack/classic_model/notebook_debugger.ipynb#Y113sZmlsZQ%3D%3D?line=0'>1</a>\u001b[0m ctb_prediction \u001b[39m=\u001b[39m ctb_model\u001b[39m.\u001b[39;49mpredict_proba(X_test_catboost\u001b[39m.\u001b[39;49mdrop(drop_cols, axis\u001b[39m=\u001b[39;49m\u001b[39m1\u001b[39;49m, errors\u001b[39m=\u001b[39;49m\u001b[39m'\u001b[39;49m\u001b[39mignore\u001b[39;49m\u001b[39m'\u001b[39;49m))\n\u001b[1;32m      <a href='vscode-notebook-cell:/Users/vladimiragishev/Desktop/Code/Python/RecSys/universalrecsys-hack/classic_model/notebook_debugger.ipynb#Y113sZmlsZQ%3D%3D?line=1'>2</a>\u001b[0m X_test_catboost[\u001b[39m'\u001b[39m\u001b[39mctb_pred\u001b[39m\u001b[39m'\u001b[39m] \u001b[39m=\u001b[39m ctb_prediction[:, \u001b[39m1\u001b[39m]\n",
      "File \u001b[0;32m~/Desktop/Code/Python/RecSys/universalrecsys-hack/venv/lib/python3.10/site-packages/catboost/core.py:5194\u001b[0m, in \u001b[0;36mCatBoostClassifier.predict_proba\u001b[0;34m(self, X, ntree_start, ntree_end, thread_count, verbose, task_type)\u001b[0m\n\u001b[1;32m   5158\u001b[0m \u001b[39mdef\u001b[39;00m \u001b[39mpredict_proba\u001b[39m(\u001b[39mself\u001b[39m, X, ntree_start\u001b[39m=\u001b[39m\u001b[39m0\u001b[39m, ntree_end\u001b[39m=\u001b[39m\u001b[39m0\u001b[39m, thread_count\u001b[39m=\u001b[39m\u001b[39m-\u001b[39m\u001b[39m1\u001b[39m, verbose\u001b[39m=\u001b[39m\u001b[39mNone\u001b[39;00m, task_type\u001b[39m=\u001b[39m\u001b[39m\"\u001b[39m\u001b[39mCPU\u001b[39m\u001b[39m\"\u001b[39m):\n\u001b[1;32m   5159\u001b[0m \u001b[39m    \u001b[39m\u001b[39m\"\"\"\u001b[39;00m\n\u001b[1;32m   5160\u001b[0m \u001b[39m    Predict class probability with X.\u001b[39;00m\n\u001b[1;32m   5161\u001b[0m \n\u001b[0;32m   (...)\u001b[0m\n\u001b[1;32m   5192\u001b[0m \u001b[39m            with probability for every class for each object.\u001b[39;00m\n\u001b[1;32m   5193\u001b[0m \u001b[39m    \"\"\"\u001b[39;00m\n\u001b[0;32m-> 5194\u001b[0m     \u001b[39mreturn\u001b[39;00m \u001b[39mself\u001b[39;49m\u001b[39m.\u001b[39;49m_predict(X, \u001b[39m'\u001b[39;49m\u001b[39mProbability\u001b[39;49m\u001b[39m'\u001b[39;49m, ntree_start, ntree_end, thread_count, verbose, \u001b[39m'\u001b[39;49m\u001b[39mpredict_proba\u001b[39;49m\u001b[39m'\u001b[39;49m, task_type)\n",
      "File \u001b[0;32m~/Desktop/Code/Python/RecSys/universalrecsys-hack/venv/lib/python3.10/site-packages/catboost/core.py:2505\u001b[0m, in \u001b[0;36mCatBoost._predict\u001b[0;34m(self, data, prediction_type, ntree_start, ntree_end, thread_count, verbose, parent_method_name, task_type)\u001b[0m\n\u001b[1;32m   2503\u001b[0m \u001b[39mif\u001b[39;00m verbose \u001b[39mis\u001b[39;00m \u001b[39mNone\u001b[39;00m:\n\u001b[1;32m   2504\u001b[0m     verbose \u001b[39m=\u001b[39m \u001b[39mFalse\u001b[39;00m\n\u001b[0;32m-> 2505\u001b[0m data, data_is_single_object \u001b[39m=\u001b[39m \u001b[39mself\u001b[39;49m\u001b[39m.\u001b[39;49m_process_predict_input_data(data, parent_method_name, thread_count)\n\u001b[1;32m   2506\u001b[0m \u001b[39mself\u001b[39m\u001b[39m.\u001b[39m_validate_prediction_type(prediction_type)\n\u001b[1;32m   2508\u001b[0m predictions \u001b[39m=\u001b[39m \u001b[39mself\u001b[39m\u001b[39m.\u001b[39m_base_predict(data, prediction_type, ntree_start, ntree_end, thread_count, verbose, task_type)\n",
      "File \u001b[0;32m~/Desktop/Code/Python/RecSys/universalrecsys-hack/venv/lib/python3.10/site-packages/catboost/core.py:2481\u001b[0m, in \u001b[0;36mCatBoost._process_predict_input_data\u001b[0;34m(self, data, parent_method_name, thread_count, label)\u001b[0m\n\u001b[1;32m   2479\u001b[0m \u001b[39mdef\u001b[39;00m \u001b[39m_process_predict_input_data\u001b[39m(\u001b[39mself\u001b[39m, data, parent_method_name, thread_count, label\u001b[39m=\u001b[39m\u001b[39mNone\u001b[39;00m):\n\u001b[1;32m   2480\u001b[0m     \u001b[39mif\u001b[39;00m \u001b[39mnot\u001b[39;00m \u001b[39mself\u001b[39m\u001b[39m.\u001b[39mis_fitted() \u001b[39mor\u001b[39;00m \u001b[39mself\u001b[39m\u001b[39m.\u001b[39mtree_count_ \u001b[39mis\u001b[39;00m \u001b[39mNone\u001b[39;00m:\n\u001b[0;32m-> 2481\u001b[0m         \u001b[39mraise\u001b[39;00m CatBoostError((\u001b[39m\"\u001b[39m\u001b[39mThere is no trained model to use \u001b[39m\u001b[39m{}\u001b[39;00m\u001b[39m(). \u001b[39m\u001b[39m\"\u001b[39m\n\u001b[1;32m   2482\u001b[0m                              \u001b[39m\"\u001b[39m\u001b[39mUse fit() to train model. Then use this method.\u001b[39m\u001b[39m\"\u001b[39m)\u001b[39m.\u001b[39mformat(parent_method_name))\n\u001b[1;32m   2483\u001b[0m     is_single_object \u001b[39m=\u001b[39m _is_data_single_object(data)\n\u001b[1;32m   2484\u001b[0m     \u001b[39mif\u001b[39;00m \u001b[39mnot\u001b[39;00m \u001b[39misinstance\u001b[39m(data, Pool):\n",
      "\u001b[0;31mCatBoostError\u001b[0m: There is no trained model to use predict_proba(). Use fit() to train model. Then use this method."
     ]
    }
   ],
   "source": [
    "ctb_prediction = ctb_model.predict_proba(X_test_catboost.drop(drop_cols, axis=1, errors='ignore'))\n",
    "X_test_catboost['ctb_pred'] = ctb_prediction[:, 1]"
   ]
  },
  {
   "cell_type": "code",
   "execution_count": 134,
   "metadata": {},
   "outputs": [],
   "source": [
    "def compute_metrics(df_true, df_pred, top_N, rank_col):\n",
    "    result = {}\n",
    "    test_recs = df_true.set_index(['user_id', 'item_id']).join(df_pred.set_index(['user_id', 'item_id']))\n",
    "    test_recs = test_recs.sort_values(by=['user_id', rank_col])\n",
    "\n",
    "    test_recs['users_item_count'] = test_recs.groupby(level='user_id')[rank_col].transform(np.size)\n",
    "    test_recs['reciprocal_rank'] = (1 / test_recs[rank_col]).fillna(0)\n",
    "    test_recs['cumulative_rank'] = test_recs.groupby(level='user_id').cumcount() + 1\n",
    "    test_recs['cumulative_rank'] = test_recs['cumulative_rank'] / test_recs[rank_col]\n",
    "\n",
    "    users_count = test_recs.index.get_level_values('user_id').nunique()\n",
    "    for k in range(1, top_N + 1):\n",
    "        hit_k = f'hit@{k}'\n",
    "        test_recs[hit_k] = test_recs[rank_col] <= k\n",
    "        result[f'Precision@{k}'] = (test_recs[hit_k] / k).sum() / users_count\n",
    "        result[f'Recall@{k}'] = (test_recs[hit_k] / test_recs['users_item_count']).sum() / users_count\n",
    "\n",
    "    result[f'MAP@{top_N}'] = (test_recs[\"cumulative_rank\"] / test_recs[\"users_item_count\"]).sum() / users_count\n",
    "    result[f'MRR'] = test_recs.groupby(level='user_id')['reciprocal_rank'].max().mean()\n",
    "    return pd.Series(result)"
   ]
  },
  {
   "cell_type": "code",
   "execution_count": null,
   "metadata": {},
   "outputs": [],
   "source": [
    "compute_metrics(y_test, candidates[['user_id', 'item_id', 'rank_ctb']], 10, rank_col='rank_ctb')"
   ]
  },
  {
   "cell_type": "code",
   "execution_count": 137,
   "metadata": {},
   "outputs": [],
   "source": [
    "interactions_val.rename(columns={'receipt_id':'user_id'}, inplace=True)"
   ]
  },
  {
   "cell_type": "code",
   "execution_count": 138,
   "metadata": {},
   "outputs": [],
   "source": [
    "cosin_model_val = COSIN(interactions_val, top_N=50)"
   ]
  },
  {
   "cell_type": "code",
   "execution_count": 139,
   "metadata": {},
   "outputs": [
    {
     "name": "stderr",
     "output_type": "stream",
     "text": [
      "/Users/vladimiragishev/Desktop/Code/Python/RecSys/universalrecsys-hack/venv/lib/python3.10/site-packages/implicit/utils.py:138: ParameterWarning: Method expects CSR input, and was passed coo_matrix instead. Converting to CSR took 0.00022292137145996094 seconds\n",
      "  warnings.warn(\n"
     ]
    },
    {
     "data": {
      "application/vnd.jupyter.widget-view+json": {
       "model_id": "d2c9229c113c4428838ee7eb7ec9a5d1",
       "version_major": 2,
       "version_minor": 0
      },
      "text/plain": [
       "  0%|          | 0/7979 [00:00<?, ?it/s]"
      ]
     },
     "metadata": {},
     "output_type": "display_data"
    }
   ],
   "source": [
    "cosin_model_val.train()"
   ]
  },
  {
   "cell_type": "code",
   "execution_count": 143,
   "metadata": {},
   "outputs": [],
   "source": [
    "popular_model = train_popular_model(interactions_val)"
   ]
  },
  {
   "cell_type": "code",
   "execution_count": 144,
   "metadata": {},
   "outputs": [],
   "source": [
    "pops_table_test = popularmakePreds(popular_model, interactions_val, 50)"
   ]
  },
  {
   "cell_type": "code",
   "execution_count": 149,
   "metadata": {},
   "outputs": [
    {
     "name": "stderr",
     "output_type": "stream",
     "text": [
      "100%|██████████| 15/15 [00:00<00:00, 232.89it/s]\n"
     ]
    }
   ],
   "source": [
    "cooc_models = {}\n",
    "cooc_reccomender = train_cooc_model(interactions_val)\n",
    "for device_id in interactions_val['device_id'].unique():\n",
    "    cooc_models[device_id] = CoocurenceRecommender(cooc_reccomender[device_id])"
   ]
  },
  {
   "cell_type": "code",
   "execution_count": 150,
   "metadata": {},
   "outputs": [],
   "source": [
    "coon_candidates_test = coocmakePreds(cooc_models, interactions_val, 50)"
   ]
  },
  {
   "cell_type": "code",
   "execution_count": 151,
   "metadata": {},
   "outputs": [],
   "source": [
    "preds = cosin_model_val.predict(interactions_val['user_id'].unique())\n",
    "preds = preds[['users', 'rnk', 'items']]\n",
    "preds.columns = ['user_id', 'rank_cos', 'item_id']"
   ]
  },
  {
   "cell_type": "code",
   "execution_count": 152,
   "metadata": {},
   "outputs": [],
   "source": [
    "candidates_test = pd.merge(coon_candidates_test, pops_table_test, on=['user_id', 'item_id'], how='outer')\n",
    "candidates_test = pd.merge(candidates_test, preds, on=['user_id', 'item_id'], how='outer')"
   ]
  },
  {
   "cell_type": "code",
   "execution_count": 181,
   "metadata": {},
   "outputs": [],
   "source": [
    "candidates_test, _ = add_embeddings(candidates_test)"
   ]
  },
  {
   "cell_type": "code",
   "execution_count": 153,
   "metadata": {},
   "outputs": [],
   "source": [
    "candidates_test = add_devices(candidates_test, interactions_val)"
   ]
  },
  {
   "cell_type": "code",
   "execution_count": 154,
   "metadata": {},
   "outputs": [],
   "source": [
    "candidates_test = candidates_test.merge(interactions_val[['user_id', 'local_date']], on='user_id', how=\"inner\").drop_duplicates()"
   ]
  },
  {
   "cell_type": "code",
   "execution_count": 156,
   "metadata": {},
   "outputs": [],
   "source": [
    "candidates_test = candidates_test[candidates_test['item_id'].notnull()]"
   ]
  },
  {
   "cell_type": "code",
   "execution_count": 158,
   "metadata": {},
   "outputs": [],
   "source": [
    "candidates_test['local_date'] = pd.to_datetime(candidates_test['local_date'], format='%Y-%m-%d', errors='ignore')\n",
    "candidates_test['item_id'] = candidates_test['item_id'].astype(np.int64)\n",
    "candidates_test = candidates_test.sort_values(by=['local_date'])"
   ]
  },
  {
   "cell_type": "code",
   "execution_count": 159,
   "metadata": {},
   "outputs": [],
   "source": [
    "candidates_test = pd.merge_asof(candidates_test, all_data, on=\"local_date\", by='item_id', direction='backward')"
   ]
  },
  {
   "cell_type": "code",
   "execution_count": 160,
   "metadata": {},
   "outputs": [],
   "source": [
    "candidates_test_2 = candidates_test[list(X_train_catboost.columns) + ['item_id', 'user_id']]"
   ]
  },
  {
   "cell_type": "code",
   "execution_count": 162,
   "metadata": {},
   "outputs": [],
   "source": [
    "candidates_test_2['name'] = candidates_test_2['name'].astype(str)"
   ]
  },
  {
   "cell_type": "code",
   "execution_count": 163,
   "metadata": {},
   "outputs": [],
   "source": [
    "ctb_prediction_test = ctb_model.predict_proba(candidates_test_2.drop(['item_id', 'user_id'], axis=1))\n",
    "candidates_test_2['ctb_pred'] = ctb_prediction_test[:, 1]"
   ]
  },
  {
   "cell_type": "code",
   "execution_count": 164,
   "metadata": {},
   "outputs": [],
   "source": [
    "candidates_test_2 = candidates_test_2.sort_values(\n",
    "     by=['user_id', 'ctb_pred'], ascending=[True, False])\n",
    "candidates_test_2['rank_ctb'] = candidates_test_2.groupby('user_id').cumcount() + 1"
   ]
  },
  {
   "cell_type": "code",
   "execution_count": 166,
   "metadata": {},
   "outputs": [],
   "source": [
    "candidates_test_2.to_csv('preds.csv')"
   ]
  },
  {
   "cell_type": "code",
   "execution_count": 167,
   "metadata": {},
   "outputs": [
    {
     "data": {
      "text/html": [
       "<div>\n",
       "<style scoped>\n",
       "    .dataframe tbody tr th:only-of-type {\n",
       "        vertical-align: middle;\n",
       "    }\n",
       "\n",
       "    .dataframe tbody tr th {\n",
       "        vertical-align: top;\n",
       "    }\n",
       "\n",
       "    .dataframe thead th {\n",
       "        text-align: right;\n",
       "    }\n",
       "</style>\n",
       "<table border=\"1\" class=\"dataframe\">\n",
       "  <thead>\n",
       "    <tr style=\"text-align: right;\">\n",
       "      <th></th>\n",
       "      <th>rank_popular</th>\n",
       "      <th>rank_cos</th>\n",
       "      <th>device_number</th>\n",
       "      <th>rank_cooc</th>\n",
       "      <th>name</th>\n",
       "      <th>price</th>\n",
       "      <th>quantity</th>\n",
       "      <th>count_grp_x_x</th>\n",
       "      <th>quantity_sum_grp_x_x</th>\n",
       "      <th>price_mean_x_x</th>\n",
       "      <th>...</th>\n",
       "      <th>ctgr2_share_c1w</th>\n",
       "      <th>ctgr2_share_q1w</th>\n",
       "      <th>ctgr2_share_c2w</th>\n",
       "      <th>ctgr2_share_q2w</th>\n",
       "      <th>ctgr2_share_c31d</th>\n",
       "      <th>ctgr2_share_q31d</th>\n",
       "      <th>item_id</th>\n",
       "      <th>user_id</th>\n",
       "      <th>ctb_pred</th>\n",
       "      <th>rank_ctb</th>\n",
       "    </tr>\n",
       "  </thead>\n",
       "  <tbody>\n",
       "    <tr>\n",
       "      <th>50</th>\n",
       "      <td>1.0</td>\n",
       "      <td>NaN</td>\n",
       "      <td>-1</td>\n",
       "      <td>NaN</td>\n",
       "      <td>nan</td>\n",
       "      <td>NaN</td>\n",
       "      <td>NaN</td>\n",
       "      <td>NaN</td>\n",
       "      <td>NaN</td>\n",
       "      <td>NaN</td>\n",
       "      <td>...</td>\n",
       "      <td>NaN</td>\n",
       "      <td>NaN</td>\n",
       "      <td>NaN</td>\n",
       "      <td>NaN</td>\n",
       "      <td>NaN</td>\n",
       "      <td>NaN</td>\n",
       "      <td>301962</td>\n",
       "      <td>9140868220</td>\n",
       "      <td>0.000295</td>\n",
       "      <td>1</td>\n",
       "    </tr>\n",
       "    <tr>\n",
       "      <th>0</th>\n",
       "      <td>2.0</td>\n",
       "      <td>NaN</td>\n",
       "      <td>-1</td>\n",
       "      <td>NaN</td>\n",
       "      <td>nan</td>\n",
       "      <td>NaN</td>\n",
       "      <td>NaN</td>\n",
       "      <td>NaN</td>\n",
       "      <td>NaN</td>\n",
       "      <td>NaN</td>\n",
       "      <td>...</td>\n",
       "      <td>NaN</td>\n",
       "      <td>NaN</td>\n",
       "      <td>NaN</td>\n",
       "      <td>NaN</td>\n",
       "      <td>NaN</td>\n",
       "      <td>NaN</td>\n",
       "      <td>301966</td>\n",
       "      <td>9140868220</td>\n",
       "      <td>0.000157</td>\n",
       "      <td>2</td>\n",
       "    </tr>\n",
       "    <tr>\n",
       "      <th>51</th>\n",
       "      <td>NaN</td>\n",
       "      <td>1.0</td>\n",
       "      <td>-1</td>\n",
       "      <td>NaN</td>\n",
       "      <td>nan</td>\n",
       "      <td>NaN</td>\n",
       "      <td>NaN</td>\n",
       "      <td>NaN</td>\n",
       "      <td>NaN</td>\n",
       "      <td>NaN</td>\n",
       "      <td>...</td>\n",
       "      <td>NaN</td>\n",
       "      <td>NaN</td>\n",
       "      <td>NaN</td>\n",
       "      <td>NaN</td>\n",
       "      <td>NaN</td>\n",
       "      <td>NaN</td>\n",
       "      <td>302628</td>\n",
       "      <td>9140868220</td>\n",
       "      <td>0.000155</td>\n",
       "      <td>3</td>\n",
       "    </tr>\n",
       "    <tr>\n",
       "      <th>26</th>\n",
       "      <td>3.0</td>\n",
       "      <td>NaN</td>\n",
       "      <td>-1</td>\n",
       "      <td>NaN</td>\n",
       "      <td>nan</td>\n",
       "      <td>NaN</td>\n",
       "      <td>NaN</td>\n",
       "      <td>NaN</td>\n",
       "      <td>NaN</td>\n",
       "      <td>NaN</td>\n",
       "      <td>...</td>\n",
       "      <td>NaN</td>\n",
       "      <td>NaN</td>\n",
       "      <td>NaN</td>\n",
       "      <td>NaN</td>\n",
       "      <td>NaN</td>\n",
       "      <td>NaN</td>\n",
       "      <td>301963</td>\n",
       "      <td>9140868220</td>\n",
       "      <td>0.000120</td>\n",
       "      <td>4</td>\n",
       "    </tr>\n",
       "    <tr>\n",
       "      <th>72</th>\n",
       "      <td>NaN</td>\n",
       "      <td>2.0</td>\n",
       "      <td>-1</td>\n",
       "      <td>NaN</td>\n",
       "      <td>nan</td>\n",
       "      <td>NaN</td>\n",
       "      <td>NaN</td>\n",
       "      <td>NaN</td>\n",
       "      <td>NaN</td>\n",
       "      <td>NaN</td>\n",
       "      <td>...</td>\n",
       "      <td>NaN</td>\n",
       "      <td>NaN</td>\n",
       "      <td>NaN</td>\n",
       "      <td>NaN</td>\n",
       "      <td>NaN</td>\n",
       "      <td>NaN</td>\n",
       "      <td>308317</td>\n",
       "      <td>9140868220</td>\n",
       "      <td>0.000079</td>\n",
       "      <td>5</td>\n",
       "    </tr>\n",
       "    <tr>\n",
       "      <th>...</th>\n",
       "      <td>...</td>\n",
       "      <td>...</td>\n",
       "      <td>...</td>\n",
       "      <td>...</td>\n",
       "      <td>...</td>\n",
       "      <td>...</td>\n",
       "      <td>...</td>\n",
       "      <td>...</td>\n",
       "      <td>...</td>\n",
       "      <td>...</td>\n",
       "      <td>...</td>\n",
       "      <td>...</td>\n",
       "      <td>...</td>\n",
       "      <td>...</td>\n",
       "      <td>...</td>\n",
       "      <td>...</td>\n",
       "      <td>...</td>\n",
       "      <td>...</td>\n",
       "      <td>...</td>\n",
       "      <td>...</td>\n",
       "      <td>...</td>\n",
       "    </tr>\n",
       "    <tr>\n",
       "      <th>266294</th>\n",
       "      <td>23.0</td>\n",
       "      <td>NaN</td>\n",
       "      <td>-1</td>\n",
       "      <td>NaN</td>\n",
       "      <td>Абрикос Лель</td>\n",
       "      <td>899.0</td>\n",
       "      <td>1.0</td>\n",
       "      <td>1.0</td>\n",
       "      <td>1.0</td>\n",
       "      <td>899.0</td>\n",
       "      <td>...</td>\n",
       "      <td>NaN</td>\n",
       "      <td>NaN</td>\n",
       "      <td>NaN</td>\n",
       "      <td>NaN</td>\n",
       "      <td>NaN</td>\n",
       "      <td>NaN</td>\n",
       "      <td>300028</td>\n",
       "      <td>16205221758</td>\n",
       "      <td>0.001964</td>\n",
       "      <td>66</td>\n",
       "    </tr>\n",
       "    <tr>\n",
       "      <th>266329</th>\n",
       "      <td>NaN</td>\n",
       "      <td>13.0</td>\n",
       "      <td>-1</td>\n",
       "      <td>NaN</td>\n",
       "      <td>Кашпо Сантино ТЕРРА пластик см см л крем</td>\n",
       "      <td>149.0</td>\n",
       "      <td>6.0</td>\n",
       "      <td>1.0</td>\n",
       "      <td>6.0</td>\n",
       "      <td>149.0</td>\n",
       "      <td>...</td>\n",
       "      <td>0.002717</td>\n",
       "      <td>0.001038</td>\n",
       "      <td>0.001451</td>\n",
       "      <td>0.000668</td>\n",
       "      <td>0.001282</td>\n",
       "      <td>0.000624</td>\n",
       "      <td>303306</td>\n",
       "      <td>16205221758</td>\n",
       "      <td>0.001239</td>\n",
       "      <td>67</td>\n",
       "    </tr>\n",
       "    <tr>\n",
       "      <th>266332</th>\n",
       "      <td>NaN</td>\n",
       "      <td>16.0</td>\n",
       "      <td>-1</td>\n",
       "      <td>NaN</td>\n",
       "      <td>Вишня Десертная Морозовой</td>\n",
       "      <td>790.0</td>\n",
       "      <td>1.0</td>\n",
       "      <td>1.0</td>\n",
       "      <td>1.0</td>\n",
       "      <td>790.0</td>\n",
       "      <td>...</td>\n",
       "      <td>NaN</td>\n",
       "      <td>NaN</td>\n",
       "      <td>NaN</td>\n",
       "      <td>NaN</td>\n",
       "      <td>NaN</td>\n",
       "      <td>NaN</td>\n",
       "      <td>301069</td>\n",
       "      <td>16205221758</td>\n",
       "      <td>0.001085</td>\n",
       "      <td>68</td>\n",
       "    </tr>\n",
       "    <tr>\n",
       "      <th>266330</th>\n",
       "      <td>NaN</td>\n",
       "      <td>14.0</td>\n",
       "      <td>-1</td>\n",
       "      <td>NaN</td>\n",
       "      <td>Кашпо Сантино ТЕРРА пластик см см л крем</td>\n",
       "      <td>199.0</td>\n",
       "      <td>2.0</td>\n",
       "      <td>1.0</td>\n",
       "      <td>2.0</td>\n",
       "      <td>199.0</td>\n",
       "      <td>...</td>\n",
       "      <td>0.008658</td>\n",
       "      <td>0.008520</td>\n",
       "      <td>0.005533</td>\n",
       "      <td>0.003747</td>\n",
       "      <td>0.002342</td>\n",
       "      <td>0.002247</td>\n",
       "      <td>303308</td>\n",
       "      <td>16205221758</td>\n",
       "      <td>0.000982</td>\n",
       "      <td>69</td>\n",
       "    </tr>\n",
       "    <tr>\n",
       "      <th>266323</th>\n",
       "      <td>NaN</td>\n",
       "      <td>7.0</td>\n",
       "      <td>-1</td>\n",
       "      <td>NaN</td>\n",
       "      <td>Семена газона теневыносливый мешок кг</td>\n",
       "      <td>8990.0</td>\n",
       "      <td>2.0</td>\n",
       "      <td>1.0</td>\n",
       "      <td>2.0</td>\n",
       "      <td>8990.0</td>\n",
       "      <td>...</td>\n",
       "      <td>0.015873</td>\n",
       "      <td>0.015152</td>\n",
       "      <td>0.009836</td>\n",
       "      <td>0.008602</td>\n",
       "      <td>0.004127</td>\n",
       "      <td>0.003331</td>\n",
       "      <td>309436</td>\n",
       "      <td>16205221758</td>\n",
       "      <td>0.000910</td>\n",
       "      <td>70</td>\n",
       "    </tr>\n",
       "  </tbody>\n",
       "</table>\n",
       "<p>266817 rows × 98 columns</p>\n",
       "</div>"
      ],
      "text/plain": [
       "        rank_popular  rank_cos  device_number  rank_cooc  \\\n",
       "50               1.0       NaN             -1        NaN   \n",
       "0                2.0       NaN             -1        NaN   \n",
       "51               NaN       1.0             -1        NaN   \n",
       "26               3.0       NaN             -1        NaN   \n",
       "72               NaN       2.0             -1        NaN   \n",
       "...              ...       ...            ...        ...   \n",
       "266294          23.0       NaN             -1        NaN   \n",
       "266329           NaN      13.0             -1        NaN   \n",
       "266332           NaN      16.0             -1        NaN   \n",
       "266330           NaN      14.0             -1        NaN   \n",
       "266323           NaN       7.0             -1        NaN   \n",
       "\n",
       "                                            name   price  quantity  \\\n",
       "50                                           nan     NaN       NaN   \n",
       "0                                            nan     NaN       NaN   \n",
       "51                                           nan     NaN       NaN   \n",
       "26                                           nan     NaN       NaN   \n",
       "72                                           nan     NaN       NaN   \n",
       "...                                          ...     ...       ...   \n",
       "266294                              Абрикос Лель   899.0       1.0   \n",
       "266329  Кашпо Сантино ТЕРРА пластик см см л крем   149.0       6.0   \n",
       "266332                 Вишня Десертная Морозовой   790.0       1.0   \n",
       "266330  Кашпо Сантино ТЕРРА пластик см см л крем   199.0       2.0   \n",
       "266323     Семена газона теневыносливый мешок кг  8990.0       2.0   \n",
       "\n",
       "        count_grp_x_x  quantity_sum_grp_x_x  price_mean_x_x  ...  \\\n",
       "50                NaN                   NaN             NaN  ...   \n",
       "0                 NaN                   NaN             NaN  ...   \n",
       "51                NaN                   NaN             NaN  ...   \n",
       "26                NaN                   NaN             NaN  ...   \n",
       "72                NaN                   NaN             NaN  ...   \n",
       "...               ...                   ...             ...  ...   \n",
       "266294            1.0                   1.0           899.0  ...   \n",
       "266329            1.0                   6.0           149.0  ...   \n",
       "266332            1.0                   1.0           790.0  ...   \n",
       "266330            1.0                   2.0           199.0  ...   \n",
       "266323            1.0                   2.0          8990.0  ...   \n",
       "\n",
       "        ctgr2_share_c1w  ctgr2_share_q1w  ctgr2_share_c2w  ctgr2_share_q2w  \\\n",
       "50                  NaN              NaN              NaN              NaN   \n",
       "0                   NaN              NaN              NaN              NaN   \n",
       "51                  NaN              NaN              NaN              NaN   \n",
       "26                  NaN              NaN              NaN              NaN   \n",
       "72                  NaN              NaN              NaN              NaN   \n",
       "...                 ...              ...              ...              ...   \n",
       "266294              NaN              NaN              NaN              NaN   \n",
       "266329         0.002717         0.001038         0.001451         0.000668   \n",
       "266332              NaN              NaN              NaN              NaN   \n",
       "266330         0.008658         0.008520         0.005533         0.003747   \n",
       "266323         0.015873         0.015152         0.009836         0.008602   \n",
       "\n",
       "        ctgr2_share_c31d  ctgr2_share_q31d  item_id      user_id  ctb_pred  \\\n",
       "50                   NaN               NaN   301962   9140868220  0.000295   \n",
       "0                    NaN               NaN   301966   9140868220  0.000157   \n",
       "51                   NaN               NaN   302628   9140868220  0.000155   \n",
       "26                   NaN               NaN   301963   9140868220  0.000120   \n",
       "72                   NaN               NaN   308317   9140868220  0.000079   \n",
       "...                  ...               ...      ...          ...       ...   \n",
       "266294               NaN               NaN   300028  16205221758  0.001964   \n",
       "266329          0.001282          0.000624   303306  16205221758  0.001239   \n",
       "266332               NaN               NaN   301069  16205221758  0.001085   \n",
       "266330          0.002342          0.002247   303308  16205221758  0.000982   \n",
       "266323          0.004127          0.003331   309436  16205221758  0.000910   \n",
       "\n",
       "        rank_ctb  \n",
       "50             1  \n",
       "0              2  \n",
       "51             3  \n",
       "26             4  \n",
       "72             5  \n",
       "...          ...  \n",
       "266294        66  \n",
       "266329        67  \n",
       "266332        68  \n",
       "266330        69  \n",
       "266323        70  \n",
       "\n",
       "[266817 rows x 98 columns]"
      ]
     },
     "execution_count": 167,
     "metadata": {},
     "output_type": "execute_result"
    }
   ],
   "source": [
    "candidates_test_2"
   ]
  },
  {
   "cell_type": "code",
   "execution_count": 171,
   "metadata": {},
   "outputs": [
    {
     "data": {
      "text/html": [
       "<div>\n",
       "<style scoped>\n",
       "    .dataframe tbody tr th:only-of-type {\n",
       "        vertical-align: middle;\n",
       "    }\n",
       "\n",
       "    .dataframe tbody tr th {\n",
       "        vertical-align: top;\n",
       "    }\n",
       "\n",
       "    .dataframe thead th {\n",
       "        text-align: right;\n",
       "    }\n",
       "</style>\n",
       "<table border=\"1\" class=\"dataframe\">\n",
       "  <thead>\n",
       "    <tr style=\"text-align: right;\">\n",
       "      <th></th>\n",
       "      <th>receipt_id</th>\n",
       "      <th>item_id</th>\n",
       "    </tr>\n",
       "  </thead>\n",
       "  <tbody>\n",
       "    <tr>\n",
       "      <th>0</th>\n",
       "      <td>10829138212</td>\n",
       "      <td>306441</td>\n",
       "    </tr>\n",
       "    <tr>\n",
       "      <th>1</th>\n",
       "      <td>10982521349</td>\n",
       "      <td>306441</td>\n",
       "    </tr>\n",
       "    <tr>\n",
       "      <th>2</th>\n",
       "      <td>11060104065</td>\n",
       "      <td>306441</td>\n",
       "    </tr>\n",
       "    <tr>\n",
       "      <th>3</th>\n",
       "      <td>11207039921</td>\n",
       "      <td>306441</td>\n",
       "    </tr>\n",
       "    <tr>\n",
       "      <th>4</th>\n",
       "      <td>11215735350</td>\n",
       "      <td>306441</td>\n",
       "    </tr>\n",
       "    <tr>\n",
       "      <th>...</th>\n",
       "      <td>...</td>\n",
       "      <td>...</td>\n",
       "    </tr>\n",
       "    <tr>\n",
       "      <th>3050</th>\n",
       "      <td>16154505762</td>\n",
       "      <td>306441</td>\n",
       "    </tr>\n",
       "    <tr>\n",
       "      <th>3051</th>\n",
       "      <td>16183067597</td>\n",
       "      <td>306441</td>\n",
       "    </tr>\n",
       "    <tr>\n",
       "      <th>3052</th>\n",
       "      <td>16183496280</td>\n",
       "      <td>306441</td>\n",
       "    </tr>\n",
       "    <tr>\n",
       "      <th>3053</th>\n",
       "      <td>16193268732</td>\n",
       "      <td>306441</td>\n",
       "    </tr>\n",
       "    <tr>\n",
       "      <th>3054</th>\n",
       "      <td>16205221758</td>\n",
       "      <td>306441</td>\n",
       "    </tr>\n",
       "  </tbody>\n",
       "</table>\n",
       "<p>3055 rows × 2 columns</p>\n",
       "</div>"
      ],
      "text/plain": [
       "       receipt_id  item_id\n",
       "0     10829138212   306441\n",
       "1     10982521349   306441\n",
       "2     11060104065   306441\n",
       "3     11207039921   306441\n",
       "4     11215735350   306441\n",
       "...           ...      ...\n",
       "3050  16154505762   306441\n",
       "3051  16183067597   306441\n",
       "3052  16183496280   306441\n",
       "3053  16193268732   306441\n",
       "3054  16205221758   306441\n",
       "\n",
       "[3055 rows x 2 columns]"
      ]
     },
     "execution_count": 171,
     "metadata": {},
     "output_type": "execute_result"
    }
   ],
   "source": [
    "sumb = pd.read_csv('leaderboard/submission.csv', sep=';')\n",
    "sumb"
   ]
  },
  {
   "cell_type": "code",
   "execution_count": 174,
   "metadata": {},
   "outputs": [],
   "source": [
    "for index, row in sumb.iterrows():\n",
    "    val = candidates_test_2.loc[(candidates_test_2['user_id'] == row['receipt_id']) & (candidates_test_2['rank_ctb'] == 1), 'item_id'].values[0]\n",
    "    sumb.iloc[index]['item_id'] = val"
   ]
  },
  {
   "cell_type": "code",
   "execution_count": 176,
   "metadata": {},
   "outputs": [
    {
     "data": {
      "text/html": [
       "<div>\n",
       "<style scoped>\n",
       "    .dataframe tbody tr th:only-of-type {\n",
       "        vertical-align: middle;\n",
       "    }\n",
       "\n",
       "    .dataframe tbody tr th {\n",
       "        vertical-align: top;\n",
       "    }\n",
       "\n",
       "    .dataframe thead th {\n",
       "        text-align: right;\n",
       "    }\n",
       "</style>\n",
       "<table border=\"1\" class=\"dataframe\">\n",
       "  <thead>\n",
       "    <tr style=\"text-align: right;\">\n",
       "      <th></th>\n",
       "      <th>receipt_id</th>\n",
       "      <th>item_id</th>\n",
       "    </tr>\n",
       "  </thead>\n",
       "  <tbody>\n",
       "    <tr>\n",
       "      <th>0</th>\n",
       "      <td>10829138212</td>\n",
       "      <td>311282</td>\n",
       "    </tr>\n",
       "    <tr>\n",
       "      <th>1</th>\n",
       "      <td>10982521349</td>\n",
       "      <td>304216</td>\n",
       "    </tr>\n",
       "    <tr>\n",
       "      <th>2</th>\n",
       "      <td>11060104065</td>\n",
       "      <td>302601</td>\n",
       "    </tr>\n",
       "    <tr>\n",
       "      <th>3</th>\n",
       "      <td>11207039921</td>\n",
       "      <td>312337</td>\n",
       "    </tr>\n",
       "    <tr>\n",
       "      <th>4</th>\n",
       "      <td>11215735350</td>\n",
       "      <td>311550</td>\n",
       "    </tr>\n",
       "    <tr>\n",
       "      <th>...</th>\n",
       "      <td>...</td>\n",
       "      <td>...</td>\n",
       "    </tr>\n",
       "    <tr>\n",
       "      <th>3050</th>\n",
       "      <td>16154505762</td>\n",
       "      <td>313229</td>\n",
       "    </tr>\n",
       "    <tr>\n",
       "      <th>3051</th>\n",
       "      <td>16183067597</td>\n",
       "      <td>306548</td>\n",
       "    </tr>\n",
       "    <tr>\n",
       "      <th>3052</th>\n",
       "      <td>16183496280</td>\n",
       "      <td>305669</td>\n",
       "    </tr>\n",
       "    <tr>\n",
       "      <th>3053</th>\n",
       "      <td>16193268732</td>\n",
       "      <td>313022</td>\n",
       "    </tr>\n",
       "    <tr>\n",
       "      <th>3054</th>\n",
       "      <td>16205221758</td>\n",
       "      <td>303452</td>\n",
       "    </tr>\n",
       "  </tbody>\n",
       "</table>\n",
       "<p>3055 rows × 2 columns</p>\n",
       "</div>"
      ],
      "text/plain": [
       "       receipt_id  item_id\n",
       "0     10829138212   311282\n",
       "1     10982521349   304216\n",
       "2     11060104065   302601\n",
       "3     11207039921   312337\n",
       "4     11215735350   311550\n",
       "...           ...      ...\n",
       "3050  16154505762   313229\n",
       "3051  16183067597   306548\n",
       "3052  16183496280   305669\n",
       "3053  16193268732   313022\n",
       "3054  16205221758   303452\n",
       "\n",
       "[3055 rows x 2 columns]"
      ]
     },
     "execution_count": 176,
     "metadata": {},
     "output_type": "execute_result"
    }
   ],
   "source": [
    "sumb"
   ]
  },
  {
   "cell_type": "code",
   "execution_count": 165,
   "metadata": {},
   "outputs": [
    {
     "ename": "NameError",
     "evalue": "name 'interactions_val_target' is not defined",
     "output_type": "error",
     "traceback": [
      "\u001b[0;31m---------------------------------------------------------------------------\u001b[0m",
      "\u001b[0;31mNameError\u001b[0m                                 Traceback (most recent call last)",
      "\u001b[1;32m/Users/vladimiragishev/Desktop/Code/Python/RecSys/universalrecsys-hack/classic_model/noterbook_leaderboard.ipynb Cell 90\u001b[0m line \u001b[0;36m1\n\u001b[0;32m----> <a href='vscode-notebook-cell:/Users/vladimiragishev/Desktop/Code/Python/RecSys/universalrecsys-hack/classic_model/noterbook_leaderboard.ipynb#Y146sZmlsZQ%3D%3D?line=0'>1</a>\u001b[0m interactions_val_target\u001b[39m.\u001b[39mcolumns \u001b[39m=\u001b[39m [\u001b[39m'\u001b[39m\u001b[39muser_id\u001b[39m\u001b[39m'\u001b[39m, \u001b[39m'\u001b[39m\u001b[39mitem_id\u001b[39m\u001b[39m'\u001b[39m]\n",
      "\u001b[0;31mNameError\u001b[0m: name 'interactions_val_target' is not defined"
     ]
    }
   ],
   "source": [
    "interactions_val_target.columns = ['user_id', 'item_id']"
   ]
  },
  {
   "cell_type": "code",
   "execution_count": null,
   "metadata": {},
   "outputs": [],
   "source": [
    "interactions_val.to_csv('val_dataset.csv')"
   ]
  },
  {
   "cell_type": "code",
   "execution_count": null,
   "metadata": {},
   "outputs": [],
   "source": [
    "compute_metrics(interactions_val_target, candidates_test_2[['user_id', 'item_id', 'rank_ctb']], 10, rank_col='rank_ctb')"
   ]
  },
  {
   "cell_type": "code",
   "execution_count": null,
   "metadata": {},
   "outputs": [],
   "source": [
    "candidates_test_2[['user_id', 'item_id', 'rank_ctb']].loc[candidates_test_2['rank_ctb'] == 1].to_csv(\"val_predictions.csv\")"
   ]
  },
  {
   "cell_type": "code",
   "execution_count": null,
   "metadata": {},
   "outputs": [],
   "source": [
    "firsts = candidates_test_2[['user_id', 'item_id', 'rank_ctb']].loc[candidates_test_2['rank_ctb'] == 1].user_id"
   ]
  },
  {
   "cell_type": "code",
   "execution_count": null,
   "metadata": {},
   "outputs": [],
   "source": [
    "interactions_val_target.user_id.values"
   ]
  },
  {
   "cell_type": "code",
   "execution_count": null,
   "metadata": {},
   "outputs": [],
   "source": [
    "for i in firsts:\n",
    "    real = interactions_val_target.loc[interactions_val_target['receipt_id'] == i]\n",
    "    pred = candidates_test_2.loc[candidates_test_2['user_id'] == i]\n",
    "    if real['item_id'].values[0] == pred['item_id'].values[0]:\n",
    "        print(i)"
   ]
  },
  {
   "cell_type": "code",
   "execution_count": null,
   "metadata": {},
   "outputs": [],
   "source": []
  }
 ],
 "metadata": {
  "kernelspec": {
   "display_name": "venv",
   "language": "python",
   "name": "python3"
  },
  "language_info": {
   "codemirror_mode": {
    "name": "ipython",
    "version": 3
   },
   "file_extension": ".py",
   "mimetype": "text/x-python",
   "name": "python",
   "nbconvert_exporter": "python",
   "pygments_lexer": "ipython3",
   "version": "3.10.4"
  },
  "orig_nbformat": 4
 },
 "nbformat": 4,
 "nbformat_minor": 2
}
