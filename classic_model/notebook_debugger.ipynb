{
 "cells": [
  {
   "cell_type": "code",
   "execution_count": 1,
   "metadata": {},
   "outputs": [
    {
     "name": "stderr",
     "output_type": "stream",
     "text": [
      "/Users/vladimiragishev/Desktop/Code/Python/RecSys/universalrecsys-hack/venv/lib/python3.10/site-packages/lightfm/_lightfm_fast.py:9: UserWarning: LightFM was compiled without OpenMP support. Only a single thread will be used.\n",
      "  warnings.warn(\n"
     ]
    }
   ],
   "source": [
    "import pandas as pd\n",
    "\n",
    "from utils import *\n",
    "from sklearn.metrics import accuracy_score, confusion_matrix, f1_score, roc_auc_score\n",
    "from lightfm import LightFM\n",
    "from catboost import CatBoostClassifier\n",
    "from sklearn.metrics import roc_auc_score\n",
    "from tqdm import tqdm\n",
    "from recbole.utils import init_logger, get_model, init_seed\n",
    "import pickle\n",
    "from logging import getLogger\n",
    "import torch\n",
    "from recbole.data import create_dataset, data_preparation\n",
    "from models import *\n",
    "from implicit.nearest_neighbours import CosineRecommender, BM25Recommender, TFIDFRecommender\n",
    "import scipy.sparse as sp"
   ]
  },
  {
   "cell_type": "code",
   "execution_count": 2,
   "metadata": {},
   "outputs": [],
   "source": [
    "class COSIN:\n",
    "\n",
    "    def __init__(self, data, top_N=10, mdl_params={}, filter_already_liked_items=True):\n",
    "        self.data=data\n",
    "        self.model = CosineRecommender(**mdl_params)\n",
    "        self.filter_already_liked_items = filter_already_liked_items\n",
    "        self.top_N = top_N\n",
    "        self.users_inv_mapping = dict(enumerate(data['user_id'].unique()))\n",
    "        self.users_mapping = {v: k for k, v in self.users_inv_mapping.items()}\n",
    "        self.items_inv_mapping = dict(enumerate(data['item_id'].unique()))\n",
    "        self.items_mapping = {v: k for k, v in self.items_inv_mapping.items()}\n",
    "\n",
    "    def get_coo_matrix(self, df,\n",
    "                       user_col='user_id',\n",
    "                       item_col='item_id',\n",
    "                       weight_col=None):\n",
    "        if weight_col is None:\n",
    "            weights = np.ones(len(df), dtype=np.float32)\n",
    "        else:\n",
    "            weights = df[weight_col].astype(np.float32)\n",
    "        interaction_matrix = sp.coo_matrix((\n",
    "            weights,\n",
    "            (\n",
    "                df[user_col].map(self.users_mapping),\n",
    "                df[item_col].map(self.items_mapping)\n",
    "            )\n",
    "        ))\n",
    "        return interaction_matrix\n",
    "\n",
    "    def train(self):\n",
    "        # preprocess matrix\n",
    "        self.train_mat = self.get_coo_matrix(df = self.data).tocsr()\n",
    "        self.model.fit(self.train_mat)\n",
    "        return\n",
    "\n",
    " \n",
    "\n",
    "    def predict(self, users):\n",
    "        userids = [self.users_mapping[u] for u in users]\n",
    "        recs, scores = self.model.recommend(userids, self.train_mat[userids], self.top_N,\n",
    "                               filter_already_liked_items=self.filter_already_liked_items)\n",
    "\n",
    "        a = pd.DataFrame({'users':users, 'item_id':(r for r in recs)})\n",
    "        a = a.explode('item_id').reset_index(drop=True)\n",
    "        a['rnk'] = a.groupby('users').cumcount()+1\n",
    "        a['items'] = a['item_id'].map(self.items_inv_mapping)\n",
    "        return a"
   ]
  },
  {
   "cell_type": "code",
   "execution_count": 3,
   "metadata": {},
   "outputs": [],
   "source": [
    "with open('trained_models/gru_supermarket_mapping.pickle', 'rb') as f:\n",
    "    mapper = pickle.load(f)\n",
    "\n",
    "with open('trained_models/gru_supermarket_embeddings.pickle', 'rb') as f:\n",
    "    embeddings = pickle.load(f)"
   ]
  },
  {
   "cell_type": "code",
   "execution_count": 4,
   "metadata": {},
   "outputs": [],
   "source": [
    "def add_embeddings(df):\n",
    "    def embeddings_giver(row):\n",
    "        if str(row) in mapper['item_id']:\n",
    "            internal_index = mapper['item_id'][str(row)]\n",
    "            emb = embeddings[:][internal_index]\n",
    "        else:\n",
    "            emb = np.ones(64)\n",
    "        return emb\n",
    "    column_names = []\n",
    "    df['embedding'] = df['item_id'].apply(embeddings_giver)\n",
    "    for i in range(64):\n",
    "        column_names.append(f\"column_{i + 1}\")\n",
    "\n",
    "    # Now you can assign values to these new columns based on your needs, for example:\n",
    "    # Let's say you want to fill the new columns with values from the 'embedding' column\n",
    "    df[column_names] = pd.DataFrame(df.embedding.tolist(), index= df.index)\n",
    "    df.drop('embedding', axis=1, inplace=True)\n",
    "    return df, column_names"
   ]
  },
  {
   "cell_type": "code",
   "execution_count": 5,
   "metadata": {},
   "outputs": [],
   "source": [
    "interactions, interactions_val, interactions_val_target = read_data_supermarket()"
   ]
  },
  {
   "cell_type": "code",
   "execution_count": 60,
   "metadata": {},
   "outputs": [],
   "source": [
    "all_data = pd.read_csv('train_val_supermarket_vov_feats.csv', index_col='Unnamed: 0')"
   ]
  },
  {
   "cell_type": "code",
   "execution_count": 7,
   "metadata": {},
   "outputs": [
    {
     "name": "stderr",
     "output_type": "stream",
     "text": [
      "100%|██████████| 65319/65319 [00:00<00:00, 521843.32it/s]\n"
     ]
    }
   ],
   "source": [
    "train, test = split_data(interactions)\n",
    "items_df = pd.read_csv('../content/items_supermarket.csv').drop('Unnamed: 0', axis=1)\n",
    "X_test, y_test = split_last_element(test)"
   ]
  },
  {
   "cell_type": "code",
   "execution_count": 8,
   "metadata": {},
   "outputs": [],
   "source": [
    "devices_dict = {}\n",
    "devices = interactions.device_id.unique()\n",
    "for i in range(0, len(devices)):\n",
    "    devices_dict[devices[i]] = i"
   ]
  },
  {
   "cell_type": "code",
   "execution_count": 9,
   "metadata": {},
   "outputs": [],
   "source": [
    "def add_devices(df, father_df):\n",
    "    def device_mapper(user_id):\n",
    "        device = father_df.loc[father_df['user_id'] == user_id, 'device_id'].values[0]\n",
    "        if device in devices_dict:\n",
    "            return devices_dict[device]\n",
    "        else:\n",
    "            return -1\n",
    "    df['device_number'] = df['user_id'].apply(device_mapper)\n",
    "    return df\n"
   ]
  },
  {
   "cell_type": "code",
   "execution_count": 10,
   "metadata": {},
   "outputs": [],
   "source": [
    "cosin_model = COSIN(X_test, top_N=50)"
   ]
  },
  {
   "cell_type": "code",
   "execution_count": 11,
   "metadata": {},
   "outputs": [
    {
     "name": "stderr",
     "output_type": "stream",
     "text": [
      "/Users/vladimiragishev/Desktop/Code/Python/RecSys/universalrecsys-hack/venv/lib/python3.10/site-packages/implicit/utils.py:138: ParameterWarning: Method expects CSR input, and was passed coo_matrix instead. Converting to CSR took 0.0013890266418457031 seconds\n",
      "  warnings.warn(\n"
     ]
    },
    {
     "data": {
      "application/vnd.jupyter.widget-view+json": {
       "model_id": "d269f90bb42947caa26ea68f1fb6d04f",
       "version_major": 2,
       "version_minor": 0
      },
      "text/plain": [
       "  0%|          | 0/12080 [00:00<?, ?it/s]"
      ]
     },
     "metadata": {},
     "output_type": "display_data"
    }
   ],
   "source": [
    "cosin_model.train()"
   ]
  },
  {
   "cell_type": "code",
   "execution_count": 12,
   "metadata": {},
   "outputs": [],
   "source": [
    "cos_candidates = cosin_model.predict(X_test['user_id'].unique())"
   ]
  },
  {
   "cell_type": "code",
   "execution_count": 13,
   "metadata": {},
   "outputs": [],
   "source": [
    "cos_candidates = cos_candidates[['users', 'rnk', 'items']]"
   ]
  },
  {
   "cell_type": "code",
   "execution_count": 14,
   "metadata": {},
   "outputs": [],
   "source": [
    "cos_candidates.columns = ['user_id', 'rank_cos', 'item_id']"
   ]
  },
  {
   "cell_type": "code",
   "execution_count": 15,
   "metadata": {},
   "outputs": [],
   "source": [
    "cos_candidates['item_id'] = cos_candidates['item_id']"
   ]
  },
  {
   "cell_type": "code",
   "execution_count": 16,
   "metadata": {},
   "outputs": [
    {
     "data": {
      "text/plain": [
       "0          116834.0\n",
       "1          101390.0\n",
       "2          102557.0\n",
       "3          115050.0\n",
       "4          113001.0\n",
       "             ...   \n",
       "3265945         NaN\n",
       "3265946         NaN\n",
       "3265947         NaN\n",
       "3265948         NaN\n",
       "3265949         NaN\n",
       "Name: item_id, Length: 3265950, dtype: float64"
      ]
     },
     "execution_count": 16,
     "metadata": {},
     "output_type": "execute_result"
    }
   ],
   "source": [
    "cos_candidates['item_id']"
   ]
  },
  {
   "cell_type": "code",
   "execution_count": 17,
   "metadata": {},
   "outputs": [
    {
     "name": "stderr",
     "output_type": "stream",
     "text": [
      "100%|██████████| 25/25 [00:01<00:00, 20.55it/s]\n"
     ]
    }
   ],
   "source": [
    "popular_model = train_popular_model(train)\n",
    "popular_candidates = popularmakePreds(popular_model, X_test, 50)\n",
    "\n",
    "cooc_models = {}\n",
    "cooc_reccomender = train_cooc_model(train)\n",
    "for device_id in train['device_id'].unique():\n",
    "    cooc_models[device_id] = CoocurenceRecommender(cooc_reccomender[device_id])"
   ]
  },
  {
   "cell_type": "code",
   "execution_count": 18,
   "metadata": {},
   "outputs": [
    {
     "data": {
      "text/plain": [
       "(65319, 3265950)"
      ]
     },
     "execution_count": 18,
     "metadata": {},
     "output_type": "execute_result"
    }
   ],
   "source": [
    "X_test['user_id'].nunique(), X_test['user_id'].nunique() * 50"
   ]
  },
  {
   "cell_type": "code",
   "execution_count": 19,
   "metadata": {},
   "outputs": [],
   "source": [
    "coon_candidates = coocmakePreds(cooc_models, X_test, 50)"
   ]
  },
  {
   "cell_type": "code",
   "execution_count": 20,
   "metadata": {},
   "outputs": [],
   "source": [
    "candidates = pd.merge(coon_candidates, popular_candidates, on=['user_id', 'item_id'], how='outer')\n",
    "candidates = pd.merge(candidates, cos_candidates, on=['user_id', 'item_id'], how='outer')"
   ]
  },
  {
   "cell_type": "code",
   "execution_count": 21,
   "metadata": {},
   "outputs": [
    {
     "data": {
      "text/html": [
       "<div>\n",
       "<style scoped>\n",
       "    .dataframe tbody tr th:only-of-type {\n",
       "        vertical-align: middle;\n",
       "    }\n",
       "\n",
       "    .dataframe tbody tr th {\n",
       "        vertical-align: top;\n",
       "    }\n",
       "\n",
       "    .dataframe thead th {\n",
       "        text-align: right;\n",
       "    }\n",
       "</style>\n",
       "<table border=\"1\" class=\"dataframe\">\n",
       "  <thead>\n",
       "    <tr style=\"text-align: right;\">\n",
       "      <th></th>\n",
       "      <th>user_id</th>\n",
       "      <th>item_id</th>\n",
       "      <th>rank_cooc</th>\n",
       "      <th>rank_popular</th>\n",
       "      <th>rank_cos</th>\n",
       "    </tr>\n",
       "  </thead>\n",
       "  <tbody>\n",
       "    <tr>\n",
       "      <th>0</th>\n",
       "      <td>9127023800</td>\n",
       "      <td>113745</td>\n",
       "      <td>1.0</td>\n",
       "      <td>NaN</td>\n",
       "      <td>NaN</td>\n",
       "    </tr>\n",
       "    <tr>\n",
       "      <th>1</th>\n",
       "      <td>9127023800</td>\n",
       "      <td>100826</td>\n",
       "      <td>2.0</td>\n",
       "      <td>39.0</td>\n",
       "      <td>NaN</td>\n",
       "    </tr>\n",
       "    <tr>\n",
       "      <th>2</th>\n",
       "      <td>9127023800</td>\n",
       "      <td>109607</td>\n",
       "      <td>3.0</td>\n",
       "      <td>11.0</td>\n",
       "      <td>NaN</td>\n",
       "    </tr>\n",
       "    <tr>\n",
       "      <th>3</th>\n",
       "      <td>9127023800</td>\n",
       "      <td>103569</td>\n",
       "      <td>4.0</td>\n",
       "      <td>NaN</td>\n",
       "      <td>NaN</td>\n",
       "    </tr>\n",
       "    <tr>\n",
       "      <th>4</th>\n",
       "      <td>9127023800</td>\n",
       "      <td>111425</td>\n",
       "      <td>5.0</td>\n",
       "      <td>NaN</td>\n",
       "      <td>NaN</td>\n",
       "    </tr>\n",
       "    <tr>\n",
       "      <th>...</th>\n",
       "      <td>...</td>\n",
       "      <td>...</td>\n",
       "      <td>...</td>\n",
       "      <td>...</td>\n",
       "      <td>...</td>\n",
       "    </tr>\n",
       "    <tr>\n",
       "      <th>7225565</th>\n",
       "      <td>16209974490</td>\n",
       "      <td>NaN</td>\n",
       "      <td>NaN</td>\n",
       "      <td>NaN</td>\n",
       "      <td>46.0</td>\n",
       "    </tr>\n",
       "    <tr>\n",
       "      <th>7225566</th>\n",
       "      <td>16209974490</td>\n",
       "      <td>NaN</td>\n",
       "      <td>NaN</td>\n",
       "      <td>NaN</td>\n",
       "      <td>47.0</td>\n",
       "    </tr>\n",
       "    <tr>\n",
       "      <th>7225567</th>\n",
       "      <td>16209974490</td>\n",
       "      <td>NaN</td>\n",
       "      <td>NaN</td>\n",
       "      <td>NaN</td>\n",
       "      <td>48.0</td>\n",
       "    </tr>\n",
       "    <tr>\n",
       "      <th>7225568</th>\n",
       "      <td>16209974490</td>\n",
       "      <td>NaN</td>\n",
       "      <td>NaN</td>\n",
       "      <td>NaN</td>\n",
       "      <td>49.0</td>\n",
       "    </tr>\n",
       "    <tr>\n",
       "      <th>7225569</th>\n",
       "      <td>16209974490</td>\n",
       "      <td>NaN</td>\n",
       "      <td>NaN</td>\n",
       "      <td>NaN</td>\n",
       "      <td>50.0</td>\n",
       "    </tr>\n",
       "  </tbody>\n",
       "</table>\n",
       "<p>7225570 rows × 5 columns</p>\n",
       "</div>"
      ],
      "text/plain": [
       "             user_id item_id  rank_cooc  rank_popular  rank_cos\n",
       "0         9127023800  113745        1.0           NaN       NaN\n",
       "1         9127023800  100826        2.0          39.0       NaN\n",
       "2         9127023800  109607        3.0          11.0       NaN\n",
       "3         9127023800  103569        4.0           NaN       NaN\n",
       "4         9127023800  111425        5.0           NaN       NaN\n",
       "...              ...     ...        ...           ...       ...\n",
       "7225565  16209974490     NaN        NaN           NaN      46.0\n",
       "7225566  16209974490     NaN        NaN           NaN      47.0\n",
       "7225567  16209974490     NaN        NaN           NaN      48.0\n",
       "7225568  16209974490     NaN        NaN           NaN      49.0\n",
       "7225569  16209974490     NaN        NaN           NaN      50.0\n",
       "\n",
       "[7225570 rows x 5 columns]"
      ]
     },
     "execution_count": 21,
     "metadata": {},
     "output_type": "execute_result"
    }
   ],
   "source": [
    "candidates"
   ]
  },
  {
   "cell_type": "code",
   "execution_count": 61,
   "metadata": {},
   "outputs": [],
   "source": [
    "all_data.drop('local_date', axis=1, inplace=True)"
   ]
  },
  {
   "cell_type": "code",
   "execution_count": 62,
   "metadata": {},
   "outputs": [],
   "source": [
    "all_data = all_data.rename(columns={'local_dt':'local_date', 'receipt_id':'user_id'})"
   ]
  },
  {
   "cell_type": "code",
   "execution_count": 24,
   "metadata": {},
   "outputs": [],
   "source": [
    "y_test['target'] = 1"
   ]
  },
  {
   "cell_type": "code",
   "execution_count": 25,
   "metadata": {},
   "outputs": [],
   "source": [
    "items_nan = items_df[~items_df['item_id'].isin(candidates['item_id'])]"
   ]
  },
  {
   "cell_type": "code",
   "execution_count": 26,
   "metadata": {},
   "outputs": [],
   "source": [
    "user_fake = {}\n",
    "for user in X_test['user_id'].unique():\n",
    "    user_fake[user] = list(items_nan.sample(15)['item_id'].values)"
   ]
  },
  {
   "cell_type": "code",
   "execution_count": 27,
   "metadata": {},
   "outputs": [],
   "source": [
    "user_fake_df = pd.DataFrame(list(user_fake.items()))"
   ]
  },
  {
   "cell_type": "code",
   "execution_count": 28,
   "metadata": {},
   "outputs": [],
   "source": [
    "user_fake_df.columns = ['user_id', 'item_id']\n",
    "user_fake_df = user_fake_df.explode('item_id')"
   ]
  },
  {
   "cell_type": "code",
   "execution_count": 29,
   "metadata": {},
   "outputs": [],
   "source": [
    "user_fake_df['rank_cooc'] = np.nan\n",
    "user_fake_df['rank_popular'] = np.nan\n",
    "user_fake_df['rank_cos'] = np.nan"
   ]
  },
  {
   "cell_type": "code",
   "execution_count": 30,
   "metadata": {},
   "outputs": [
    {
     "data": {
      "text/html": [
       "<div>\n",
       "<style scoped>\n",
       "    .dataframe tbody tr th:only-of-type {\n",
       "        vertical-align: middle;\n",
       "    }\n",
       "\n",
       "    .dataframe tbody tr th {\n",
       "        vertical-align: top;\n",
       "    }\n",
       "\n",
       "    .dataframe thead th {\n",
       "        text-align: right;\n",
       "    }\n",
       "</style>\n",
       "<table border=\"1\" class=\"dataframe\">\n",
       "  <thead>\n",
       "    <tr style=\"text-align: right;\">\n",
       "      <th></th>\n",
       "      <th>user_id</th>\n",
       "      <th>item_id</th>\n",
       "      <th>rank_cooc</th>\n",
       "      <th>rank_popular</th>\n",
       "      <th>rank_cos</th>\n",
       "    </tr>\n",
       "  </thead>\n",
       "  <tbody>\n",
       "    <tr>\n",
       "      <th>0</th>\n",
       "      <td>9127023800</td>\n",
       "      <td>113349</td>\n",
       "      <td>NaN</td>\n",
       "      <td>NaN</td>\n",
       "      <td>NaN</td>\n",
       "    </tr>\n",
       "    <tr>\n",
       "      <th>0</th>\n",
       "      <td>9127023800</td>\n",
       "      <td>113227</td>\n",
       "      <td>NaN</td>\n",
       "      <td>NaN</td>\n",
       "      <td>NaN</td>\n",
       "    </tr>\n",
       "    <tr>\n",
       "      <th>0</th>\n",
       "      <td>9127023800</td>\n",
       "      <td>105217</td>\n",
       "      <td>NaN</td>\n",
       "      <td>NaN</td>\n",
       "      <td>NaN</td>\n",
       "    </tr>\n",
       "    <tr>\n",
       "      <th>0</th>\n",
       "      <td>9127023800</td>\n",
       "      <td>109547</td>\n",
       "      <td>NaN</td>\n",
       "      <td>NaN</td>\n",
       "      <td>NaN</td>\n",
       "    </tr>\n",
       "    <tr>\n",
       "      <th>0</th>\n",
       "      <td>9127023800</td>\n",
       "      <td>113564</td>\n",
       "      <td>NaN</td>\n",
       "      <td>NaN</td>\n",
       "      <td>NaN</td>\n",
       "    </tr>\n",
       "    <tr>\n",
       "      <th>...</th>\n",
       "      <td>...</td>\n",
       "      <td>...</td>\n",
       "      <td>...</td>\n",
       "      <td>...</td>\n",
       "      <td>...</td>\n",
       "    </tr>\n",
       "    <tr>\n",
       "      <th>65318</th>\n",
       "      <td>16209974490</td>\n",
       "      <td>110479</td>\n",
       "      <td>NaN</td>\n",
       "      <td>NaN</td>\n",
       "      <td>NaN</td>\n",
       "    </tr>\n",
       "    <tr>\n",
       "      <th>65318</th>\n",
       "      <td>16209974490</td>\n",
       "      <td>111208</td>\n",
       "      <td>NaN</td>\n",
       "      <td>NaN</td>\n",
       "      <td>NaN</td>\n",
       "    </tr>\n",
       "    <tr>\n",
       "      <th>65318</th>\n",
       "      <td>16209974490</td>\n",
       "      <td>103867</td>\n",
       "      <td>NaN</td>\n",
       "      <td>NaN</td>\n",
       "      <td>NaN</td>\n",
       "    </tr>\n",
       "    <tr>\n",
       "      <th>65318</th>\n",
       "      <td>16209974490</td>\n",
       "      <td>101459</td>\n",
       "      <td>NaN</td>\n",
       "      <td>NaN</td>\n",
       "      <td>NaN</td>\n",
       "    </tr>\n",
       "    <tr>\n",
       "      <th>65318</th>\n",
       "      <td>16209974490</td>\n",
       "      <td>100789</td>\n",
       "      <td>NaN</td>\n",
       "      <td>NaN</td>\n",
       "      <td>NaN</td>\n",
       "    </tr>\n",
       "  </tbody>\n",
       "</table>\n",
       "<p>979785 rows × 5 columns</p>\n",
       "</div>"
      ],
      "text/plain": [
       "           user_id item_id  rank_cooc  rank_popular  rank_cos\n",
       "0       9127023800  113349        NaN           NaN       NaN\n",
       "0       9127023800  113227        NaN           NaN       NaN\n",
       "0       9127023800  105217        NaN           NaN       NaN\n",
       "0       9127023800  109547        NaN           NaN       NaN\n",
       "0       9127023800  113564        NaN           NaN       NaN\n",
       "...            ...     ...        ...           ...       ...\n",
       "65318  16209974490  110479        NaN           NaN       NaN\n",
       "65318  16209974490  111208        NaN           NaN       NaN\n",
       "65318  16209974490  103867        NaN           NaN       NaN\n",
       "65318  16209974490  101459        NaN           NaN       NaN\n",
       "65318  16209974490  100789        NaN           NaN       NaN\n",
       "\n",
       "[979785 rows x 5 columns]"
      ]
     },
     "execution_count": 30,
     "metadata": {},
     "output_type": "execute_result"
    }
   ],
   "source": [
    "user_fake_df"
   ]
  },
  {
   "cell_type": "code",
   "execution_count": 31,
   "metadata": {},
   "outputs": [],
   "source": [
    "candidates = pd.concat([candidates, user_fake_df])"
   ]
  },
  {
   "cell_type": "code",
   "execution_count": 32,
   "metadata": {},
   "outputs": [
    {
     "data": {
      "text/html": [
       "<div>\n",
       "<style scoped>\n",
       "    .dataframe tbody tr th:only-of-type {\n",
       "        vertical-align: middle;\n",
       "    }\n",
       "\n",
       "    .dataframe tbody tr th {\n",
       "        vertical-align: top;\n",
       "    }\n",
       "\n",
       "    .dataframe thead th {\n",
       "        text-align: right;\n",
       "    }\n",
       "</style>\n",
       "<table border=\"1\" class=\"dataframe\">\n",
       "  <thead>\n",
       "    <tr style=\"text-align: right;\">\n",
       "      <th></th>\n",
       "      <th>user_id</th>\n",
       "      <th>item_id</th>\n",
       "      <th>rank_cooc</th>\n",
       "      <th>rank_popular</th>\n",
       "      <th>rank_cos</th>\n",
       "      <th>target</th>\n",
       "    </tr>\n",
       "  </thead>\n",
       "  <tbody>\n",
       "    <tr>\n",
       "      <th>0</th>\n",
       "      <td>9127023800</td>\n",
       "      <td>113745</td>\n",
       "      <td>1.0</td>\n",
       "      <td>NaN</td>\n",
       "      <td>NaN</td>\n",
       "      <td>NaN</td>\n",
       "    </tr>\n",
       "    <tr>\n",
       "      <th>1</th>\n",
       "      <td>9127023800</td>\n",
       "      <td>100826</td>\n",
       "      <td>2.0</td>\n",
       "      <td>39.0</td>\n",
       "      <td>NaN</td>\n",
       "      <td>NaN</td>\n",
       "    </tr>\n",
       "    <tr>\n",
       "      <th>2</th>\n",
       "      <td>9127023800</td>\n",
       "      <td>109607</td>\n",
       "      <td>3.0</td>\n",
       "      <td>11.0</td>\n",
       "      <td>NaN</td>\n",
       "      <td>NaN</td>\n",
       "    </tr>\n",
       "    <tr>\n",
       "      <th>3</th>\n",
       "      <td>9127023800</td>\n",
       "      <td>103569</td>\n",
       "      <td>4.0</td>\n",
       "      <td>NaN</td>\n",
       "      <td>NaN</td>\n",
       "      <td>NaN</td>\n",
       "    </tr>\n",
       "    <tr>\n",
       "      <th>4</th>\n",
       "      <td>9127023800</td>\n",
       "      <td>111425</td>\n",
       "      <td>5.0</td>\n",
       "      <td>NaN</td>\n",
       "      <td>NaN</td>\n",
       "      <td>NaN</td>\n",
       "    </tr>\n",
       "    <tr>\n",
       "      <th>...</th>\n",
       "      <td>...</td>\n",
       "      <td>...</td>\n",
       "      <td>...</td>\n",
       "      <td>...</td>\n",
       "      <td>...</td>\n",
       "      <td>...</td>\n",
       "    </tr>\n",
       "    <tr>\n",
       "      <th>8246235</th>\n",
       "      <td>16209321711</td>\n",
       "      <td>101472</td>\n",
       "      <td>NaN</td>\n",
       "      <td>NaN</td>\n",
       "      <td>NaN</td>\n",
       "      <td>1.0</td>\n",
       "    </tr>\n",
       "    <tr>\n",
       "      <th>8246236</th>\n",
       "      <td>16209706543</td>\n",
       "      <td>101519</td>\n",
       "      <td>NaN</td>\n",
       "      <td>NaN</td>\n",
       "      <td>NaN</td>\n",
       "      <td>1.0</td>\n",
       "    </tr>\n",
       "    <tr>\n",
       "      <th>8246237</th>\n",
       "      <td>16209827576</td>\n",
       "      <td>114607</td>\n",
       "      <td>NaN</td>\n",
       "      <td>NaN</td>\n",
       "      <td>NaN</td>\n",
       "      <td>1.0</td>\n",
       "    </tr>\n",
       "    <tr>\n",
       "      <th>8246238</th>\n",
       "      <td>16209947725</td>\n",
       "      <td>110974</td>\n",
       "      <td>NaN</td>\n",
       "      <td>NaN</td>\n",
       "      <td>NaN</td>\n",
       "      <td>1.0</td>\n",
       "    </tr>\n",
       "    <tr>\n",
       "      <th>8246239</th>\n",
       "      <td>16209974490</td>\n",
       "      <td>104344</td>\n",
       "      <td>NaN</td>\n",
       "      <td>NaN</td>\n",
       "      <td>NaN</td>\n",
       "      <td>1.0</td>\n",
       "    </tr>\n",
       "  </tbody>\n",
       "</table>\n",
       "<p>8246240 rows × 6 columns</p>\n",
       "</div>"
      ],
      "text/plain": [
       "             user_id item_id  rank_cooc  rank_popular  rank_cos  target\n",
       "0         9127023800  113745        1.0           NaN       NaN     NaN\n",
       "1         9127023800  100826        2.0          39.0       NaN     NaN\n",
       "2         9127023800  109607        3.0          11.0       NaN     NaN\n",
       "3         9127023800  103569        4.0           NaN       NaN     NaN\n",
       "4         9127023800  111425        5.0           NaN       NaN     NaN\n",
       "...              ...     ...        ...           ...       ...     ...\n",
       "8246235  16209321711  101472        NaN           NaN       NaN     1.0\n",
       "8246236  16209706543  101519        NaN           NaN       NaN     1.0\n",
       "8246237  16209827576  114607        NaN           NaN       NaN     1.0\n",
       "8246238  16209947725  110974        NaN           NaN       NaN     1.0\n",
       "8246239  16209974490  104344        NaN           NaN       NaN     1.0\n",
       "\n",
       "[8246240 rows x 6 columns]"
      ]
     },
     "execution_count": 32,
     "metadata": {},
     "output_type": "execute_result"
    }
   ],
   "source": [
    "candidates = pd.merge(candidates, y_test, on=['user_id', 'item_id'], how='outer')\n",
    "candidates"
   ]
  },
  {
   "cell_type": "code",
   "execution_count": 33,
   "metadata": {},
   "outputs": [],
   "source": [
    "candidates = pd.merge(candidates, items_df, on='item_id', how=\"left\")"
   ]
  },
  {
   "cell_type": "code",
   "execution_count": 34,
   "metadata": {},
   "outputs": [],
   "source": [
    "# Remove any remaining non-Russian characters (if needed)\n",
    "import re\n",
    "def keep_only_russian(text):\n",
    "    russian_pattern = re.compile('[А-Яа-я]+')\n",
    "    try:\n",
    "        answer = ' '.join(russian_pattern.findall(text))\n",
    "    except:\n",
    "        return 'Не опознан'\n",
    "    return answer\n",
    "\n"
   ]
  },
  {
   "cell_type": "code",
   "execution_count": 35,
   "metadata": {},
   "outputs": [
    {
     "data": {
      "text/html": [
       "<div>\n",
       "<style scoped>\n",
       "    .dataframe tbody tr th:only-of-type {\n",
       "        vertical-align: middle;\n",
       "    }\n",
       "\n",
       "    .dataframe tbody tr th {\n",
       "        vertical-align: top;\n",
       "    }\n",
       "\n",
       "    .dataframe thead th {\n",
       "        text-align: right;\n",
       "    }\n",
       "</style>\n",
       "<table border=\"1\" class=\"dataframe\">\n",
       "  <thead>\n",
       "    <tr style=\"text-align: right;\">\n",
       "      <th></th>\n",
       "      <th>user_id</th>\n",
       "      <th>item_id</th>\n",
       "      <th>rank_cooc</th>\n",
       "      <th>rank_popular</th>\n",
       "      <th>rank_cos</th>\n",
       "      <th>target</th>\n",
       "      <th>name</th>\n",
       "    </tr>\n",
       "  </thead>\n",
       "  <tbody>\n",
       "    <tr>\n",
       "      <th>0</th>\n",
       "      <td>9127023800</td>\n",
       "      <td>113745</td>\n",
       "      <td>1.0</td>\n",
       "      <td>NaN</td>\n",
       "      <td>NaN</td>\n",
       "      <td>NaN</td>\n",
       "      <td>Сиг-ты Winston Compact Plus Blue МТ</td>\n",
       "    </tr>\n",
       "    <tr>\n",
       "      <th>1</th>\n",
       "      <td>9127023800</td>\n",
       "      <td>100826</td>\n",
       "      <td>2.0</td>\n",
       "      <td>39.0</td>\n",
       "      <td>NaN</td>\n",
       "      <td>NaN</td>\n",
       "      <td>Вермишель б/п Экспресс 50гр курица м/уп.</td>\n",
       "    </tr>\n",
       "    <tr>\n",
       "      <th>2</th>\n",
       "      <td>9127023800</td>\n",
       "      <td>109607</td>\n",
       "      <td>3.0</td>\n",
       "      <td>11.0</td>\n",
       "      <td>NaN</td>\n",
       "      <td>NaN</td>\n",
       "      <td>Пакет ПНД 340(+2*90)*600мм 23мкм Майка белый с...</td>\n",
       "    </tr>\n",
       "    <tr>\n",
       "      <th>3</th>\n",
       "      <td>9127023800</td>\n",
       "      <td>103569</td>\n",
       "      <td>4.0</td>\n",
       "      <td>NaN</td>\n",
       "      <td>NaN</td>\n",
       "      <td>NaN</td>\n",
       "      <td>К-са Докторская по-Стародворски вар./Стародвор...</td>\n",
       "    </tr>\n",
       "    <tr>\n",
       "      <th>4</th>\n",
       "      <td>9127023800</td>\n",
       "      <td>111425</td>\n",
       "      <td>5.0</td>\n",
       "      <td>NaN</td>\n",
       "      <td>NaN</td>\n",
       "      <td>NaN</td>\n",
       "      <td>Пирожок жар.с капустой 75гр /ПО Переслегино/</td>\n",
       "    </tr>\n",
       "    <tr>\n",
       "      <th>...</th>\n",
       "      <td>...</td>\n",
       "      <td>...</td>\n",
       "      <td>...</td>\n",
       "      <td>...</td>\n",
       "      <td>...</td>\n",
       "      <td>...</td>\n",
       "      <td>...</td>\n",
       "    </tr>\n",
       "    <tr>\n",
       "      <th>8246235</th>\n",
       "      <td>16209321711</td>\n",
       "      <td>101472</td>\n",
       "      <td>NaN</td>\n",
       "      <td>NaN</td>\n",
       "      <td>NaN</td>\n",
       "      <td>1.0</td>\n",
       "      <td>Водка Пшеничная 40% 0.1л стакан /ООО Чебоксарс...</td>\n",
       "    </tr>\n",
       "    <tr>\n",
       "      <th>8246236</th>\n",
       "      <td>16209706543</td>\n",
       "      <td>101519</td>\n",
       "      <td>NaN</td>\n",
       "      <td>NaN</td>\n",
       "      <td>NaN</td>\n",
       "      <td>1.0</td>\n",
       "      <td>Водка Сормовская люкс 40% 0.7л /Сордис/</td>\n",
       "    </tr>\n",
       "    <tr>\n",
       "      <th>8246237</th>\n",
       "      <td>16209827576</td>\n",
       "      <td>114607</td>\n",
       "      <td>NaN</td>\n",
       "      <td>NaN</td>\n",
       "      <td>NaN</td>\n",
       "      <td>1.0</td>\n",
       "      <td>Сухарики Три корочки 40гр ржаные томат с зелен...</td>\n",
       "    </tr>\n",
       "    <tr>\n",
       "      <th>8246238</th>\n",
       "      <td>16209947725</td>\n",
       "      <td>110974</td>\n",
       "      <td>NaN</td>\n",
       "      <td>NaN</td>\n",
       "      <td>NaN</td>\n",
       "      <td>1.0</td>\n",
       "      <td>Пиво Арсенальное ледяное светлое пастер. 4.7% ...</td>\n",
       "    </tr>\n",
       "    <tr>\n",
       "      <th>8246239</th>\n",
       "      <td>16209974490</td>\n",
       "      <td>104344</td>\n",
       "      <td>NaN</td>\n",
       "      <td>NaN</td>\n",
       "      <td>NaN</td>\n",
       "      <td>1.0</td>\n",
       "      <td>К-ты Лола со вк.чер.смородины 1кг/6 пак /Славя...</td>\n",
       "    </tr>\n",
       "  </tbody>\n",
       "</table>\n",
       "<p>8246240 rows × 7 columns</p>\n",
       "</div>"
      ],
      "text/plain": [
       "             user_id item_id  rank_cooc  rank_popular  rank_cos  target  \\\n",
       "0         9127023800  113745        1.0           NaN       NaN     NaN   \n",
       "1         9127023800  100826        2.0          39.0       NaN     NaN   \n",
       "2         9127023800  109607        3.0          11.0       NaN     NaN   \n",
       "3         9127023800  103569        4.0           NaN       NaN     NaN   \n",
       "4         9127023800  111425        5.0           NaN       NaN     NaN   \n",
       "...              ...     ...        ...           ...       ...     ...   \n",
       "8246235  16209321711  101472        NaN           NaN       NaN     1.0   \n",
       "8246236  16209706543  101519        NaN           NaN       NaN     1.0   \n",
       "8246237  16209827576  114607        NaN           NaN       NaN     1.0   \n",
       "8246238  16209947725  110974        NaN           NaN       NaN     1.0   \n",
       "8246239  16209974490  104344        NaN           NaN       NaN     1.0   \n",
       "\n",
       "                                                      name  \n",
       "0                      Сиг-ты Winston Compact Plus Blue МТ  \n",
       "1                 Вермишель б/п Экспресс 50гр курица м/уп.  \n",
       "2        Пакет ПНД 340(+2*90)*600мм 23мкм Майка белый с...  \n",
       "3        К-са Докторская по-Стародворски вар./Стародвор...  \n",
       "4             Пирожок жар.с капустой 75гр /ПО Переслегино/  \n",
       "...                                                    ...  \n",
       "8246235  Водка Пшеничная 40% 0.1л стакан /ООО Чебоксарс...  \n",
       "8246236            Водка Сормовская люкс 40% 0.7л /Сордис/  \n",
       "8246237  Сухарики Три корочки 40гр ржаные томат с зелен...  \n",
       "8246238  Пиво Арсенальное ледяное светлое пастер. 4.7% ...  \n",
       "8246239  К-ты Лола со вк.чер.смородины 1кг/6 пак /Славя...  \n",
       "\n",
       "[8246240 rows x 7 columns]"
      ]
     },
     "execution_count": 35,
     "metadata": {},
     "output_type": "execute_result"
    }
   ],
   "source": [
    "candidates"
   ]
  },
  {
   "cell_type": "code",
   "execution_count": 36,
   "metadata": {},
   "outputs": [],
   "source": [
    "candidates['target'].fillna(0, inplace=True)"
   ]
  },
  {
   "cell_type": "code",
   "execution_count": 37,
   "metadata": {},
   "outputs": [
    {
     "data": {
      "text/plain": [
       "target\n",
       "0.0    8180921\n",
       "1.0      65319\n",
       "Name: count, dtype: int64"
      ]
     },
     "execution_count": 37,
     "metadata": {},
     "output_type": "execute_result"
    }
   ],
   "source": [
    "candidates.target.value_counts()"
   ]
  },
  {
   "cell_type": "code",
   "execution_count": 66,
   "metadata": {},
   "outputs": [
    {
     "data": {
      "text/html": [
       "<div>\n",
       "<style scoped>\n",
       "    .dataframe tbody tr th:only-of-type {\n",
       "        vertical-align: middle;\n",
       "    }\n",
       "\n",
       "    .dataframe tbody tr th {\n",
       "        vertical-align: top;\n",
       "    }\n",
       "\n",
       "    .dataframe thead th {\n",
       "        text-align: right;\n",
       "    }\n",
       "</style>\n",
       "<table border=\"1\" class=\"dataframe\">\n",
       "  <thead>\n",
       "    <tr style=\"text-align: right;\">\n",
       "      <th></th>\n",
       "      <th>user_id</th>\n",
       "      <th>item_id</th>\n",
       "      <th>rank_cooc</th>\n",
       "      <th>rank_popular</th>\n",
       "      <th>rank_cos</th>\n",
       "      <th>target</th>\n",
       "      <th>name</th>\n",
       "    </tr>\n",
       "  </thead>\n",
       "  <tbody>\n",
       "    <tr>\n",
       "      <th>289</th>\n",
       "      <td>9128151500</td>\n",
       "      <td>117146</td>\n",
       "      <td>31.0</td>\n",
       "      <td>22.0</td>\n",
       "      <td>NaN</td>\n",
       "      <td>1.0</td>\n",
       "      <td>Яйцо куриное столовое 1кат /Птицефабрика Борки/</td>\n",
       "    </tr>\n",
       "    <tr>\n",
       "      <th>482</th>\n",
       "      <td>9129418371</td>\n",
       "      <td>112734</td>\n",
       "      <td>6.0</td>\n",
       "      <td>10.0</td>\n",
       "      <td>3.0</td>\n",
       "      <td>1.0</td>\n",
       "      <td>Салат Местный /ПО Переслегино/</td>\n",
       "    </tr>\n",
       "    <tr>\n",
       "      <th>531</th>\n",
       "      <td>9129533247</td>\n",
       "      <td>115873</td>\n",
       "      <td>1.0</td>\n",
       "      <td>1.0</td>\n",
       "      <td>NaN</td>\n",
       "      <td>1.0</td>\n",
       "      <td>Хлеб Дарницкий 600гр нарезка м/уп. /Пореченски...</td>\n",
       "    </tr>\n",
       "    <tr>\n",
       "      <th>556</th>\n",
       "      <td>9129542359</td>\n",
       "      <td>107560</td>\n",
       "      <td>24.0</td>\n",
       "      <td>NaN</td>\n",
       "      <td>NaN</td>\n",
       "      <td>1.0</td>\n",
       "      <td>Минтай жар. в тесте/ПО Переслегино/</td>\n",
       "    </tr>\n",
       "    <tr>\n",
       "      <th>635</th>\n",
       "      <td>9129658696</td>\n",
       "      <td>100316</td>\n",
       "      <td>9.0</td>\n",
       "      <td>NaN</td>\n",
       "      <td>9.0</td>\n",
       "      <td>1.0</td>\n",
       "      <td>Батон Нарезной 1с 300гр нарезка м/уп. / /</td>\n",
       "    </tr>\n",
       "    <tr>\n",
       "      <th>...</th>\n",
       "      <td>...</td>\n",
       "      <td>...</td>\n",
       "      <td>...</td>\n",
       "      <td>...</td>\n",
       "      <td>...</td>\n",
       "      <td>...</td>\n",
       "      <td>...</td>\n",
       "    </tr>\n",
       "    <tr>\n",
       "      <th>8246235</th>\n",
       "      <td>16209321711</td>\n",
       "      <td>101472</td>\n",
       "      <td>NaN</td>\n",
       "      <td>NaN</td>\n",
       "      <td>NaN</td>\n",
       "      <td>1.0</td>\n",
       "      <td>Водка Пшеничная 40% 0.1л стакан /ООО Чебоксарс...</td>\n",
       "    </tr>\n",
       "    <tr>\n",
       "      <th>8246236</th>\n",
       "      <td>16209706543</td>\n",
       "      <td>101519</td>\n",
       "      <td>NaN</td>\n",
       "      <td>NaN</td>\n",
       "      <td>NaN</td>\n",
       "      <td>1.0</td>\n",
       "      <td>Водка Сормовская люкс 40% 0.7л /Сордис/</td>\n",
       "    </tr>\n",
       "    <tr>\n",
       "      <th>8246237</th>\n",
       "      <td>16209827576</td>\n",
       "      <td>114607</td>\n",
       "      <td>NaN</td>\n",
       "      <td>NaN</td>\n",
       "      <td>NaN</td>\n",
       "      <td>1.0</td>\n",
       "      <td>Сухарики Три корочки 40гр ржаные томат с зелен...</td>\n",
       "    </tr>\n",
       "    <tr>\n",
       "      <th>8246238</th>\n",
       "      <td>16209947725</td>\n",
       "      <td>110974</td>\n",
       "      <td>NaN</td>\n",
       "      <td>NaN</td>\n",
       "      <td>NaN</td>\n",
       "      <td>1.0</td>\n",
       "      <td>Пиво Арсенальное ледяное светлое пастер. 4.7% ...</td>\n",
       "    </tr>\n",
       "    <tr>\n",
       "      <th>8246239</th>\n",
       "      <td>16209974490</td>\n",
       "      <td>104344</td>\n",
       "      <td>NaN</td>\n",
       "      <td>NaN</td>\n",
       "      <td>NaN</td>\n",
       "      <td>1.0</td>\n",
       "      <td>К-ты Лола со вк.чер.смородины 1кг/6 пак /Славя...</td>\n",
       "    </tr>\n",
       "  </tbody>\n",
       "</table>\n",
       "<p>65319 rows × 7 columns</p>\n",
       "</div>"
      ],
      "text/plain": [
       "             user_id item_id  rank_cooc  rank_popular  rank_cos  target  \\\n",
       "289       9128151500  117146       31.0          22.0       NaN     1.0   \n",
       "482       9129418371  112734        6.0          10.0       3.0     1.0   \n",
       "531       9129533247  115873        1.0           1.0       NaN     1.0   \n",
       "556       9129542359  107560       24.0           NaN       NaN     1.0   \n",
       "635       9129658696  100316        9.0           NaN       9.0     1.0   \n",
       "...              ...     ...        ...           ...       ...     ...   \n",
       "8246235  16209321711  101472        NaN           NaN       NaN     1.0   \n",
       "8246236  16209706543  101519        NaN           NaN       NaN     1.0   \n",
       "8246237  16209827576  114607        NaN           NaN       NaN     1.0   \n",
       "8246238  16209947725  110974        NaN           NaN       NaN     1.0   \n",
       "8246239  16209974490  104344        NaN           NaN       NaN     1.0   \n",
       "\n",
       "                                                      name  \n",
       "289        Яйцо куриное столовое 1кат /Птицефабрика Борки/  \n",
       "482                         Салат Местный /ПО Переслегино/  \n",
       "531      Хлеб Дарницкий 600гр нарезка м/уп. /Пореченски...  \n",
       "556                    Минтай жар. в тесте/ПО Переслегино/  \n",
       "635              Батон Нарезной 1с 300гр нарезка м/уп. / /  \n",
       "...                                                    ...  \n",
       "8246235  Водка Пшеничная 40% 0.1л стакан /ООО Чебоксарс...  \n",
       "8246236            Водка Сормовская люкс 40% 0.7л /Сордис/  \n",
       "8246237  Сухарики Три корочки 40гр ржаные томат с зелен...  \n",
       "8246238  Пиво Арсенальное ледяное светлое пастер. 4.7% ...  \n",
       "8246239  К-ты Лола со вк.чер.смородины 1кг/6 пак /Славя...  \n",
       "\n",
       "[65319 rows x 7 columns]"
      ]
     },
     "execution_count": 66,
     "metadata": {},
     "output_type": "execute_result"
    }
   ],
   "source": [
    "pos = candidates[candidates['target']==1]\n",
    "pos"
   ]
  },
  {
   "cell_type": "code",
   "execution_count": 67,
   "metadata": {},
   "outputs": [
    {
     "data": {
      "text/html": [
       "<div>\n",
       "<style scoped>\n",
       "    .dataframe tbody tr th:only-of-type {\n",
       "        vertical-align: middle;\n",
       "    }\n",
       "\n",
       "    .dataframe tbody tr th {\n",
       "        vertical-align: top;\n",
       "    }\n",
       "\n",
       "    .dataframe thead th {\n",
       "        text-align: right;\n",
       "    }\n",
       "</style>\n",
       "<table border=\"1\" class=\"dataframe\">\n",
       "  <thead>\n",
       "    <tr style=\"text-align: right;\">\n",
       "      <th></th>\n",
       "      <th>user_id</th>\n",
       "      <th>item_id</th>\n",
       "      <th>rank_cooc</th>\n",
       "      <th>rank_popular</th>\n",
       "      <th>rank_cos</th>\n",
       "      <th>target</th>\n",
       "      <th>name</th>\n",
       "    </tr>\n",
       "  </thead>\n",
       "  <tbody>\n",
       "    <tr>\n",
       "      <th>2474816</th>\n",
       "      <td>11446568269</td>\n",
       "      <td>101090</td>\n",
       "      <td>NaN</td>\n",
       "      <td>34.0</td>\n",
       "      <td>NaN</td>\n",
       "      <td>0.0</td>\n",
       "      <td>Вино Густаре стол.кр. п/сл.11% 0.75л бут/Вилаш...</td>\n",
       "    </tr>\n",
       "    <tr>\n",
       "      <th>2954830</th>\n",
       "      <td>12482031146</td>\n",
       "      <td>106299</td>\n",
       "      <td>NaN</td>\n",
       "      <td>12.0</td>\n",
       "      <td>NaN</td>\n",
       "      <td>0.0</td>\n",
       "      <td>Крупа ячневая</td>\n",
       "    </tr>\n",
       "    <tr>\n",
       "      <th>3657264</th>\n",
       "      <td>14528312335</td>\n",
       "      <td>111066</td>\n",
       "      <td>NaN</td>\n",
       "      <td>38.0</td>\n",
       "      <td>NaN</td>\n",
       "      <td>0.0</td>\n",
       "      <td>Пиво Криница Крепкое свет.паст.6.5% 1.4л ПЭТ /...</td>\n",
       "    </tr>\n",
       "    <tr>\n",
       "      <th>1107199</th>\n",
       "      <td>14107628223</td>\n",
       "      <td>115879</td>\n",
       "      <td>22.0</td>\n",
       "      <td>18.0</td>\n",
       "      <td>NaN</td>\n",
       "      <td>0.0</td>\n",
       "      <td>Хлеб Подовый ржаной простой 450гр нарезка м/уп...</td>\n",
       "    </tr>\n",
       "    <tr>\n",
       "      <th>1771959</th>\n",
       "      <td>9699466264</td>\n",
       "      <td>105784</td>\n",
       "      <td>NaN</td>\n",
       "      <td>22.0</td>\n",
       "      <td>NaN</td>\n",
       "      <td>0.0</td>\n",
       "      <td>Косточка куриная суповая зам. пакет /Птицефабр...</td>\n",
       "    </tr>\n",
       "    <tr>\n",
       "      <th>...</th>\n",
       "      <td>...</td>\n",
       "      <td>...</td>\n",
       "      <td>...</td>\n",
       "      <td>...</td>\n",
       "      <td>...</td>\n",
       "      <td>...</td>\n",
       "      <td>...</td>\n",
       "    </tr>\n",
       "    <tr>\n",
       "      <th>416709</th>\n",
       "      <td>11064835239</td>\n",
       "      <td>104892</td>\n",
       "      <td>23.0</td>\n",
       "      <td>NaN</td>\n",
       "      <td>NaN</td>\n",
       "      <td>0.0</td>\n",
       "      <td>Квас Хлебный 2.5л ПЭТ/Брянскпиво/</td>\n",
       "    </tr>\n",
       "    <tr>\n",
       "      <th>2429654</th>\n",
       "      <td>11343712959</td>\n",
       "      <td>106664</td>\n",
       "      <td>NaN</td>\n",
       "      <td>38.0</td>\n",
       "      <td>NaN</td>\n",
       "      <td>0.0</td>\n",
       "      <td>Лимоны</td>\n",
       "    </tr>\n",
       "    <tr>\n",
       "      <th>2507582</th>\n",
       "      <td>11535046963</td>\n",
       "      <td>107737</td>\n",
       "      <td>NaN</td>\n",
       "      <td>13.0</td>\n",
       "      <td>NaN</td>\n",
       "      <td>0.0</td>\n",
       "      <td>Молоко разливное 4% 1л /Зеленые фермы/</td>\n",
       "    </tr>\n",
       "    <tr>\n",
       "      <th>7098628</th>\n",
       "      <td>15831221851</td>\n",
       "      <td>105645.0</td>\n",
       "      <td>NaN</td>\n",
       "      <td>NaN</td>\n",
       "      <td>42.0</td>\n",
       "      <td>0.0</td>\n",
       "      <td>Корзина ритуальная К20</td>\n",
       "    </tr>\n",
       "    <tr>\n",
       "      <th>1820239</th>\n",
       "      <td>9791584832</td>\n",
       "      <td>113186</td>\n",
       "      <td>NaN</td>\n",
       "      <td>48.0</td>\n",
       "      <td>NaN</td>\n",
       "      <td>0.0</td>\n",
       "      <td>Сельдь с/с /Усвяты/</td>\n",
       "    </tr>\n",
       "  </tbody>\n",
       "</table>\n",
       "<p>100000 rows × 7 columns</p>\n",
       "</div>"
      ],
      "text/plain": [
       "             user_id   item_id  rank_cooc  rank_popular  rank_cos  target  \\\n",
       "2474816  11446568269    101090        NaN          34.0       NaN     0.0   \n",
       "2954830  12482031146    106299        NaN          12.0       NaN     0.0   \n",
       "3657264  14528312335    111066        NaN          38.0       NaN     0.0   \n",
       "1107199  14107628223    115879       22.0          18.0       NaN     0.0   \n",
       "1771959   9699466264    105784        NaN          22.0       NaN     0.0   \n",
       "...              ...       ...        ...           ...       ...     ...   \n",
       "416709   11064835239    104892       23.0           NaN       NaN     0.0   \n",
       "2429654  11343712959    106664        NaN          38.0       NaN     0.0   \n",
       "2507582  11535046963    107737        NaN          13.0       NaN     0.0   \n",
       "7098628  15831221851  105645.0        NaN           NaN      42.0     0.0   \n",
       "1820239   9791584832    113186        NaN          48.0       NaN     0.0   \n",
       "\n",
       "                                                      name  \n",
       "2474816  Вино Густаре стол.кр. п/сл.11% 0.75л бут/Вилаш...  \n",
       "2954830                                      Крупа ячневая  \n",
       "3657264  Пиво Криница Крепкое свет.паст.6.5% 1.4л ПЭТ /...  \n",
       "1107199  Хлеб Подовый ржаной простой 450гр нарезка м/уп...  \n",
       "1771959  Косточка куриная суповая зам. пакет /Птицефабр...  \n",
       "...                                                    ...  \n",
       "416709                   Квас Хлебный 2.5л ПЭТ/Брянскпиво/  \n",
       "2429654                                             Лимоны  \n",
       "2507582             Молоко разливное 4% 1л /Зеленые фермы/  \n",
       "7098628                             Корзина ритуальная К20  \n",
       "1820239                                Сельдь с/с /Усвяты/  \n",
       "\n",
       "[100000 rows x 7 columns]"
      ]
     },
     "execution_count": 67,
     "metadata": {},
     "output_type": "execute_result"
    }
   ],
   "source": [
    "neg = candidates[candidates['target']==0].sample(int(100_000))\n",
    "# neg = pd.merge(neg, items_df, on='item_id', how=\"left\")\n",
    "# neg['name'] = neg['name'].apply(keep_only_russian)\n",
    "neg"
   ]
  },
  {
   "cell_type": "code",
   "execution_count": 68,
   "metadata": {},
   "outputs": [],
   "source": [
    "import warnings\n",
    "from pandas.errors import SettingWithCopyWarning\n",
    "warnings.simplefilter(action=\"ignore\", category=SettingWithCopyWarning)"
   ]
  },
  {
   "cell_type": "code",
   "execution_count": 69,
   "metadata": {},
   "outputs": [],
   "source": [
    "neg, embedding_columns = add_embeddings(neg)"
   ]
  },
  {
   "cell_type": "code",
   "execution_count": 70,
   "metadata": {},
   "outputs": [],
   "source": [
    "pos, _ = add_embeddings(pos)"
   ]
  },
  {
   "cell_type": "code",
   "execution_count": 71,
   "metadata": {},
   "outputs": [],
   "source": [
    "neg = add_devices(neg, test)"
   ]
  },
  {
   "cell_type": "code",
   "execution_count": 72,
   "metadata": {},
   "outputs": [],
   "source": [
    "pos = add_devices(pos, test)"
   ]
  },
  {
   "cell_type": "code",
   "execution_count": 73,
   "metadata": {},
   "outputs": [
    {
     "ename": "KeyError",
     "evalue": "\"['device_id', 'user_id'] not found in axis\"",
     "output_type": "error",
     "traceback": [
      "\u001b[0;31m---------------------------------------------------------------------------\u001b[0m",
      "\u001b[0;31mKeyError\u001b[0m                                  Traceback (most recent call last)",
      "\u001b[1;32m/Users/vladimiragishev/Desktop/Code/Python/RecSys/universalrecsys-hack/classic_model/notebook_debugger.ipynb Cell 45\u001b[0m line \u001b[0;36m1\n\u001b[0;32m----> <a href='vscode-notebook-cell:/Users/vladimiragishev/Desktop/Code/Python/RecSys/universalrecsys-hack/classic_model/notebook_debugger.ipynb#Y331sZmlsZQ%3D%3D?line=0'>1</a>\u001b[0m all_data\u001b[39m.\u001b[39;49mdrop(columns\u001b[39m=\u001b[39;49m[\u001b[39m'\u001b[39;49m\u001b[39mdevice_id\u001b[39;49m\u001b[39m'\u001b[39;49m, \u001b[39m'\u001b[39;49m\u001b[39muser_id\u001b[39;49m\u001b[39m'\u001b[39;49m], inplace\u001b[39m=\u001b[39;49m\u001b[39mTrue\u001b[39;49;00m)\n",
      "File \u001b[0;32m~/Desktop/Code/Python/RecSys/universalrecsys-hack/venv/lib/python3.10/site-packages/pandas/core/frame.py:5347\u001b[0m, in \u001b[0;36mDataFrame.drop\u001b[0;34m(self, labels, axis, index, columns, level, inplace, errors)\u001b[0m\n\u001b[1;32m   5199\u001b[0m \u001b[39mdef\u001b[39;00m \u001b[39mdrop\u001b[39m(\n\u001b[1;32m   5200\u001b[0m     \u001b[39mself\u001b[39m,\n\u001b[1;32m   5201\u001b[0m     labels: IndexLabel \u001b[39m|\u001b[39m \u001b[39mNone\u001b[39;00m \u001b[39m=\u001b[39m \u001b[39mNone\u001b[39;00m,\n\u001b[0;32m   (...)\u001b[0m\n\u001b[1;32m   5208\u001b[0m     errors: IgnoreRaise \u001b[39m=\u001b[39m \u001b[39m\"\u001b[39m\u001b[39mraise\u001b[39m\u001b[39m\"\u001b[39m,\n\u001b[1;32m   5209\u001b[0m ) \u001b[39m-\u001b[39m\u001b[39m>\u001b[39m DataFrame \u001b[39m|\u001b[39m \u001b[39mNone\u001b[39;00m:\n\u001b[1;32m   5210\u001b[0m \u001b[39m    \u001b[39m\u001b[39m\"\"\"\u001b[39;00m\n\u001b[1;32m   5211\u001b[0m \u001b[39m    Drop specified labels from rows or columns.\u001b[39;00m\n\u001b[1;32m   5212\u001b[0m \n\u001b[0;32m   (...)\u001b[0m\n\u001b[1;32m   5345\u001b[0m \u001b[39m            weight  1.0     0.8\u001b[39;00m\n\u001b[1;32m   5346\u001b[0m \u001b[39m    \"\"\"\u001b[39;00m\n\u001b[0;32m-> 5347\u001b[0m     \u001b[39mreturn\u001b[39;00m \u001b[39msuper\u001b[39;49m()\u001b[39m.\u001b[39;49mdrop(\n\u001b[1;32m   5348\u001b[0m         labels\u001b[39m=\u001b[39;49mlabels,\n\u001b[1;32m   5349\u001b[0m         axis\u001b[39m=\u001b[39;49maxis,\n\u001b[1;32m   5350\u001b[0m         index\u001b[39m=\u001b[39;49mindex,\n\u001b[1;32m   5351\u001b[0m         columns\u001b[39m=\u001b[39;49mcolumns,\n\u001b[1;32m   5352\u001b[0m         level\u001b[39m=\u001b[39;49mlevel,\n\u001b[1;32m   5353\u001b[0m         inplace\u001b[39m=\u001b[39;49minplace,\n\u001b[1;32m   5354\u001b[0m         errors\u001b[39m=\u001b[39;49merrors,\n\u001b[1;32m   5355\u001b[0m     )\n",
      "File \u001b[0;32m~/Desktop/Code/Python/RecSys/universalrecsys-hack/venv/lib/python3.10/site-packages/pandas/core/generic.py:4711\u001b[0m, in \u001b[0;36mNDFrame.drop\u001b[0;34m(self, labels, axis, index, columns, level, inplace, errors)\u001b[0m\n\u001b[1;32m   4709\u001b[0m \u001b[39mfor\u001b[39;00m axis, labels \u001b[39min\u001b[39;00m axes\u001b[39m.\u001b[39mitems():\n\u001b[1;32m   4710\u001b[0m     \u001b[39mif\u001b[39;00m labels \u001b[39mis\u001b[39;00m \u001b[39mnot\u001b[39;00m \u001b[39mNone\u001b[39;00m:\n\u001b[0;32m-> 4711\u001b[0m         obj \u001b[39m=\u001b[39m obj\u001b[39m.\u001b[39;49m_drop_axis(labels, axis, level\u001b[39m=\u001b[39;49mlevel, errors\u001b[39m=\u001b[39;49merrors)\n\u001b[1;32m   4713\u001b[0m \u001b[39mif\u001b[39;00m inplace:\n\u001b[1;32m   4714\u001b[0m     \u001b[39mself\u001b[39m\u001b[39m.\u001b[39m_update_inplace(obj)\n",
      "File \u001b[0;32m~/Desktop/Code/Python/RecSys/universalrecsys-hack/venv/lib/python3.10/site-packages/pandas/core/generic.py:4753\u001b[0m, in \u001b[0;36mNDFrame._drop_axis\u001b[0;34m(self, labels, axis, level, errors, only_slice)\u001b[0m\n\u001b[1;32m   4751\u001b[0m         new_axis \u001b[39m=\u001b[39m axis\u001b[39m.\u001b[39mdrop(labels, level\u001b[39m=\u001b[39mlevel, errors\u001b[39m=\u001b[39merrors)\n\u001b[1;32m   4752\u001b[0m     \u001b[39melse\u001b[39;00m:\n\u001b[0;32m-> 4753\u001b[0m         new_axis \u001b[39m=\u001b[39m axis\u001b[39m.\u001b[39;49mdrop(labels, errors\u001b[39m=\u001b[39;49merrors)\n\u001b[1;32m   4754\u001b[0m     indexer \u001b[39m=\u001b[39m axis\u001b[39m.\u001b[39mget_indexer(new_axis)\n\u001b[1;32m   4756\u001b[0m \u001b[39m# Case for non-unique axis\u001b[39;00m\n\u001b[1;32m   4757\u001b[0m \u001b[39melse\u001b[39;00m:\n",
      "File \u001b[0;32m~/Desktop/Code/Python/RecSys/universalrecsys-hack/venv/lib/python3.10/site-packages/pandas/core/indexes/base.py:6992\u001b[0m, in \u001b[0;36mIndex.drop\u001b[0;34m(self, labels, errors)\u001b[0m\n\u001b[1;32m   6990\u001b[0m \u001b[39mif\u001b[39;00m mask\u001b[39m.\u001b[39many():\n\u001b[1;32m   6991\u001b[0m     \u001b[39mif\u001b[39;00m errors \u001b[39m!=\u001b[39m \u001b[39m\"\u001b[39m\u001b[39mignore\u001b[39m\u001b[39m\"\u001b[39m:\n\u001b[0;32m-> 6992\u001b[0m         \u001b[39mraise\u001b[39;00m \u001b[39mKeyError\u001b[39;00m(\u001b[39mf\u001b[39m\u001b[39m\"\u001b[39m\u001b[39m{\u001b[39;00mlabels[mask]\u001b[39m.\u001b[39mtolist()\u001b[39m}\u001b[39;00m\u001b[39m not found in axis\u001b[39m\u001b[39m\"\u001b[39m)\n\u001b[1;32m   6993\u001b[0m     indexer \u001b[39m=\u001b[39m indexer[\u001b[39m~\u001b[39mmask]\n\u001b[1;32m   6994\u001b[0m \u001b[39mreturn\u001b[39;00m \u001b[39mself\u001b[39m\u001b[39m.\u001b[39mdelete(indexer)\n",
      "\u001b[0;31mKeyError\u001b[0m: \"['device_id', 'user_id'] not found in axis\""
     ]
    }
   ],
   "source": [
    "all_data.drop(columns=['device_id', 'user_id'], inplace=True)"
   ]
  },
  {
   "cell_type": "code",
   "execution_count": null,
   "metadata": {},
   "outputs": [],
   "source": [
    "pos = pos.merge(interactions[['user_id', 'local_date']], on='user_id', how=\"inner\").drop_duplicates()"
   ]
  },
  {
   "cell_type": "code",
   "execution_count": null,
   "metadata": {},
   "outputs": [],
   "source": [
    "all_data['item_id'] = all_data['item_id'].astype(np.int64)\n",
    "pos['item_id'] = pos['item_id'].astype(np.int64)"
   ]
  },
  {
   "cell_type": "code",
   "execution_count": null,
   "metadata": {},
   "outputs": [],
   "source": [
    "pos['local_date'] = pd.to_datetime(pos['local_date'], format='%Y-%m-%d', errors='ignore')\n",
    "all_data['local_date'] = pd.to_datetime(all_data['local_date'], format='%Y-%m-%d', errors='ignore')\n",
    "pos = pos.sort_values(by=['local_date'])\n",
    "all_data = all_data.sort_values(by=['local_date'])"
   ]
  },
  {
   "cell_type": "code",
   "execution_count": null,
   "metadata": {},
   "outputs": [],
   "source": [
    "pos = pos.merge(all_data, on=['local_date', 'item_id'], how='inner').drop_duplicates(subset=['user_id', 'local_date', 'item_id'])"
   ]
  },
  {
   "cell_type": "code",
   "execution_count": 74,
   "metadata": {},
   "outputs": [],
   "source": [
    "columns = ['name_firstword', 'name_fstsecword',\n",
    "       'price', 'quantity', 'count_grp_x_x', 'quantity_sum_grp_x_x',\n",
    "       'price_mean_x_x', 'count_grp_7dago_x_x', 'quantity_sum_7dago_x_x',\n",
    "       'price_mean_7dago_x_x', 'count_grp_1week_x_x', 'quantity_sum_1week_x_x',\n",
    "       'price_mean_1week_x_x', 'count_grp_2week_x_x', 'quantity_sum_2week_x_x',\n",
    "       'price_mean_2week_x_x', 'count_grp_31days_x_x',\n",
    "       'quantity_sum_31days_x_x', 'price_mean_31days_x_x', 'item_trend_q7d',\n",
    "       'item_trend_c7d', 'item_trend_qg7d', 'item_trend_c1w2w',\n",
    "       'item_trend_c2w31d', 'item_trend_p7d', 'item_trend_p1w',\n",
    "       'item_trend_p2w', 'item_trend_p31d', 'item_trend_p1w31d',\n",
    "       'count_grp_x_y', 'quantity_sum_grp_x_y',\n",
    "       'price_mean_x_y', 'count_grp_7dago_x_y', 'quantity_sum_7dago_x_y',\n",
    "       'price_mean_7dago_x_y', 'count_grp_1week_x_y', 'quantity_sum_1week_x_y',\n",
    "       'price_mean_1week_x_y', 'count_grp_2week_x_y', 'quantity_sum_2week_x_y',\n",
    "       'price_mean_2week_x_y', 'count_grp_31days_x_y',\n",
    "       'quantity_sum_31days_x_y', 'price_mean_31days_x_y', 'ctgr_trend_c1w',\n",
    "       'ctgr_trend_c2w', 'ctgr_trend_c31d', 'ctgr_trend_q1w', 'ctgr_trend_q2w',\n",
    "       'ctgr_trend_q31d', 'ctgr_share_c', 'ctgr_share_q', 'ctgr_share_c7d',\n",
    "       'ctgr_share_q7d', 'ctgr_share_c1w', 'ctgr_share_q1w', 'ctgr_share_c2w',\n",
    "       'ctgr_share_q2w', 'ctgr_share_c31d', 'ctgr_share_q31d', 'count_grp_x',\n",
    "       'quantity_sum_grp_x', 'price_mean_x', 'count_grp_7dago_x',\n",
    "       'quantity_sum_7dago_x', 'price_mean_7dago_x', 'count_grp_1week_x',\n",
    "       'quantity_sum_1week_x', 'price_mean_1week_x', 'count_grp_2week_x',\n",
    "       'quantity_sum_2week_x', 'price_mean_2week_x', 'count_grp_31days_x',\n",
    "       'quantity_sum_31days_x', 'price_mean_31days_x', 'ctgr2_trend_c1w',\n",
    "       'ctgr2_trend_c2w', 'ctgr2_trend_c31d', 'ctgr2_trend_q1w',\n",
    "       'ctgr2_trend_q2w', 'ctgr2_trend_q31d', 'ctgr2_share_c', 'ctgr2_share_q',\n",
    "       'ctgr2_share_c7d', 'ctgr2_share_q7d', 'ctgr2_share_c1w',\n",
    "       'ctgr2_share_q1w', 'ctgr2_share_c2w', 'ctgr2_share_q2w',\n",
    "       'ctgr2_share_c31d', 'ctgr2_share_q31d']"
   ]
  },
  {
   "cell_type": "code",
   "execution_count": 75,
   "metadata": {},
   "outputs": [],
   "source": [
    "neg = neg.merge(interactions[['user_id', 'local_date']], on='user_id', how=\"inner\").drop_duplicates()"
   ]
  },
  {
   "cell_type": "code",
   "execution_count": 76,
   "metadata": {},
   "outputs": [],
   "source": [
    "neg = neg[neg['item_id']>=0.0]"
   ]
  },
  {
   "cell_type": "code",
   "execution_count": 77,
   "metadata": {},
   "outputs": [],
   "source": [
    "neg['local_date'] = pd.to_datetime(neg['local_date'], format='%Y-%m-%d', errors='ignore')\n",
    "neg['item_id'] = neg['item_id'].astype(np.int64)"
   ]
  },
  {
   "cell_type": "code",
   "execution_count": 78,
   "metadata": {},
   "outputs": [],
   "source": [
    "neg = neg.sort_values(by=['local_date'])"
   ]
  },
  {
   "cell_type": "code",
   "execution_count": 79,
   "metadata": {},
   "outputs": [],
   "source": [
    "neg = pd.merge_asof(neg, all_data, on=\"local_date\", by='item_id', direction='backward')"
   ]
  },
  {
   "cell_type": "code",
   "execution_count": 80,
   "metadata": {},
   "outputs": [],
   "source": [
    "ctb_train_users, ctb_test_users = train_test_split(candidates,\n",
    "                                                       random_state=1,\n",
    "                                                       test_size=0.2)\n",
    "\n",
    "ctb_train_users, ctb_eval_users = train_test_split(ctb_train_users,\n",
    "                                                       random_state=1,\n",
    "                                                       test_size=0.1)"
   ]
  },
  {
   "cell_type": "code",
   "execution_count": 81,
   "metadata": {},
   "outputs": [],
   "source": [
    "select_col = ['user_id', 'item_id', 'rank_popular', 'rank_cos', 'device_number', 'rank_cooc', 'name_y', \\\n",
    "'target'] + embedding_columns + columns\n",
    "\n",
    "    # Catboost train\n",
    "ctb_train = shuffle(\n",
    "        pd.concat([\n",
    "            pos[pos['user_id'].isin(ctb_train_users['user_id'])],\n",
    "            neg[neg['user_id'].isin(ctb_train_users['user_id'])]\n",
    "        ])[select_col]\n",
    "    )\n",
    "\n",
    "    # Catboost test\n",
    "ctb_test = shuffle(\n",
    "        pd.concat([\n",
    "            pos[pos['user_id'].isin(ctb_test_users['user_id'])],\n",
    "            neg[neg['user_id'].isin(ctb_test_users['user_id'])]\n",
    "        ])[select_col]\n",
    "    )\n",
    "\n",
    "    # for early stopping\n",
    "ctb_eval = shuffle(\n",
    "        pd.concat([\n",
    "            pos[pos['user_id'].isin(ctb_eval_users['user_id'])],\n",
    "            neg[neg['user_id'].isin(ctb_eval_users['user_id'])]\n",
    "        ])[select_col]\n",
    "    )\n"
   ]
  },
  {
   "cell_type": "code",
   "execution_count": 82,
   "metadata": {},
   "outputs": [],
   "source": [
    "drop_cols = ['target', 'item_id', 'user_id']\n",
    "X_train_catboost, y_train_catboost = ctb_train.drop(drop_cols, axis=1), ctb_train['target']\n",
    "X_eval_catboost, y_eval_catboost = ctb_eval.drop(drop_cols, axis=1), ctb_eval['target']\n",
    "X_test_catboost, y_test_catboost = ctb_test.drop(drop_cols, axis=1), ctb_test['target']\n",
    "\n",
    "est_params = {\n",
    "        'subsample': 0.9,\n",
    "        'max_depth': 5,\n",
    "        'n_estimators': 2000,\n",
    "        'learning_rate': 0.1,\n",
    "        'thread_count': 20,\n",
    "        'random_state': 42,\n",
    "        'verbose': 200,\n",
    "    }"
   ]
  },
  {
   "cell_type": "code",
   "execution_count": 83,
   "metadata": {},
   "outputs": [],
   "source": [
    "X_train_catboost[['name_y', 'name_firstword', 'name_fstsecword']] = X_train_catboost[['name_y', 'name_firstword', 'name_fstsecword']].astype(str)"
   ]
  },
  {
   "cell_type": "code",
   "execution_count": 84,
   "metadata": {},
   "outputs": [],
   "source": [
    "X_train_catboost[['name_y', 'name_firstword', 'name_fstsecword']] = X_train_catboost[['name_y', 'name_firstword', 'name_fstsecword']].fillna(' ')"
   ]
  },
  {
   "cell_type": "code",
   "execution_count": 85,
   "metadata": {},
   "outputs": [
    {
     "data": {
      "text/plain": [
       "88122     Сметана Молочный гостинец гр пл ст ГП Молочный...\n",
       "1691      Морож Фабрика мороженого Славестино гр эскимо ...\n",
       "45016                                                   nan\n",
       "997684                                                  nan\n",
       "79775                                     Хлеб Дарницкий гр\n",
       "                                ...                        \n",
       "7799                                                    nan\n",
       "12724                 Вермишель б п Экспресс гр курица м уп\n",
       "23546                                                   nan\n",
       "74045                          Мак изд Знатные Рожки рифл В\n",
       "77679                К ты Желейные глаз апельсиновые Яшкино\n",
       "Name: name_y, Length: 154552, dtype: object"
      ]
     },
     "execution_count": 85,
     "metadata": {},
     "output_type": "execute_result"
    }
   ],
   "source": [
    "X_train_catboost['name_y']"
   ]
  },
  {
   "cell_type": "code",
   "execution_count": 86,
   "metadata": {},
   "outputs": [],
   "source": [
    "X_eval_catboost[['name_y', 'name_firstword', 'name_fstsecword']] = X_eval_catboost[['name_y', 'name_firstword', 'name_fstsecword']].astype(str)"
   ]
  },
  {
   "cell_type": "code",
   "execution_count": 87,
   "metadata": {},
   "outputs": [],
   "source": [
    "X_train_catboost.drop(columns=['name_firstword', 'name_fstsecword'], inplace=True)\n",
    "X_eval_catboost.drop(columns=['name_firstword', 'name_fstsecword'], inplace=True)"
   ]
  },
  {
   "cell_type": "code",
   "execution_count": 88,
   "metadata": {},
   "outputs": [
    {
     "name": "stderr",
     "output_type": "stream",
     "text": [
      "TBB Warning: The number of workers is currently limited to 7. The request for 19 workers is ignored. Further requests for more workers will be silently ignored until the limit changes.\n",
      "\n"
     ]
    },
    {
     "name": "stdout",
     "output_type": "stream",
     "text": [
      "0:\tlearn: 0.4654153\ttest: 0.4654151\tbest: 0.4654151 (0)\ttotal: 333ms\tremaining: 11m 4s\n"
     ]
    }
   ],
   "source": [
    "ctb_model = CatBoostClassifier(**est_params)\n",
    "cat_col = ['device_number']\n",
    "ctb_model.fit(X_train_catboost,\n",
    "                y_train_catboost,\n",
    "                eval_set=(X_eval_catboost, y_eval_catboost),\n",
    "                early_stopping_rounds=100,\n",
    "                cat_features=cat_col,\n",
    "                text_features=['name_y'],\n",
    "                plot=False)\n",
    "\n",
    "preds = ctb_model.predict(X_test_catboost)\n",
    "print(accuracy_score(y_test_catboost, preds))"
   ]
  },
  {
   "cell_type": "code",
   "execution_count": 150,
   "metadata": {},
   "outputs": [
    {
     "ename": "CatBoostError",
     "evalue": "There is no trained model to use predict_proba(). Use fit() to train model. Then use this method.",
     "output_type": "error",
     "traceback": [
      "\u001b[0;31m---------------------------------------------------------------------------\u001b[0m",
      "\u001b[0;31mCatBoostError\u001b[0m                             Traceback (most recent call last)",
      "\u001b[1;32m/Users/vladimiragishev/Desktop/Code/Python/RecSys/universalrecsys-hack/classic_model/notebook_debugger.ipynb Cell 61\u001b[0m line \u001b[0;36m1\n\u001b[0;32m----> <a href='vscode-notebook-cell:/Users/vladimiragishev/Desktop/Code/Python/RecSys/universalrecsys-hack/classic_model/notebook_debugger.ipynb#Y113sZmlsZQ%3D%3D?line=0'>1</a>\u001b[0m ctb_prediction \u001b[39m=\u001b[39m ctb_model\u001b[39m.\u001b[39;49mpredict_proba(X_test_catboost\u001b[39m.\u001b[39;49mdrop(drop_cols, axis\u001b[39m=\u001b[39;49m\u001b[39m1\u001b[39;49m, errors\u001b[39m=\u001b[39;49m\u001b[39m'\u001b[39;49m\u001b[39mignore\u001b[39;49m\u001b[39m'\u001b[39;49m))\n\u001b[1;32m      <a href='vscode-notebook-cell:/Users/vladimiragishev/Desktop/Code/Python/RecSys/universalrecsys-hack/classic_model/notebook_debugger.ipynb#Y113sZmlsZQ%3D%3D?line=1'>2</a>\u001b[0m X_test_catboost[\u001b[39m'\u001b[39m\u001b[39mctb_pred\u001b[39m\u001b[39m'\u001b[39m] \u001b[39m=\u001b[39m ctb_prediction[:, \u001b[39m1\u001b[39m]\n",
      "File \u001b[0;32m~/Desktop/Code/Python/RecSys/universalrecsys-hack/venv/lib/python3.10/site-packages/catboost/core.py:5194\u001b[0m, in \u001b[0;36mCatBoostClassifier.predict_proba\u001b[0;34m(self, X, ntree_start, ntree_end, thread_count, verbose, task_type)\u001b[0m\n\u001b[1;32m   5158\u001b[0m \u001b[39mdef\u001b[39;00m \u001b[39mpredict_proba\u001b[39m(\u001b[39mself\u001b[39m, X, ntree_start\u001b[39m=\u001b[39m\u001b[39m0\u001b[39m, ntree_end\u001b[39m=\u001b[39m\u001b[39m0\u001b[39m, thread_count\u001b[39m=\u001b[39m\u001b[39m-\u001b[39m\u001b[39m1\u001b[39m, verbose\u001b[39m=\u001b[39m\u001b[39mNone\u001b[39;00m, task_type\u001b[39m=\u001b[39m\u001b[39m\"\u001b[39m\u001b[39mCPU\u001b[39m\u001b[39m\"\u001b[39m):\n\u001b[1;32m   5159\u001b[0m \u001b[39m    \u001b[39m\u001b[39m\"\"\"\u001b[39;00m\n\u001b[1;32m   5160\u001b[0m \u001b[39m    Predict class probability with X.\u001b[39;00m\n\u001b[1;32m   5161\u001b[0m \n\u001b[0;32m   (...)\u001b[0m\n\u001b[1;32m   5192\u001b[0m \u001b[39m            with probability for every class for each object.\u001b[39;00m\n\u001b[1;32m   5193\u001b[0m \u001b[39m    \"\"\"\u001b[39;00m\n\u001b[0;32m-> 5194\u001b[0m     \u001b[39mreturn\u001b[39;00m \u001b[39mself\u001b[39;49m\u001b[39m.\u001b[39;49m_predict(X, \u001b[39m'\u001b[39;49m\u001b[39mProbability\u001b[39;49m\u001b[39m'\u001b[39;49m, ntree_start, ntree_end, thread_count, verbose, \u001b[39m'\u001b[39;49m\u001b[39mpredict_proba\u001b[39;49m\u001b[39m'\u001b[39;49m, task_type)\n",
      "File \u001b[0;32m~/Desktop/Code/Python/RecSys/universalrecsys-hack/venv/lib/python3.10/site-packages/catboost/core.py:2505\u001b[0m, in \u001b[0;36mCatBoost._predict\u001b[0;34m(self, data, prediction_type, ntree_start, ntree_end, thread_count, verbose, parent_method_name, task_type)\u001b[0m\n\u001b[1;32m   2503\u001b[0m \u001b[39mif\u001b[39;00m verbose \u001b[39mis\u001b[39;00m \u001b[39mNone\u001b[39;00m:\n\u001b[1;32m   2504\u001b[0m     verbose \u001b[39m=\u001b[39m \u001b[39mFalse\u001b[39;00m\n\u001b[0;32m-> 2505\u001b[0m data, data_is_single_object \u001b[39m=\u001b[39m \u001b[39mself\u001b[39;49m\u001b[39m.\u001b[39;49m_process_predict_input_data(data, parent_method_name, thread_count)\n\u001b[1;32m   2506\u001b[0m \u001b[39mself\u001b[39m\u001b[39m.\u001b[39m_validate_prediction_type(prediction_type)\n\u001b[1;32m   2508\u001b[0m predictions \u001b[39m=\u001b[39m \u001b[39mself\u001b[39m\u001b[39m.\u001b[39m_base_predict(data, prediction_type, ntree_start, ntree_end, thread_count, verbose, task_type)\n",
      "File \u001b[0;32m~/Desktop/Code/Python/RecSys/universalrecsys-hack/venv/lib/python3.10/site-packages/catboost/core.py:2481\u001b[0m, in \u001b[0;36mCatBoost._process_predict_input_data\u001b[0;34m(self, data, parent_method_name, thread_count, label)\u001b[0m\n\u001b[1;32m   2479\u001b[0m \u001b[39mdef\u001b[39;00m \u001b[39m_process_predict_input_data\u001b[39m(\u001b[39mself\u001b[39m, data, parent_method_name, thread_count, label\u001b[39m=\u001b[39m\u001b[39mNone\u001b[39;00m):\n\u001b[1;32m   2480\u001b[0m     \u001b[39mif\u001b[39;00m \u001b[39mnot\u001b[39;00m \u001b[39mself\u001b[39m\u001b[39m.\u001b[39mis_fitted() \u001b[39mor\u001b[39;00m \u001b[39mself\u001b[39m\u001b[39m.\u001b[39mtree_count_ \u001b[39mis\u001b[39;00m \u001b[39mNone\u001b[39;00m:\n\u001b[0;32m-> 2481\u001b[0m         \u001b[39mraise\u001b[39;00m CatBoostError((\u001b[39m\"\u001b[39m\u001b[39mThere is no trained model to use \u001b[39m\u001b[39m{}\u001b[39;00m\u001b[39m(). \u001b[39m\u001b[39m\"\u001b[39m\n\u001b[1;32m   2482\u001b[0m                              \u001b[39m\"\u001b[39m\u001b[39mUse fit() to train model. Then use this method.\u001b[39m\u001b[39m\"\u001b[39m)\u001b[39m.\u001b[39mformat(parent_method_name))\n\u001b[1;32m   2483\u001b[0m     is_single_object \u001b[39m=\u001b[39m _is_data_single_object(data)\n\u001b[1;32m   2484\u001b[0m     \u001b[39mif\u001b[39;00m \u001b[39mnot\u001b[39;00m \u001b[39misinstance\u001b[39m(data, Pool):\n",
      "\u001b[0;31mCatBoostError\u001b[0m: There is no trained model to use predict_proba(). Use fit() to train model. Then use this method."
     ]
    }
   ],
   "source": [
    "ctb_prediction = ctb_model.predict_proba(X_test_catboost.drop(drop_cols, axis=1, errors='ignore'))\n",
    "X_test_catboost['ctb_pred'] = ctb_prediction[:, 1]"
   ]
  },
  {
   "cell_type": "code",
   "execution_count": null,
   "metadata": {},
   "outputs": [],
   "source": [
    "candidates = candidates.sort_values(\n",
    "     by=['user_id', 'ctb_pred'], ascending=[True, False])\n",
    "candidates['rank_ctb'] = candidates.groupby('user_id').cumcount() + 1"
   ]
  },
  {
   "cell_type": "code",
   "execution_count": null,
   "metadata": {},
   "outputs": [],
   "source": [
    "def compute_metrics(df_true, df_pred, top_N, rank_col):\n",
    "    result = {}\n",
    "    test_recs = df_true.set_index(['user_id', 'item_id']).join(df_pred.set_index(['user_id', 'item_id']))\n",
    "    test_recs = test_recs.sort_values(by=['user_id', rank_col])\n",
    "\n",
    "    test_recs['users_item_count'] = test_recs.groupby(level='user_id')[rank_col].transform(np.size)\n",
    "    test_recs['reciprocal_rank'] = (1 / test_recs[rank_col]).fillna(0)\n",
    "    test_recs['cumulative_rank'] = test_recs.groupby(level='user_id').cumcount() + 1\n",
    "    test_recs['cumulative_rank'] = test_recs['cumulative_rank'] / test_recs[rank_col]\n",
    "\n",
    "    users_count = test_recs.index.get_level_values('user_id').nunique()\n",
    "    for k in range(1, top_N + 1):\n",
    "        hit_k = f'hit@{k}'\n",
    "        test_recs[hit_k] = test_recs[rank_col] <= k\n",
    "        result[f'Precision@{k}'] = (test_recs[hit_k] / k).sum() / users_count\n",
    "        result[f'Recall@{k}'] = (test_recs[hit_k] / test_recs['users_item_count']).sum() / users_count\n",
    "\n",
    "    result[f'MAP@{top_N}'] = (test_recs[\"cumulative_rank\"] / test_recs[\"users_item_count\"]).sum() / users_count\n",
    "    result[f'MRR'] = test_recs.groupby(level='user_id')['reciprocal_rank'].max().mean()\n",
    "    return pd.Series(result)"
   ]
  },
  {
   "cell_type": "code",
   "execution_count": null,
   "metadata": {},
   "outputs": [],
   "source": [
    "compute_metrics(y_test, candidates[['user_id', 'item_id', 'rank_ctb']], 10, rank_col='rank_ctb')"
   ]
  },
  {
   "cell_type": "code",
   "execution_count": 175,
   "metadata": {},
   "outputs": [],
   "source": [
    "cosin_model_val = COSIN(interactions_val, top_N=50)"
   ]
  },
  {
   "cell_type": "code",
   "execution_count": 176,
   "metadata": {},
   "outputs": [
    {
     "name": "stderr",
     "output_type": "stream",
     "text": [
      "/Users/vladimiragishev/Desktop/Code/Python/RecSys/universalrecsys-hack/venv/lib/python3.10/site-packages/implicit/utils.py:138: ParameterWarning: Method expects CSR input, and was passed coo_matrix instead. Converting to CSR took 0.0011608600616455078 seconds\n",
      "  warnings.warn(\n"
     ]
    },
    {
     "data": {
      "application/vnd.jupyter.widget-view+json": {
       "model_id": "4f048a9e0c7a4a208aa1a8fe96ad3731",
       "version_major": 2,
       "version_minor": 0
      },
      "text/plain": [
       "  0%|          | 0/11298 [00:00<?, ?it/s]"
      ]
     },
     "metadata": {},
     "output_type": "display_data"
    }
   ],
   "source": [
    "cosin_model_val.train()"
   ]
  },
  {
   "cell_type": "code",
   "execution_count": 177,
   "metadata": {},
   "outputs": [],
   "source": [
    "pops_table_test = popularmakePreds(popular_model, interactions_val, 50)"
   ]
  },
  {
   "cell_type": "code",
   "execution_count": 178,
   "metadata": {},
   "outputs": [],
   "source": [
    "coon_candidates_test = coocmakePreds(cooc_models, interactions_val, 50)"
   ]
  },
  {
   "cell_type": "code",
   "execution_count": 179,
   "metadata": {},
   "outputs": [],
   "source": [
    "preds = cosin_model_val.predict(interactions_val['user_id'].unique())\n",
    "preds = preds[['users', 'rnk', 'items']]\n",
    "preds.columns = ['user_id', 'rank_cos', 'item_id']"
   ]
  },
  {
   "cell_type": "code",
   "execution_count": 180,
   "metadata": {},
   "outputs": [],
   "source": [
    "candidates_test = pd.merge(coon_candidates_test, pops_table_test, on=['user_id', 'item_id'], how='outer')\n",
    "candidates_test = pd.merge(candidates_test, preds, on=['user_id', 'item_id'], how='outer')"
   ]
  },
  {
   "cell_type": "code",
   "execution_count": 181,
   "metadata": {},
   "outputs": [],
   "source": [
    "candidates_test, _ = add_embeddings(candidates_test)"
   ]
  },
  {
   "cell_type": "code",
   "execution_count": 182,
   "metadata": {},
   "outputs": [],
   "source": [
    "candidates_test = add_devices(candidates_test, interactions_val)"
   ]
  },
  {
   "cell_type": "code",
   "execution_count": 183,
   "metadata": {},
   "outputs": [],
   "source": [
    "candidates_test = candidates_test.merge(interactions_val[['user_id', 'local_date']], on='user_id', how=\"inner\").drop_duplicates()"
   ]
  },
  {
   "cell_type": "code",
   "execution_count": 185,
   "metadata": {},
   "outputs": [],
   "source": [
    "candidates_test = candidates_test[candidates_test['item_id']>=0.0]"
   ]
  },
  {
   "cell_type": "code",
   "execution_count": 186,
   "metadata": {},
   "outputs": [],
   "source": [
    "candidates_test['local_date'] = pd.to_datetime(candidates_test['local_date'], format='%Y-%m-%d', errors='ignore')\n",
    "candidates_test['item_id'] = candidates_test['item_id'].astype(np.int64)\n",
    "candidates_test = candidates_test.sort_values(by=['local_date'])"
   ]
  },
  {
   "cell_type": "code",
   "execution_count": 187,
   "metadata": {},
   "outputs": [],
   "source": [
    "candidates_test = pd.merge_asof(candidates_test, all_data, on=\"local_date\", by='item_id', direction='backward')"
   ]
  },
  {
   "cell_type": "code",
   "execution_count": 192,
   "metadata": {},
   "outputs": [],
   "source": [
    "candidates_test.rename(columns={'name':'name_y'}, inplace=True)"
   ]
  },
  {
   "cell_type": "code",
   "execution_count": 193,
   "metadata": {},
   "outputs": [],
   "source": [
    "candidates_test_2 = candidates_test[list(X_train_catboost.columns) + ['item_id', 'user_id']]"
   ]
  },
  {
   "cell_type": "code",
   "execution_count": 195,
   "metadata": {},
   "outputs": [],
   "source": [
    "candidates_test_2['name_y'] = candidates_test_2['name_y'].astype(str)"
   ]
  },
  {
   "cell_type": "code",
   "execution_count": 196,
   "metadata": {},
   "outputs": [
    {
     "ename": "",
     "evalue": "",
     "output_type": "error",
     "traceback": [
      "\u001b[1;31mThe Kernel crashed while executing code in the the current cell or a previous cell. Please review the code in the cell(s) to identify a possible cause of the failure. Click <a href='https://aka.ms/vscodeJupyterKernelCrash'>here</a> for more info. View Jupyter <a href='command:jupyter.viewOutput'>log</a> for further details."
     ]
    }
   ],
   "source": [
    "ctb_prediction_test = ctb_model.predict_proba(candidates_test_2.drop(['item_id', 'user_id'], axis=1))\n",
    "candidates_test_2['ctb_pred'] = ctb_prediction_test[:, 1]"
   ]
  },
  {
   "cell_type": "code",
   "execution_count": null,
   "metadata": {},
   "outputs": [],
   "source": [
    "candidates_test_2 = candidates_test_2.sort_values(\n",
    "     by=['user_id', 'ctb_pred'], ascending=[True, False])\n",
    "candidates_test_2['rank_ctb'] = candidates_test_2.groupby('user_id').cumcount() + 1"
   ]
  },
  {
   "cell_type": "code",
   "execution_count": null,
   "metadata": {},
   "outputs": [],
   "source": [
    "interactions_val_target.columns = ['user_id', 'item_id']"
   ]
  },
  {
   "cell_type": "code",
   "execution_count": null,
   "metadata": {},
   "outputs": [],
   "source": [
    "interactions_val.to_csv('val_dataset.csv')"
   ]
  },
  {
   "cell_type": "code",
   "execution_count": null,
   "metadata": {},
   "outputs": [],
   "source": [
    "compute_metrics(interactions_val_target, candidates_test_2[['user_id', 'item_id', 'rank_ctb']], 10, rank_col='rank_ctb')"
   ]
  },
  {
   "cell_type": "code",
   "execution_count": null,
   "metadata": {},
   "outputs": [],
   "source": [
    "candidates_test_2[['user_id', 'item_id', 'rank_ctb']].loc[candidates_test_2['rank_ctb'] == 1].to_csv(\"val_predictions.csv\")"
   ]
  },
  {
   "cell_type": "code",
   "execution_count": null,
   "metadata": {},
   "outputs": [],
   "source": [
    "firsts = candidates_test_2[['user_id', 'item_id', 'rank_ctb']].loc[candidates_test_2['rank_ctb'] == 1].user_id"
   ]
  },
  {
   "cell_type": "code",
   "execution_count": null,
   "metadata": {},
   "outputs": [],
   "source": [
    "interactions_val_target.user_id.values"
   ]
  },
  {
   "cell_type": "code",
   "execution_count": null,
   "metadata": {},
   "outputs": [],
   "source": [
    "for i in firsts:\n",
    "    real = interactions_val_target.loc[interactions_val_target['receipt_id'] == i]\n",
    "    pred = candidates_test_2.loc[candidates_test_2['user_id'] == i]\n",
    "    if real['item_id'].values[0] == pred['item_id'].values[0]:\n",
    "        print(i)"
   ]
  },
  {
   "cell_type": "code",
   "execution_count": null,
   "metadata": {},
   "outputs": [],
   "source": []
  }
 ],
 "metadata": {
  "kernelspec": {
   "display_name": "venv",
   "language": "python",
   "name": "python3"
  },
  "language_info": {
   "codemirror_mode": {
    "name": "ipython",
    "version": 3
   },
   "file_extension": ".py",
   "mimetype": "text/x-python",
   "name": "python",
   "nbconvert_exporter": "python",
   "pygments_lexer": "ipython3",
   "version": "3.10.4"
  },
  "orig_nbformat": 4
 },
 "nbformat": 4,
 "nbformat_minor": 2
}
